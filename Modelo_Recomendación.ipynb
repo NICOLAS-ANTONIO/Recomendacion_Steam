{
 "cells": [
  {
   "cell_type": "code",
   "execution_count": 1,
   "metadata": {},
   "outputs": [],
   "source": [
    "import pandas as pd\n",
    "from sklearn.decomposition import PCA\n",
    "from sklearn.metrics.pairwise import cosine_similarity"
   ]
  },
  {
   "cell_type": "code",
   "execution_count": 2,
   "metadata": {},
   "outputs": [],
   "source": [
    "# Nombres de los archivos parquet\n",
    "archivos_parquet = ['clean_df_ur.parquet', 'definitivo_df_ui.parquet', 'definitivo_df_sg.parquet']\n",
    "\n",
    "# Cargar el primer archivo parquet\n",
    "df_ur = pd.read_parquet('DataSet/' + archivos_parquet[0])\n",
    "\n",
    "# Cargar el segundo archivo parquet\n",
    "df_ui = pd.read_parquet('DataSet/' + archivos_parquet[1])\n",
    "\n",
    "# Cargar el tercer archivo parquet\n",
    "df_sg = pd.read_parquet('DataSet/' + archivos_parquet[2])"
   ]
  },
  {
   "cell_type": "code",
   "execution_count": 3,
   "metadata": {},
   "outputs": [
    {
     "name": "stdout",
     "output_type": "stream",
     "text": [
      "   playtime_forever_log  price\n",
      "0              1.945910   9.99\n",
      "1              4.543295   9.99\n",
      "2              4.691348   9.99\n",
      "3              5.796058   9.99\n",
      "4              8.744488   9.99\n"
     ]
    }
   ],
   "source": [
    "# Combinar df_ui y df_sg\n",
    "combined_df = pd.merge(df_ui[['item_id', 'playtime_forever_log']], \n",
    "                       df_sg[['id', 'price']], \n",
    "                       left_on='item_id', \n",
    "                       right_on='id')\n",
    "\n",
    "# Seleccionar las columnas que representarán las características\n",
    "game_features = combined_df[['playtime_forever_log', 'price']]\n",
    "\n",
    "# verificar características\n",
    "print(game_features.head())\n"
   ]
  },
  {
   "cell_type": "code",
   "execution_count": 4,
   "metadata": {},
   "outputs": [],
   "source": [
    "# Aplicar PCA para reducir la dimensionalidad\n",
    "pca = PCA(n_components=2)  \n",
    "game_features_reduced = pca.fit_transform(game_features)\n"
   ]
  },
  {
   "cell_type": "code",
   "execution_count": 5,
   "metadata": {},
   "outputs": [],
   "source": [
    "def recomendacion_juego(game_id, game_features_reduced, df_ui, top_n=5):\n",
    "    # Encuentra el vector de características para el juego dado\n",
    "    game_vector = game_features_reduced[game_id:game_id+1]\n",
    "\n",
    "    # Calcula la similitud del coseno entre este juego y todos los demás\n",
    "    cosine_similarities = cosine_similarity(game_vector, game_features_reduced)\n",
    "\n",
    "    # Obtener los índices de los juegos más similares\n",
    "    similar_games_indices = cosine_similarities.argsort()[0][-top_n-1:-1][::-1]\n",
    "\n",
    "    # Excluir el propio juego de las recomendaciones\n",
    "    similar_games_indices = [i for i in similar_games_indices if i != game_id]\n",
    "\n",
    "    # Mapear los índices a nombres de juegos\n",
    "    recommended_games = df_ui.loc[similar_games_indices, 'item_name']\n",
    "\n",
    "    return recommended_games[:top_n].tolist()\n",
    "\n",
    "\n"
   ]
  },
  {
   "cell_type": "code",
   "execution_count": 6,
   "metadata": {},
   "outputs": [
    {
     "name": "stdout",
     "output_type": "stream",
     "text": [
      "['Kerbal Space Program', \"Tom Clancy's Ghost Recon Phantoms - NA\", 'Guncraft', 'Tropico 5', 'VVVVVV']\n"
     ]
    }
   ],
   "source": [
    "# Ejemplo de uso\n",
    "id_del_juego = 227300  \n",
    "print(recomendacion_juego(id_del_juego, game_features_reduced, df_ui))"
   ]
  },
  {
   "cell_type": "code",
   "execution_count": null,
   "metadata": {},
   "outputs": [],
   "source": [
    "# Combinar df_ui y df_sg\n",
    "combined_df = pd.merge(df_ui[['item_id', 'playtime_forever_log']], \n",
    "                       df_sg[['id', 'price']], \n",
    "                       left_on='item_id', \n",
    "                       right_on='id')\n",
    "\n",
    "# Seleccionar las columnas que representarán tus características\n",
    "game_features = combined_df[['playtime_forever_log', 'price']]\n",
    "\n",
    "# Aplicar PCA para reducir la dimensionalidad\n",
    "pca = PCA(n_components=2)  # Ajusta el número de componentes según sea necesario\n",
    "game_features_reduced = pca.fit_transform(game_features)\n",
    "\n",
    "def recomendacion_juego(game_id, game_features_reduced, df_ui, top_n=5):\n",
    "    # Encuentra el vector de características para el juego dado\n",
    "    game_vector = game_features_reduced[game_id:game_id+1]\n",
    "\n",
    "    # Calcula la similitud del coseno entre este juego y todos los demás\n",
    "    cosine_similarities = cosine_similarity(game_vector, game_features_reduced)\n",
    "\n",
    "    # Obtener los índices de los juegos más similares\n",
    "    similar_games_indices = cosine_similarities.argsort()[0][-top_n-1:-1][::-1]\n",
    "\n",
    "    # Excluir el propio juego de las recomendaciones\n",
    "    similar_games_indices = [i for i in similar_games_indices if i != game_id]\n",
    "\n",
    "    # Mapear los índices a nombres de juegos\n",
    "    recommended_games = df_ui.loc[similar_games_indices, 'item_name']\n",
    "\n",
    "    return recommended_games[:top_n].tolist()\n",
    "\n",
    "# Ejemplo de uso\n",
    "id_del_juego = 227300  \n",
    "print(recomendacion_juego(id_del_juego, game_features_reduced, df_ui))"
   ]
  }
 ],
 "metadata": {
  "kernelspec": {
   "display_name": "mi_entorno_steam",
   "language": "python",
   "name": "python3"
  },
  "language_info": {
   "codemirror_mode": {
    "name": "ipython",
    "version": 3
   },
   "file_extension": ".py",
   "mimetype": "text/x-python",
   "name": "python",
   "nbconvert_exporter": "python",
   "pygments_lexer": "ipython3",
   "version": "3.11.5"
  }
 },
 "nbformat": 4,
 "nbformat_minor": 2
}
