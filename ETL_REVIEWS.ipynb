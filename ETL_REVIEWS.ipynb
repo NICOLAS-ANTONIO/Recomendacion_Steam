{
 "cells": [
  {
   "cell_type": "code",
   "execution_count": 1,
   "metadata": {},
   "outputs": [
    {
     "data": {
      "text/html": [
       "<div>\n",
       "<style scoped>\n",
       "    .dataframe tbody tr th:only-of-type {\n",
       "        vertical-align: middle;\n",
       "    }\n",
       "\n",
       "    .dataframe tbody tr th {\n",
       "        vertical-align: top;\n",
       "    }\n",
       "\n",
       "    .dataframe thead th {\n",
       "        text-align: right;\n",
       "    }\n",
       "</style>\n",
       "<table border=\"1\" class=\"dataframe\">\n",
       "  <thead>\n",
       "    <tr style=\"text-align: right;\">\n",
       "      <th></th>\n",
       "      <th>user_id</th>\n",
       "      <th>user_url</th>\n",
       "      <th>reviews</th>\n",
       "    </tr>\n",
       "  </thead>\n",
       "  <tbody>\n",
       "    <tr>\n",
       "      <th>0</th>\n",
       "      <td>76561197970982479</td>\n",
       "      <td>http://steamcommunity.com/profiles/76561197970...</td>\n",
       "      <td>[{'funny': '', 'posted': 'Posted November 5, 2...</td>\n",
       "    </tr>\n",
       "    <tr>\n",
       "      <th>1</th>\n",
       "      <td>js41637</td>\n",
       "      <td>http://steamcommunity.com/id/js41637</td>\n",
       "      <td>[{'funny': '', 'posted': 'Posted June 24, 2014...</td>\n",
       "    </tr>\n",
       "    <tr>\n",
       "      <th>2</th>\n",
       "      <td>evcentric</td>\n",
       "      <td>http://steamcommunity.com/id/evcentric</td>\n",
       "      <td>[{'funny': '', 'posted': 'Posted February 3.',...</td>\n",
       "    </tr>\n",
       "    <tr>\n",
       "      <th>3</th>\n",
       "      <td>doctr</td>\n",
       "      <td>http://steamcommunity.com/id/doctr</td>\n",
       "      <td>[{'funny': '', 'posted': 'Posted October 14, 2...</td>\n",
       "    </tr>\n",
       "    <tr>\n",
       "      <th>4</th>\n",
       "      <td>maplemage</td>\n",
       "      <td>http://steamcommunity.com/id/maplemage</td>\n",
       "      <td>[{'funny': '3 people found this review funny',...</td>\n",
       "    </tr>\n",
       "    <tr>\n",
       "      <th>...</th>\n",
       "      <td>...</td>\n",
       "      <td>...</td>\n",
       "      <td>...</td>\n",
       "    </tr>\n",
       "    <tr>\n",
       "      <th>25794</th>\n",
       "      <td>76561198306599751</td>\n",
       "      <td>http://steamcommunity.com/profiles/76561198306...</td>\n",
       "      <td>[{'funny': '', 'posted': 'Posted May 31.', 'la...</td>\n",
       "    </tr>\n",
       "    <tr>\n",
       "      <th>25795</th>\n",
       "      <td>Ghoustik</td>\n",
       "      <td>http://steamcommunity.com/id/Ghoustik</td>\n",
       "      <td>[{'funny': '', 'posted': 'Posted June 17.', 'l...</td>\n",
       "    </tr>\n",
       "    <tr>\n",
       "      <th>25796</th>\n",
       "      <td>76561198310819422</td>\n",
       "      <td>http://steamcommunity.com/profiles/76561198310...</td>\n",
       "      <td>[{'funny': '1 person found this review funny',...</td>\n",
       "    </tr>\n",
       "    <tr>\n",
       "      <th>25797</th>\n",
       "      <td>76561198312638244</td>\n",
       "      <td>http://steamcommunity.com/profiles/76561198312...</td>\n",
       "      <td>[{'funny': '', 'posted': 'Posted July 21.', 'l...</td>\n",
       "    </tr>\n",
       "    <tr>\n",
       "      <th>25798</th>\n",
       "      <td>LydiaMorley</td>\n",
       "      <td>http://steamcommunity.com/id/LydiaMorley</td>\n",
       "      <td>[{'funny': '1 person found this review funny',...</td>\n",
       "    </tr>\n",
       "  </tbody>\n",
       "</table>\n",
       "<p>25799 rows × 3 columns</p>\n",
       "</div>"
      ],
      "text/plain": [
       "                 user_id                                           user_url  \\\n",
       "0      76561197970982479  http://steamcommunity.com/profiles/76561197970...   \n",
       "1                js41637               http://steamcommunity.com/id/js41637   \n",
       "2              evcentric             http://steamcommunity.com/id/evcentric   \n",
       "3                  doctr                 http://steamcommunity.com/id/doctr   \n",
       "4              maplemage             http://steamcommunity.com/id/maplemage   \n",
       "...                  ...                                                ...   \n",
       "25794  76561198306599751  http://steamcommunity.com/profiles/76561198306...   \n",
       "25795           Ghoustik              http://steamcommunity.com/id/Ghoustik   \n",
       "25796  76561198310819422  http://steamcommunity.com/profiles/76561198310...   \n",
       "25797  76561198312638244  http://steamcommunity.com/profiles/76561198312...   \n",
       "25798        LydiaMorley           http://steamcommunity.com/id/LydiaMorley   \n",
       "\n",
       "                                                 reviews  \n",
       "0      [{'funny': '', 'posted': 'Posted November 5, 2...  \n",
       "1      [{'funny': '', 'posted': 'Posted June 24, 2014...  \n",
       "2      [{'funny': '', 'posted': 'Posted February 3.',...  \n",
       "3      [{'funny': '', 'posted': 'Posted October 14, 2...  \n",
       "4      [{'funny': '3 people found this review funny',...  \n",
       "...                                                  ...  \n",
       "25794  [{'funny': '', 'posted': 'Posted May 31.', 'la...  \n",
       "25795  [{'funny': '', 'posted': 'Posted June 17.', 'l...  \n",
       "25796  [{'funny': '1 person found this review funny',...  \n",
       "25797  [{'funny': '', 'posted': 'Posted July 21.', 'l...  \n",
       "25798  [{'funny': '1 person found this review funny',...  \n",
       "\n",
       "[25799 rows x 3 columns]"
      ]
     },
     "execution_count": 1,
     "metadata": {},
     "output_type": "execute_result"
    }
   ],
   "source": [
    "import ast\n",
    "import pandas as pd\n",
    "\n",
    "reviews = []\n",
    "\n",
    "# Abre el archivo 'australian_user_reviews.json' en modo de lectura\n",
    "with open('DataSet/australian_user_reviews.json', 'r', encoding='utf-8') as f:\n",
    "    # Itera sobre cada línea del archivo\n",
    "    for line in f.readlines():\n",
    "        # Convierte la línea (que es una cadena de texto) en una estructura de datos de Python usando 'ast.literal_eval'\n",
    "        reviews.append(ast.literal_eval(line))\n",
    "\n",
    "# Crea un DataFrame de pandas a partir de la lista de reseñas\n",
    "df_ur = pd.DataFrame(reviews)\n",
    "\n",
    "df_ur\n",
    "\n"
   ]
  },
  {
   "cell_type": "code",
   "execution_count": 2,
   "metadata": {},
   "outputs": [
    {
     "name": "stdout",
     "output_type": "stream",
     "text": [
      "Valores nulos en df_ur:\n",
      "user_id     0\n",
      "user_url    0\n",
      "reviews     0\n",
      "dtype: int64\n"
     ]
    }
   ],
   "source": [
    "# Ver valores nulos en df_ur\n",
    "print(\"Valores nulos en df_ur:\")\n",
    "print(df_ur.isnull().sum())"
   ]
  },
  {
   "cell_type": "code",
   "execution_count": 3,
   "metadata": {},
   "outputs": [
    {
     "name": "stdout",
     "output_type": "stream",
     "text": [
      "<class 'pandas.core.frame.DataFrame'>\n",
      "RangeIndex: 25799 entries, 0 to 25798\n",
      "Data columns (total 3 columns):\n",
      " #   Column    Non-Null Count  Dtype \n",
      "---  ------    --------------  ----- \n",
      " 0   user_id   25799 non-null  object\n",
      " 1   user_url  25799 non-null  object\n",
      " 2   reviews   25799 non-null  object\n",
      "dtypes: object(3)\n",
      "memory usage: 604.8+ KB\n"
     ]
    }
   ],
   "source": [
    "# Obtener información general del DataFrame\n",
    "\n",
    "df_ur.info()"
   ]
  },
  {
   "cell_type": "markdown",
   "metadata": {},
   "source": [
    "## Columna user_url"
   ]
  },
  {
   "cell_type": "code",
   "execution_count": 4,
   "metadata": {},
   "outputs": [
    {
     "name": "stdout",
     "output_type": "stream",
     "text": [
      "0        http://steamcommunity.com/profiles/76561197970...\n",
      "1                     http://steamcommunity.com/id/js41637\n",
      "2                   http://steamcommunity.com/id/evcentric\n",
      "3                       http://steamcommunity.com/id/doctr\n",
      "4                   http://steamcommunity.com/id/maplemage\n",
      "                               ...                        \n",
      "25794    http://steamcommunity.com/profiles/76561198306...\n",
      "25795                http://steamcommunity.com/id/Ghoustik\n",
      "25796    http://steamcommunity.com/profiles/76561198310...\n",
      "25797    http://steamcommunity.com/profiles/76561198312...\n",
      "25798             http://steamcommunity.com/id/LydiaMorley\n",
      "Name: user_url, Length: 25799, dtype: object\n"
     ]
    }
   ],
   "source": [
    "# Imprimir la columna 'user_url'\n",
    "print(df_ur['user_url'])"
   ]
  },
  {
   "cell_type": "markdown",
   "metadata": {},
   "source": [
    "Eliminamos la columna user_url pues no es útil para el proyecto"
   ]
  },
  {
   "cell_type": "code",
   "execution_count": 5,
   "metadata": {},
   "outputs": [],
   "source": [
    "# Eliminar la columna 'user_url'\n",
    "df_ur.drop('user_url', axis=1, inplace=True)"
   ]
  },
  {
   "cell_type": "markdown",
   "metadata": {},
   "source": [
    "## Columna user_id"
   ]
  },
  {
   "cell_type": "code",
   "execution_count": 6,
   "metadata": {},
   "outputs": [
    {
     "name": "stdout",
     "output_type": "stream",
     "text": [
      "0        76561197970982479\n",
      "1                  js41637\n",
      "2                evcentric\n",
      "3                    doctr\n",
      "4                maplemage\n",
      "               ...        \n",
      "25794    76561198306599751\n",
      "25795             Ghoustik\n",
      "25796    76561198310819422\n",
      "25797    76561198312638244\n",
      "25798          LydiaMorley\n",
      "Name: user_id, Length: 25799, dtype: object\n"
     ]
    }
   ],
   "source": [
    "# Imprimir la columna 'user_id'\n",
    "print(df_ur['user_id'])"
   ]
  },
  {
   "cell_type": "code",
   "execution_count": 7,
   "metadata": {},
   "outputs": [
    {
     "name": "stdout",
     "output_type": "stream",
     "text": [
      "Cantidad de user_id únicos: 25485\n"
     ]
    }
   ],
   "source": [
    "# Valores únicos en la columna 'user_id'\n",
    "unique_itemn_count = df_ur['user_id'].nunique()\n",
    "print(\"Cantidad de user_id únicos:\", unique_itemn_count)"
   ]
  },
  {
   "cell_type": "markdown",
   "metadata": {},
   "source": [
    "## Columna reviews"
   ]
  },
  {
   "cell_type": "code",
   "execution_count": 8,
   "metadata": {},
   "outputs": [
    {
     "name": "stdout",
     "output_type": "stream",
     "text": [
      "0        [{'funny': '', 'posted': 'Posted November 5, 2...\n",
      "1        [{'funny': '', 'posted': 'Posted June 24, 2014...\n",
      "2        [{'funny': '', 'posted': 'Posted February 3.',...\n",
      "3        [{'funny': '', 'posted': 'Posted October 14, 2...\n",
      "4        [{'funny': '3 people found this review funny',...\n",
      "                               ...                        \n",
      "25794    [{'funny': '', 'posted': 'Posted May 31.', 'la...\n",
      "25795    [{'funny': '', 'posted': 'Posted June 17.', 'l...\n",
      "25796    [{'funny': '1 person found this review funny',...\n",
      "25797    [{'funny': '', 'posted': 'Posted July 21.', 'l...\n",
      "25798    [{'funny': '1 person found this review funny',...\n",
      "Name: reviews, Length: 25799, dtype: object\n"
     ]
    }
   ],
   "source": [
    "# Imprimir la columna 'reviews'\n",
    "print(df_ur['reviews'])"
   ]
  },
  {
   "cell_type": "code",
   "execution_count": 9,
   "metadata": {},
   "outputs": [],
   "source": [
    "# Expande la columna 'reviews' que contiene listas de reseñas en filas individuales\n",
    "dfreviewsOpen = df_ur.explode('reviews') \n",
    "# Combina el DataFrame original (sin columna 'reviews') con las columnas extraídas de la columna 'reviews'. Convierte cada diccionario en la columna 'reviews' en una serie.\n",
    "df_ur = pd.concat([dfreviewsOpen.drop(['reviews'], axis=1), dfreviewsOpen['reviews'].apply(pd.Series)], axis=1)"
   ]
  },
  {
   "cell_type": "code",
   "execution_count": 10,
   "metadata": {},
   "outputs": [
    {
     "data": {
      "text/html": [
       "<div>\n",
       "<style scoped>\n",
       "    .dataframe tbody tr th:only-of-type {\n",
       "        vertical-align: middle;\n",
       "    }\n",
       "\n",
       "    .dataframe tbody tr th {\n",
       "        vertical-align: top;\n",
       "    }\n",
       "\n",
       "    .dataframe thead th {\n",
       "        text-align: right;\n",
       "    }\n",
       "</style>\n",
       "<table border=\"1\" class=\"dataframe\">\n",
       "  <thead>\n",
       "    <tr style=\"text-align: right;\">\n",
       "      <th></th>\n",
       "      <th>user_id</th>\n",
       "      <th>funny</th>\n",
       "      <th>posted</th>\n",
       "      <th>last_edited</th>\n",
       "      <th>item_id</th>\n",
       "      <th>helpful</th>\n",
       "      <th>recommend</th>\n",
       "      <th>review</th>\n",
       "      <th>0</th>\n",
       "    </tr>\n",
       "  </thead>\n",
       "  <tbody>\n",
       "    <tr>\n",
       "      <th>0</th>\n",
       "      <td>76561197970982479</td>\n",
       "      <td></td>\n",
       "      <td>Posted November 5, 2011.</td>\n",
       "      <td></td>\n",
       "      <td>1250</td>\n",
       "      <td>No ratings yet</td>\n",
       "      <td>True</td>\n",
       "      <td>Simple yet with great replayability. In my opi...</td>\n",
       "      <td>NaN</td>\n",
       "    </tr>\n",
       "    <tr>\n",
       "      <th>0</th>\n",
       "      <td>76561197970982479</td>\n",
       "      <td></td>\n",
       "      <td>Posted July 15, 2011.</td>\n",
       "      <td></td>\n",
       "      <td>22200</td>\n",
       "      <td>No ratings yet</td>\n",
       "      <td>True</td>\n",
       "      <td>It's unique and worth a playthrough.</td>\n",
       "      <td>NaN</td>\n",
       "    </tr>\n",
       "    <tr>\n",
       "      <th>0</th>\n",
       "      <td>76561197970982479</td>\n",
       "      <td></td>\n",
       "      <td>Posted April 21, 2011.</td>\n",
       "      <td></td>\n",
       "      <td>43110</td>\n",
       "      <td>No ratings yet</td>\n",
       "      <td>True</td>\n",
       "      <td>Great atmosphere. The gunplay can be a bit chu...</td>\n",
       "      <td>NaN</td>\n",
       "    </tr>\n",
       "    <tr>\n",
       "      <th>1</th>\n",
       "      <td>js41637</td>\n",
       "      <td></td>\n",
       "      <td>Posted June 24, 2014.</td>\n",
       "      <td></td>\n",
       "      <td>251610</td>\n",
       "      <td>15 of 20 people (75%) found this review helpful</td>\n",
       "      <td>True</td>\n",
       "      <td>I know what you think when you see this title ...</td>\n",
       "      <td>NaN</td>\n",
       "    </tr>\n",
       "    <tr>\n",
       "      <th>1</th>\n",
       "      <td>js41637</td>\n",
       "      <td></td>\n",
       "      <td>Posted September 8, 2013.</td>\n",
       "      <td></td>\n",
       "      <td>227300</td>\n",
       "      <td>0 of 1 people (0%) found this review helpful</td>\n",
       "      <td>True</td>\n",
       "      <td>For a simple (it's actually not all that simpl...</td>\n",
       "      <td>NaN</td>\n",
       "    </tr>\n",
       "    <tr>\n",
       "      <th>...</th>\n",
       "      <td>...</td>\n",
       "      <td>...</td>\n",
       "      <td>...</td>\n",
       "      <td>...</td>\n",
       "      <td>...</td>\n",
       "      <td>...</td>\n",
       "      <td>...</td>\n",
       "      <td>...</td>\n",
       "      <td>...</td>\n",
       "    </tr>\n",
       "    <tr>\n",
       "      <th>25797</th>\n",
       "      <td>76561198312638244</td>\n",
       "      <td></td>\n",
       "      <td>Posted July 10.</td>\n",
       "      <td></td>\n",
       "      <td>70</td>\n",
       "      <td>No ratings yet</td>\n",
       "      <td>True</td>\n",
       "      <td>a must have classic from steam definitely wort...</td>\n",
       "      <td>NaN</td>\n",
       "    </tr>\n",
       "    <tr>\n",
       "      <th>25797</th>\n",
       "      <td>76561198312638244</td>\n",
       "      <td></td>\n",
       "      <td>Posted July 8.</td>\n",
       "      <td></td>\n",
       "      <td>362890</td>\n",
       "      <td>No ratings yet</td>\n",
       "      <td>True</td>\n",
       "      <td>this game is a perfect remake of the original ...</td>\n",
       "      <td>NaN</td>\n",
       "    </tr>\n",
       "    <tr>\n",
       "      <th>25798</th>\n",
       "      <td>LydiaMorley</td>\n",
       "      <td>1 person found this review funny</td>\n",
       "      <td>Posted July 3.</td>\n",
       "      <td></td>\n",
       "      <td>273110</td>\n",
       "      <td>1 of 2 people (50%) found this review helpful</td>\n",
       "      <td>True</td>\n",
       "      <td>had so much fun plaing this and collecting res...</td>\n",
       "      <td>NaN</td>\n",
       "    </tr>\n",
       "    <tr>\n",
       "      <th>25798</th>\n",
       "      <td>LydiaMorley</td>\n",
       "      <td></td>\n",
       "      <td>Posted July 20.</td>\n",
       "      <td></td>\n",
       "      <td>730</td>\n",
       "      <td>No ratings yet</td>\n",
       "      <td>True</td>\n",
       "      <td>:D</td>\n",
       "      <td>NaN</td>\n",
       "    </tr>\n",
       "    <tr>\n",
       "      <th>25798</th>\n",
       "      <td>LydiaMorley</td>\n",
       "      <td></td>\n",
       "      <td>Posted July 2.</td>\n",
       "      <td></td>\n",
       "      <td>440</td>\n",
       "      <td>No ratings yet</td>\n",
       "      <td>True</td>\n",
       "      <td>so much fun :D</td>\n",
       "      <td>NaN</td>\n",
       "    </tr>\n",
       "  </tbody>\n",
       "</table>\n",
       "<p>59333 rows × 9 columns</p>\n",
       "</div>"
      ],
      "text/plain": [
       "                 user_id                             funny  \\\n",
       "0      76561197970982479                                     \n",
       "0      76561197970982479                                     \n",
       "0      76561197970982479                                     \n",
       "1                js41637                                     \n",
       "1                js41637                                     \n",
       "...                  ...                               ...   \n",
       "25797  76561198312638244                                     \n",
       "25797  76561198312638244                                     \n",
       "25798        LydiaMorley  1 person found this review funny   \n",
       "25798        LydiaMorley                                     \n",
       "25798        LydiaMorley                                     \n",
       "\n",
       "                          posted last_edited item_id  \\\n",
       "0       Posted November 5, 2011.                1250   \n",
       "0          Posted July 15, 2011.               22200   \n",
       "0         Posted April 21, 2011.               43110   \n",
       "1          Posted June 24, 2014.              251610   \n",
       "1      Posted September 8, 2013.              227300   \n",
       "...                          ...         ...     ...   \n",
       "25797            Posted July 10.                  70   \n",
       "25797             Posted July 8.              362890   \n",
       "25798             Posted July 3.              273110   \n",
       "25798            Posted July 20.                 730   \n",
       "25798             Posted July 2.                 440   \n",
       "\n",
       "                                               helpful recommend  \\\n",
       "0                                       No ratings yet      True   \n",
       "0                                       No ratings yet      True   \n",
       "0                                       No ratings yet      True   \n",
       "1      15 of 20 people (75%) found this review helpful      True   \n",
       "1         0 of 1 people (0%) found this review helpful      True   \n",
       "...                                                ...       ...   \n",
       "25797                                   No ratings yet      True   \n",
       "25797                                   No ratings yet      True   \n",
       "25798    1 of 2 people (50%) found this review helpful      True   \n",
       "25798                                   No ratings yet      True   \n",
       "25798                                   No ratings yet      True   \n",
       "\n",
       "                                                  review   0  \n",
       "0      Simple yet with great replayability. In my opi... NaN  \n",
       "0                   It's unique and worth a playthrough. NaN  \n",
       "0      Great atmosphere. The gunplay can be a bit chu... NaN  \n",
       "1      I know what you think when you see this title ... NaN  \n",
       "1      For a simple (it's actually not all that simpl... NaN  \n",
       "...                                                  ...  ..  \n",
       "25797  a must have classic from steam definitely wort... NaN  \n",
       "25797  this game is a perfect remake of the original ... NaN  \n",
       "25798  had so much fun plaing this and collecting res... NaN  \n",
       "25798                                                 :D NaN  \n",
       "25798                                     so much fun :D NaN  \n",
       "\n",
       "[59333 rows x 9 columns]"
      ]
     },
     "execution_count": 10,
     "metadata": {},
     "output_type": "execute_result"
    }
   ],
   "source": [
    "df_ur"
   ]
  },
  {
   "cell_type": "code",
   "execution_count": 11,
   "metadata": {},
   "outputs": [],
   "source": [
    "# Eliminar columna 0\n",
    "df_ur.drop(0, axis=1, inplace=True)"
   ]
  },
  {
   "cell_type": "markdown",
   "metadata": {},
   "source": [
    "## Columna funny"
   ]
  },
  {
   "cell_type": "code",
   "execution_count": 12,
   "metadata": {},
   "outputs": [
    {
     "name": "stdout",
     "output_type": "stream",
     "text": [
      "0                                        \n",
      "0                                        \n",
      "0                                        \n",
      "1                                        \n",
      "1                                        \n",
      "                       ...               \n",
      "25797                                    \n",
      "25797                                    \n",
      "25798    1 person found this review funny\n",
      "25798                                    \n",
      "25798                                    \n",
      "Name: funny, Length: 59333, dtype: object\n"
     ]
    }
   ],
   "source": [
    "# Imprimir la columna 'funny'\n",
    "print(df_ur['funny'])"
   ]
  },
  {
   "cell_type": "markdown",
   "metadata": {},
   "source": [
    "El contenido de la columna no tiene relevancia para el proyecto. Se procede a eliminar la columna \"funny\""
   ]
  },
  {
   "cell_type": "code",
   "execution_count": 13,
   "metadata": {},
   "outputs": [],
   "source": [
    "# Eliminar la columna 'funny'\n",
    "df_ur.drop('funny', axis=1, inplace=True)"
   ]
  },
  {
   "cell_type": "markdown",
   "metadata": {},
   "source": [
    "## Columna posted"
   ]
  },
  {
   "cell_type": "code",
   "execution_count": 14,
   "metadata": {},
   "outputs": [
    {
     "name": "stdout",
     "output_type": "stream",
     "text": [
      "0         Posted November 5, 2011.\n",
      "0            Posted July 15, 2011.\n",
      "0           Posted April 21, 2011.\n",
      "1            Posted June 24, 2014.\n",
      "1        Posted September 8, 2013.\n",
      "                   ...            \n",
      "25797              Posted July 10.\n",
      "25797               Posted July 8.\n",
      "25798               Posted July 3.\n",
      "25798              Posted July 20.\n",
      "25798               Posted July 2.\n",
      "Name: posted, Length: 59333, dtype: object\n"
     ]
    }
   ],
   "source": [
    "# Imprimir la columna 'posted'\n",
    "print(df_ur['posted'])"
   ]
  },
  {
   "cell_type": "code",
   "execution_count": 15,
   "metadata": {},
   "outputs": [
    {
     "data": {
      "text/plain": [
       "28"
      ]
     },
     "execution_count": 15,
     "metadata": {},
     "output_type": "execute_result"
    }
   ],
   "source": [
    "# Contar valores nulos en la columna 'posted'\n",
    "nulos_posted = df_ur['posted'].isnull().sum()\n",
    "nulos_posted"
   ]
  },
  {
   "cell_type": "markdown",
   "metadata": {},
   "source": [
    "Son 28 filas nulas de un total de 59333. Al ser estadísticamente irrelevante, se procede a eliminar los nulos."
   ]
  },
  {
   "cell_type": "code",
   "execution_count": 16,
   "metadata": {},
   "outputs": [],
   "source": [
    "# Eliminar filas con valores nulos en la columna 'posted'\n",
    "df_ur = df_ur.dropna(subset=['posted'])"
   ]
  },
  {
   "cell_type": "code",
   "execution_count": 17,
   "metadata": {},
   "outputs": [
    {
     "name": "stdout",
     "output_type": "stream",
     "text": [
      "13936       Posted August 12, 2014.\n",
      "20988       Posted January 2, 2014.\n",
      "20781      Posted January 18, 2015.\n",
      "13296       Posted August 16, 2013.\n",
      "20845     Posted September 8, 2014.\n",
      "4197       Posted October 29, 2014.\n",
      "25599    Posted September 13, 2014.\n",
      "1267          Posted July 25, 2015.\n",
      "2878           Posted June 6, 2014.\n",
      "14697         Posted June 26, 2014.\n",
      "17525         Posted April 7, 2013.\n",
      "6243        Posted January 2, 2014.\n",
      "22812        Posted April 11, 2015.\n",
      "7059       Posted November 6, 2015.\n",
      "23055      Posted January 26, 2014.\n",
      "7115      Posted December 10, 2013.\n",
      "22044     Posted November 20, 2013.\n",
      "12522                Posted July 6.\n",
      "20492         Posted March 9, 2015.\n",
      "9681      Posted December 23, 2015.\n",
      "Name: posted, dtype: object\n"
     ]
    }
   ],
   "source": [
    "# Obtener una muestra aleatoria de 20 datos de la columna 'posted'\n",
    "random_sample = df_ur['posted'].sample(20)\n",
    "\n",
    "# Mostrar la muestra aleatoria\n",
    "print(random_sample)"
   ]
  },
  {
   "cell_type": "markdown",
   "metadata": {},
   "source": [
    "La palabra \"Posted\" presente en las filas de la columna, nos impide convertir la misma a tipo de dato date o int, por lo que debemos eliminarla."
   ]
  },
  {
   "cell_type": "code",
   "execution_count": 18,
   "metadata": {},
   "outputs": [
    {
     "name": "stderr",
     "output_type": "stream",
     "text": [
      "C:\\Users\\nicol\\AppData\\Local\\Temp\\ipykernel_22060\\3004603827.py:2: SettingWithCopyWarning: \n",
      "A value is trying to be set on a copy of a slice from a DataFrame.\n",
      "Try using .loc[row_indexer,col_indexer] = value instead\n",
      "\n",
      "See the caveats in the documentation: https://pandas.pydata.org/pandas-docs/stable/user_guide/indexing.html#returning-a-view-versus-a-copy\n",
      "  df_ur['posted'] = df_ur['posted'].str.replace('Posted ', '')\n"
     ]
    }
   ],
   "source": [
    "# Eliminar la palabra 'Posted' de la columna 'posted'\n",
    "df_ur['posted'] = df_ur['posted'].str.replace('Posted ', '')"
   ]
  },
  {
   "cell_type": "code",
   "execution_count": 19,
   "metadata": {},
   "outputs": [
    {
     "name": "stdout",
     "output_type": "stream",
     "text": [
      "9361     September 30, 2015.\n",
      "23391       January 2, 2014.\n",
      "97                   July 8.\n",
      "16120               June 27.\n",
      "7197     September 27, 2015.\n",
      "18269      January 19, 2014.\n",
      "8893         March 12, 2015.\n",
      "5796          June 14, 2014.\n",
      "20169      December 6, 2014.\n",
      "418           April 2, 2015.\n",
      "807       November 18, 2014.\n",
      "18482      November 5, 2015.\n",
      "20713         April 5, 2015.\n",
      "22057      December 5, 2014.\n",
      "21215        April 30, 2014.\n",
      "20531        March 15, 2013.\n",
      "11476               June 27.\n",
      "16590          June 1, 2014.\n",
      "12215         June 20, 2014.\n",
      "14023          May 11, 2014.\n",
      "Name: posted, dtype: object\n"
     ]
    }
   ],
   "source": [
    "# Obtener una muestra aleatoria de 20 datos de la columna 'posted'\n",
    "random_sample = df_ur['posted'].sample(20)\n",
    "\n",
    "# Mostrar la muestra aleatoria\n",
    "print(random_sample)"
   ]
  },
  {
   "cell_type": "code",
   "execution_count": 20,
   "metadata": {},
   "outputs": [
    {
     "name": "stdout",
     "output_type": "stream",
     "text": [
      "['2011' '2014' '2013' '2015' '2012' '2010']\n"
     ]
    }
   ],
   "source": [
    "import re\n",
    "\n",
    "# Extraer el año y convertir el resultado a un tipo de dato numérico\n",
    "# Obtenemos los años únicos no nulos directamente\n",
    "unique_years = df_ur['posted'].str.extract(r'(\\d{4})')[0].dropna().unique()\n",
    "\n",
    "print(unique_years)\n"
   ]
  },
  {
   "cell_type": "markdown",
   "metadata": {},
   "source": [
    "Se observa que hay valores con año y otros sin año asignado. Se asume que los que no tienen año específicado es porque son del año en curso, es decir, de cuando se tomó esta muestra. Se puede inferir que el año en que se tomó la muestra es el año 2016, pues los años asignados en las filas llegan hasta el 2015.\n",
    "\n"
   ]
  },
  {
   "cell_type": "code",
   "execution_count": 21,
   "metadata": {},
   "outputs": [
    {
     "name": "stderr",
     "output_type": "stream",
     "text": [
      "C:\\Users\\nicol\\AppData\\Local\\Temp\\ipykernel_22060\\2188426456.py:2: SettingWithCopyWarning: \n",
      "A value is trying to be set on a copy of a slice from a DataFrame.\n",
      "Try using .loc[row_indexer,col_indexer] = value instead\n",
      "\n",
      "See the caveats in the documentation: https://pandas.pydata.org/pandas-docs/stable/user_guide/indexing.html#returning-a-view-versus-a-copy\n",
      "  df_ur['posted_year_'] = pd.to_datetime(df_ur['posted'], errors='coerce')\n"
     ]
    }
   ],
   "source": [
    "# Crear la nueva columna 'posted_year_' y transferir los datos de 'posted'\n",
    "df_ur['posted_year_'] = pd.to_datetime(df_ur['posted'], errors='coerce')"
   ]
  },
  {
   "cell_type": "code",
   "execution_count": 22,
   "metadata": {},
   "outputs": [
    {
     "name": "stdout",
     "output_type": "stream",
     "text": [
      "Número de valores nulos en 'posted_year_': 10119\n"
     ]
    }
   ],
   "source": [
    "# Contar los valores nulos en 'posted_year_'\n",
    "nulos_posted_year = df_ur['posted_year_'].isnull().sum()\n",
    "\n",
    "# Mostrar el resultado\n",
    "print(\"Número de valores nulos en 'posted_year_':\", nulos_posted_year)"
   ]
  },
  {
   "cell_type": "code",
   "execution_count": 23,
   "metadata": {},
   "outputs": [
    {
     "name": "stdout",
     "output_type": "stream",
     "text": [
      "0       2011-11-05\n",
      "0       2011-07-15\n",
      "0       2011-04-21\n",
      "1       2014-06-24\n",
      "1       2013-09-08\n",
      "           ...    \n",
      "25797          NaT\n",
      "25797          NaT\n",
      "25798          NaT\n",
      "25798          NaT\n",
      "25798          NaT\n",
      "Name: posted_year_, Length: 59305, dtype: datetime64[ns]\n"
     ]
    }
   ],
   "source": [
    "# Imprimir la columna 'posted_year_'\n",
    "print(df_ur['posted_year_'])"
   ]
  },
  {
   "cell_type": "markdown",
   "metadata": {},
   "source": [
    "Se advierte que los valores nulos corresponden a aquellos datos que no tienen año asignado. Como se mencionó más arriba, estos datos corresponden al año en que se tomó la muestra: 2016. "
   ]
  },
  {
   "cell_type": "code",
   "execution_count": 24,
   "metadata": {},
   "outputs": [
    {
     "name": "stdout",
     "output_type": "stream",
     "text": [
      "0        2011.0\n",
      "0        2011.0\n",
      "0        2011.0\n",
      "1        2014.0\n",
      "1        2013.0\n",
      "          ...  \n",
      "25797       NaN\n",
      "25797       NaN\n",
      "25798       NaN\n",
      "25798       NaN\n",
      "25798       NaN\n",
      "Name: posted_year, Length: 59305, dtype: float64\n"
     ]
    },
    {
     "name": "stderr",
     "output_type": "stream",
     "text": [
      "C:\\Users\\nicol\\AppData\\Local\\Temp\\ipykernel_22060\\2634345063.py:2: SettingWithCopyWarning: \n",
      "A value is trying to be set on a copy of a slice from a DataFrame.\n",
      "Try using .loc[row_indexer,col_indexer] = value instead\n",
      "\n",
      "See the caveats in the documentation: https://pandas.pydata.org/pandas-docs/stable/user_guide/indexing.html#returning-a-view-versus-a-copy\n",
      "  df_ur['posted_year'] = df_ur['posted_year_'].dt.year\n"
     ]
    }
   ],
   "source": [
    "# Extraer solo el año de la columna 'posted_year_'\n",
    "df_ur['posted_year'] = df_ur['posted_year_'].dt.year\n",
    "\n",
    "# Imprimir la columna 'posted_year'\n",
    "print(df_ur['posted_year'])"
   ]
  },
  {
   "cell_type": "code",
   "execution_count": 25,
   "metadata": {},
   "outputs": [
    {
     "name": "stdout",
     "output_type": "stream",
     "text": [
      "Número de valores nulos en 'posted_year': 0\n"
     ]
    },
    {
     "name": "stderr",
     "output_type": "stream",
     "text": [
      "C:\\Users\\nicol\\AppData\\Local\\Temp\\ipykernel_22060\\2697398903.py:2: SettingWithCopyWarning: \n",
      "A value is trying to be set on a copy of a slice from a DataFrame.\n",
      "Try using .loc[row_indexer,col_indexer] = value instead\n",
      "\n",
      "See the caveats in the documentation: https://pandas.pydata.org/pandas-docs/stable/user_guide/indexing.html#returning-a-view-versus-a-copy\n",
      "  df_ur['posted_year'] = df_ur['posted_year_'].fillna('2016')\n"
     ]
    }
   ],
   "source": [
    "# Rellenar los valores nulos en 'posted_year' con 2016\n",
    "df_ur['posted_year'] = df_ur['posted_year_'].fillna('2016')\n",
    "\n",
    "# Verificar el resultado\n",
    "print(\"Número de valores nulos en 'posted_year':\", df_ur['posted_year'].isnull().sum())"
   ]
  },
  {
   "cell_type": "code",
   "execution_count": 26,
   "metadata": {},
   "outputs": [
    {
     "name": "stdout",
     "output_type": "stream",
     "text": [
      "Tipo de datos de 'posted_year': int32\n"
     ]
    },
    {
     "name": "stderr",
     "output_type": "stream",
     "text": [
      "C:\\Users\\nicol\\AppData\\Local\\Temp\\ipykernel_22060\\4229553040.py:2: SettingWithCopyWarning: \n",
      "A value is trying to be set on a copy of a slice from a DataFrame.\n",
      "Try using .loc[row_indexer,col_indexer] = value instead\n",
      "\n",
      "See the caveats in the documentation: https://pandas.pydata.org/pandas-docs/stable/user_guide/indexing.html#returning-a-view-versus-a-copy\n",
      "  df_ur['posted_year'] = df_ur['posted_year'].dt.year.astype(int)\n"
     ]
    }
   ],
   "source": [
    "# Convertir la columna 'posted_year' a entero\n",
    "df_ur['posted_year'] = df_ur['posted_year'].dt.year.astype(int)\n",
    "\n",
    "# Verificar el resultado\n",
    "print(\"Tipo de datos de 'posted_year':\", df_ur['posted_year'].dtype)"
   ]
  },
  {
   "cell_type": "code",
   "execution_count": 27,
   "metadata": {},
   "outputs": [
    {
     "name": "stderr",
     "output_type": "stream",
     "text": [
      "C:\\Users\\nicol\\AppData\\Local\\Temp\\ipykernel_22060\\2382188425.py:2: SettingWithCopyWarning: \n",
      "A value is trying to be set on a copy of a slice from a DataFrame\n",
      "\n",
      "See the caveats in the documentation: https://pandas.pydata.org/pandas-docs/stable/user_guide/indexing.html#returning-a-view-versus-a-copy\n",
      "  df_ur.drop(['posted_year_', 'posted'], axis=1, inplace=True)\n"
     ]
    }
   ],
   "source": [
    "# Eliminar las columnas 'posted_year_' y 'posted'\n",
    "df_ur.drop(['posted_year_', 'posted'], axis=1, inplace=True)"
   ]
  },
  {
   "cell_type": "code",
   "execution_count": 28,
   "metadata": {},
   "outputs": [
    {
     "name": "stdout",
     "output_type": "stream",
     "text": [
      "Valores únicos en 'posted_year': [2011 2014 2013 2016 2015 2012 2010]\n"
     ]
    }
   ],
   "source": [
    "# Obtener valores únicos de la columna 'posted_year'\n",
    "unique_posted_year = df_ur['posted_year'].unique()\n",
    "\n",
    "# Mostrar los valores únicos\n",
    "print(\"Valores únicos en 'posted_year':\", unique_posted_year)\n"
   ]
  },
  {
   "cell_type": "markdown",
   "metadata": {},
   "source": [
    "## Columna last_edited"
   ]
  },
  {
   "cell_type": "code",
   "execution_count": 29,
   "metadata": {},
   "outputs": [
    {
     "name": "stdout",
     "output_type": "stream",
     "text": [
      "0         \n",
      "0         \n",
      "0         \n",
      "1         \n",
      "1         \n",
      "        ..\n",
      "25797     \n",
      "25797     \n",
      "25798     \n",
      "25798     \n",
      "25798     \n",
      "Name: last_edited, Length: 59305, dtype: object\n"
     ]
    }
   ],
   "source": [
    "# Imprimir la columna 'last_edited'\n",
    "print(df_ur['last_edited'])"
   ]
  },
  {
   "cell_type": "code",
   "execution_count": 30,
   "metadata": {},
   "outputs": [
    {
     "name": "stdout",
     "output_type": "stream",
     "text": [
      "11602                                  \n",
      "6434                                   \n",
      "792                                    \n",
      "1505                                   \n",
      "14411                                  \n",
      "25246                                  \n",
      "24106                                  \n",
      "12104                                  \n",
      "5023                                   \n",
      "16062                                  \n",
      "2055                                   \n",
      "1768                                   \n",
      "15080                                  \n",
      "12479                                  \n",
      "3414                                   \n",
      "5393                                   \n",
      "15760    Last edited November 18, 2015.\n",
      "16712                                  \n",
      "2840            Last edited February 7.\n",
      "22880                                  \n",
      "Name: last_edited, dtype: object\n"
     ]
    }
   ],
   "source": [
    "# Obtener una muestra aleatoria de 20 datos de la columna 'last_edited'\n",
    "random_sample = df_ur['last_edited'].sample(20)\n",
    "\n",
    "# Mostrar la muestra aleatoria\n",
    "print(random_sample)"
   ]
  },
  {
   "cell_type": "markdown",
   "metadata": {},
   "source": [
    "La columna \"last_edited\" cuenta con muchos valores nulos y, además, su información no es útil a efectos del presente proyecto. Se procede a eliminar la columna."
   ]
  },
  {
   "cell_type": "code",
   "execution_count": 31,
   "metadata": {},
   "outputs": [
    {
     "name": "stderr",
     "output_type": "stream",
     "text": [
      "C:\\Users\\nicol\\AppData\\Local\\Temp\\ipykernel_22060\\4236713998.py:2: SettingWithCopyWarning: \n",
      "A value is trying to be set on a copy of a slice from a DataFrame\n",
      "\n",
      "See the caveats in the documentation: https://pandas.pydata.org/pandas-docs/stable/user_guide/indexing.html#returning-a-view-versus-a-copy\n",
      "  df_ur.drop('last_edited', axis=1, inplace=True)\n"
     ]
    }
   ],
   "source": [
    "# Eliminar la columna 'last_edited'\n",
    "df_ur.drop('last_edited', axis=1, inplace=True)"
   ]
  },
  {
   "cell_type": "markdown",
   "metadata": {},
   "source": [
    "## Columna item_id"
   ]
  },
  {
   "cell_type": "code",
   "execution_count": 32,
   "metadata": {},
   "outputs": [
    {
     "name": "stdout",
     "output_type": "stream",
     "text": [
      "0          1250\n",
      "0         22200\n",
      "0         43110\n",
      "1        251610\n",
      "1        227300\n",
      "          ...  \n",
      "25797        70\n",
      "25797    362890\n",
      "25798    273110\n",
      "25798       730\n",
      "25798       440\n",
      "Name: item_id, Length: 59305, dtype: object\n"
     ]
    }
   ],
   "source": [
    "# Imprimir la columna 'item_id'\n",
    "print(df_ur['item_id'])"
   ]
  },
  {
   "cell_type": "code",
   "execution_count": 33,
   "metadata": {},
   "outputs": [
    {
     "name": "stdout",
     "output_type": "stream",
     "text": [
      "Cantidad de valores nulos en 'item_id': 0\n"
     ]
    }
   ],
   "source": [
    "# Sumar nulos en la columna 'item_id'\n",
    "print(\"Cantidad de valores nulos en 'item_id':\", df_ur['item_id'].isnull().sum())"
   ]
  },
  {
   "cell_type": "code",
   "execution_count": 34,
   "metadata": {},
   "outputs": [
    {
     "name": "stderr",
     "output_type": "stream",
     "text": [
      "C:\\Users\\nicol\\AppData\\Local\\Temp\\ipykernel_22060\\2316444153.py:2: SettingWithCopyWarning: \n",
      "A value is trying to be set on a copy of a slice from a DataFrame.\n",
      "Try using .loc[row_indexer,col_indexer] = value instead\n",
      "\n",
      "See the caveats in the documentation: https://pandas.pydata.org/pandas-docs/stable/user_guide/indexing.html#returning-a-view-versus-a-copy\n",
      "  df_ur['item_id'] = pd.to_numeric(df_ur['item_id'], errors='coerce', downcast='integer')\n"
     ]
    }
   ],
   "source": [
    "# Convertir la columna 'item_id' a entero\n",
    "df_ur['item_id'] = pd.to_numeric(df_ur['item_id'], errors='coerce', downcast='integer')"
   ]
  },
  {
   "cell_type": "markdown",
   "metadata": {},
   "source": [
    "## Columna helpful"
   ]
  },
  {
   "cell_type": "code",
   "execution_count": 35,
   "metadata": {},
   "outputs": [
    {
     "name": "stdout",
     "output_type": "stream",
     "text": [
      "0                                         No ratings yet\n",
      "0                                         No ratings yet\n",
      "0                                         No ratings yet\n",
      "1        15 of 20 people (75%) found this review helpful\n",
      "1           0 of 1 people (0%) found this review helpful\n",
      "                              ...                       \n",
      "25797                                     No ratings yet\n",
      "25797                                     No ratings yet\n",
      "25798      1 of 2 people (50%) found this review helpful\n",
      "25798                                     No ratings yet\n",
      "25798                                     No ratings yet\n",
      "Name: helpful, Length: 59305, dtype: object\n"
     ]
    }
   ],
   "source": [
    "# Imprimir la columna 'helpful'\n",
    "print(df_ur['helpful'])"
   ]
  },
  {
   "cell_type": "markdown",
   "metadata": {},
   "source": [
    "No es relevante la información de esta columna para el propósito del presente proyecto."
   ]
  },
  {
   "cell_type": "code",
   "execution_count": 36,
   "metadata": {},
   "outputs": [
    {
     "name": "stderr",
     "output_type": "stream",
     "text": [
      "C:\\Users\\nicol\\AppData\\Local\\Temp\\ipykernel_22060\\2926190794.py:2: SettingWithCopyWarning: \n",
      "A value is trying to be set on a copy of a slice from a DataFrame\n",
      "\n",
      "See the caveats in the documentation: https://pandas.pydata.org/pandas-docs/stable/user_guide/indexing.html#returning-a-view-versus-a-copy\n",
      "  df_ur.drop('helpful', axis=1, inplace=True)\n"
     ]
    }
   ],
   "source": [
    "# Eliminar la columna 'helpful'\n",
    "df_ur.drop('helpful', axis=1, inplace=True)\n"
   ]
  },
  {
   "cell_type": "markdown",
   "metadata": {},
   "source": [
    "## Columna recommend"
   ]
  },
  {
   "cell_type": "code",
   "execution_count": 37,
   "metadata": {},
   "outputs": [
    {
     "name": "stdout",
     "output_type": "stream",
     "text": [
      "0        True\n",
      "0        True\n",
      "0        True\n",
      "1        True\n",
      "1        True\n",
      "         ... \n",
      "25797    True\n",
      "25797    True\n",
      "25798    True\n",
      "25798    True\n",
      "25798    True\n",
      "Name: recommend, Length: 59305, dtype: object\n"
     ]
    }
   ],
   "source": [
    "# Imprimir la columna 'recommend'\n",
    "print(df_ur['recommend'])"
   ]
  },
  {
   "cell_type": "code",
   "execution_count": 38,
   "metadata": {},
   "outputs": [
    {
     "name": "stderr",
     "output_type": "stream",
     "text": [
      "C:\\Users\\nicol\\AppData\\Local\\Temp\\ipykernel_22060\\3172642279.py:2: SettingWithCopyWarning: \n",
      "A value is trying to be set on a copy of a slice from a DataFrame.\n",
      "Try using .loc[row_indexer,col_indexer] = value instead\n",
      "\n",
      "See the caveats in the documentation: https://pandas.pydata.org/pandas-docs/stable/user_guide/indexing.html#returning-a-view-versus-a-copy\n",
      "  df_ur['recommend'] = df_ur['recommend'].astype(bool)\n"
     ]
    }
   ],
   "source": [
    "# Convertir la columna 'recommend' a tipo booleano\n",
    "df_ur['recommend'] = df_ur['recommend'].astype(bool)"
   ]
  },
  {
   "cell_type": "markdown",
   "metadata": {},
   "source": [
    "## Columna review y análisis de sentimiento"
   ]
  },
  {
   "cell_type": "code",
   "execution_count": 39,
   "metadata": {},
   "outputs": [
    {
     "name": "stdout",
     "output_type": "stream",
     "text": [
      "0        Simple yet with great replayability. In my opi...\n",
      "0                     It's unique and worth a playthrough.\n",
      "0        Great atmosphere. The gunplay can be a bit chu...\n",
      "1        I know what you think when you see this title ...\n",
      "1        For a simple (it's actually not all that simpl...\n",
      "                               ...                        \n",
      "25797    a must have classic from steam definitely wort...\n",
      "25797    this game is a perfect remake of the original ...\n",
      "25798    had so much fun plaing this and collecting res...\n",
      "25798                                                   :D\n",
      "25798                                       so much fun :D\n",
      "Name: review, Length: 59305, dtype: object\n"
     ]
    }
   ],
   "source": [
    "# Imprimir la columna 'review'\n",
    "print(df_ur['review'])\n"
   ]
  },
  {
   "cell_type": "markdown",
   "metadata": {},
   "source": [
    "Procedemos con el análisis de sentimiento que se nos solicita."
   ]
  },
  {
   "cell_type": "code",
   "execution_count": 40,
   "metadata": {},
   "outputs": [
    {
     "name": "stdout",
     "output_type": "stream",
     "text": [
      "                                              review  sentiment_analysis\n",
      "0  Simple yet with great replayability. In my opi...                   2\n",
      "0               It's unique and worth a playthrough.                   2\n",
      "0  Great atmosphere. The gunplay can be a bit chu...                   2\n",
      "1  I know what you think when you see this title ...                   2\n",
      "1  For a simple (it's actually not all that simpl...                   0\n"
     ]
    },
    {
     "name": "stderr",
     "output_type": "stream",
     "text": [
      "C:\\Users\\nicol\\AppData\\Local\\Temp\\ipykernel_22060\\3435470671.py:18: SettingWithCopyWarning: \n",
      "A value is trying to be set on a copy of a slice from a DataFrame.\n",
      "Try using .loc[row_indexer,col_indexer] = value instead\n",
      "\n",
      "See the caveats in the documentation: https://pandas.pydata.org/pandas-docs/stable/user_guide/indexing.html#returning-a-view-versus-a-copy\n",
      "  df_ur['sentiment_analysis'] = df_ur['review'].apply(analyze_sentiment)\n"
     ]
    }
   ],
   "source": [
    "from textblob import TextBlob\n",
    "\n",
    "# Función para realizar análisis de sentimiento\n",
    "def analyze_sentiment(review):\n",
    "    if pd.isnull(review):  # Si la reseña es nula, devolver 1 (neutral)\n",
    "        return 1\n",
    "    else:\n",
    "        analysis = TextBlob(review)\n",
    "        # Asignar valores de acuerdo con la polaridad del análisis de sentimiento\n",
    "        if analysis.sentiment.polarity < 0:\n",
    "            return 0  # Sentimiento negativo\n",
    "        elif analysis.sentiment.polarity == 0:\n",
    "            return 1  # Sentimiento neutro\n",
    "        else:\n",
    "            return 2  # Sentimiento positivo\n",
    "\n",
    "# Aplicar la función a la columna 'review' y crear la nueva columna 'sentiment_analysis'\n",
    "df_ur['sentiment_analysis'] = df_ur['review'].apply(analyze_sentiment)\n",
    "\n",
    "# Mostrar información después del proceso\n",
    "print(df_ur[['review', 'sentiment_analysis']].head())"
   ]
  },
  {
   "cell_type": "code",
   "execution_count": 41,
   "metadata": {},
   "outputs": [
    {
     "name": "stderr",
     "output_type": "stream",
     "text": [
      "C:\\Users\\nicol\\AppData\\Local\\Temp\\ipykernel_22060\\2841975229.py:2: SettingWithCopyWarning: \n",
      "A value is trying to be set on a copy of a slice from a DataFrame\n",
      "\n",
      "See the caveats in the documentation: https://pandas.pydata.org/pandas-docs/stable/user_guide/indexing.html#returning-a-view-versus-a-copy\n",
      "  df_ur.drop(['review'], axis=1, inplace=True)\n"
     ]
    }
   ],
   "source": [
    "# Eliminar la columna 'review'\n",
    "df_ur.drop(['review'], axis=1, inplace=True)"
   ]
  },
  {
   "cell_type": "markdown",
   "metadata": {},
   "source": [
    "Revisamos información final del DataFrame, reiniciamos el índice y guardamos la información en formato \".csv\"."
   ]
  },
  {
   "cell_type": "code",
   "execution_count": 42,
   "metadata": {},
   "outputs": [
    {
     "name": "stdout",
     "output_type": "stream",
     "text": [
      "<class 'pandas.core.frame.DataFrame'>\n",
      "Index: 59305 entries, 0 to 25798\n",
      "Data columns (total 5 columns):\n",
      " #   Column              Non-Null Count  Dtype \n",
      "---  ------              --------------  ----- \n",
      " 0   user_id             59305 non-null  object\n",
      " 1   item_id             59305 non-null  int32 \n",
      " 2   recommend           59305 non-null  bool  \n",
      " 3   posted_year         59305 non-null  int32 \n",
      " 4   sentiment_analysis  59305 non-null  int64 \n",
      "dtypes: bool(1), int32(2), int64(1), object(1)\n",
      "memory usage: 1.9+ MB\n",
      "Valores nulos por columna:\n",
      "user_id               0\n",
      "item_id               0\n",
      "recommend             0\n",
      "posted_year           0\n",
      "sentiment_analysis    0\n",
      "dtype: int64\n"
     ]
    }
   ],
   "source": [
    "# Mostrar información general y valores nulos del DataFrame\n",
    "df_ur.info()\n",
    "\n",
    "# Contar los valores nulos en cada columna\n",
    "nulos_por_columna = df_ur.isnull().sum()\n",
    "\n",
    "# Mostrar la cantidad de valores nulos por columna\n",
    "print(\"Valores nulos por columna:\")\n",
    "print(nulos_por_columna)\n"
   ]
  },
  {
   "cell_type": "code",
   "execution_count": 43,
   "metadata": {},
   "outputs": [],
   "source": [
    "# Reiniciar índice\n",
    "df_ur = df_ur.reset_index(drop=True)"
   ]
  },
  {
   "cell_type": "code",
   "execution_count": 44,
   "metadata": {},
   "outputs": [
    {
     "name": "stdout",
     "output_type": "stream",
     "text": [
      "El archivo Parquet DataSet/clean_df_ur.parquet ha sido creado.\n"
     ]
    }
   ],
   "source": [
    "\n",
    "# Rutas de los archivos CSV y Parquet\n",
    "# csv_path = 'DataSet/clean_df_ur.csv'\n",
    "parquet_path = 'DataSet/clean_df_ur.parquet'\n",
    "\n",
    "# Guardar el DataFrame como un archivo CSV\n",
    "# df_ur.to_csv(csv_path, index=False)\n",
    "\n",
    "# Guardar el DataFrame como un archivo Parquet\n",
    "df_ur.to_parquet(parquet_path, index=False)\n",
    "print(f'El archivo Parquet {parquet_path} ha sido creado.')\n",
    "\n"
   ]
  }
 ],
 "metadata": {
  "kernelspec": {
   "display_name": "mi_entorno_steam",
   "language": "python",
   "name": "python3"
  },
  "language_info": {
   "codemirror_mode": {
    "name": "ipython",
    "version": 3
   },
   "file_extension": ".py",
   "mimetype": "text/x-python",
   "name": "python",
   "nbconvert_exporter": "python",
   "pygments_lexer": "ipython3",
   "version": "3.11.5"
  }
 },
 "nbformat": 4,
 "nbformat_minor": 2
}
