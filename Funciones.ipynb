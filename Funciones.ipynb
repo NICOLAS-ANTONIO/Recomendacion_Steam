{
 "cells": [
  {
   "cell_type": "code",
   "execution_count": 1,
   "metadata": {},
   "outputs": [],
   "source": [
    "import pandas as pd\n",
    "\n",
    "# Nombres de los archivos parquet\n",
    "archivos_parquet = ['clean_df_ur.parquet', 'definitivo_df_ui.parquet', 'definitivo_df_sg.parquet']\n",
    "\n",
    "# Cargar el primer archivo parquet\n",
    "df_ur = pd.read_parquet('DataSet/' + archivos_parquet[0])\n",
    "\n",
    "# Cargar el segundo archivo parquet\n",
    "df_ui = pd.read_parquet('DataSet/' + archivos_parquet[1])\n",
    "\n",
    "# Cargar el tercer archivo parquet\n",
    "df_sg = pd.read_parquet('DataSet/' + archivos_parquet[2])"
   ]
  },
  {
   "cell_type": "code",
   "execution_count": 2,
   "metadata": {},
   "outputs": [],
   "source": [
    "def PlayTimeGenre(genero: str):\n",
    "    # Fusionar df_ui y df_sg basado en la columna 'item_id' de df_ui y la columna 'id' de df_sg\n",
    "    merged_df = pd.merge(df_ui, df_sg, left_on='item_id', right_on='id')\n",
    "\n",
    "    # Filtrar el DataFrame fusionado para incluir solo las filas que contienen el género especificado\n",
    "    filtered_df = merged_df[merged_df['genres'].str.contains(genero)]\n",
    "    # Agrupar por año de lanzamiento y sumar el tiempo de juego total para ese año\n",
    "    hours_by_year = filtered_df.groupby('release_year')['playtime_forever'].sum()\n",
    "\n",
    "    # Verificar si se encontraron resultados\n",
    "    if hours_by_year.empty:\n",
    "        return \"El género ingresado no arroja resultados o no corresponde. Vuelva a ingresar.\"\n",
    "    else:\n",
    "        # Encontrar el año con el mayor tiempo de juego total\n",
    "        max_year = hours_by_year.idxmax()\n",
    "        return {\"Año de lanzamiento con más horas jugadas para Género {}\".format(genero): max_year}\n",
    "\n"
   ]
  },
  {
   "cell_type": "code",
   "execution_count": 7,
   "metadata": {},
   "outputs": [
    {
     "name": "stdout",
     "output_type": "stream",
     "text": [
      "{'Año de lanzamiento con más horas jugadas para Género action': 2012}\n"
     ]
    }
   ],
   "source": [
    "# Ejemplo de prueba para PlayTimeGenre\n",
    "print(PlayTimeGenre(\"action\"))\n"
   ]
  },
  {
   "cell_type": "code",
   "execution_count": 4,
   "metadata": {},
   "outputs": [],
   "source": [
    "def UserForGenre(genero: str):\n",
    "    # Fusionar df_ui y df_sg basado en la columna 'item_id' de df_ui y la columna 'id' de df_sg\n",
    "    merged_df = pd.merge(df_ui, df_sg, left_on='item_id', right_on='id')\n",
    "\n",
    "    # Filtrar el DataFrame fusionado para incluir solo las filas que contienen el género especificado\n",
    "    filtered_df = merged_df[merged_df['genres'].str.contains(genero)]\n",
    "\n",
    "    # Verificar si hay resultados después del filtrado\n",
    "    if filtered_df.empty:\n",
    "        return \"El género ingresado no arroja resultados o no corresponde. Vuelva a ingresar.\"\n",
    "\n",
    "    # Encontrar el usuario con el mayor tiempo total de juego\n",
    "    top_user = filtered_df.groupby('user_id')['playtime_forever'].sum().idxmax()\n",
    "\n",
    "    # Agrupar por año de lanzamiento y sumar el tiempo de juego total para ese año para el usuario con más horas jugadas\n",
    "    hours_by_year = filtered_df[filtered_df['user_id'] == top_user].groupby('release_year')['playtime_forever'].sum().reset_index()\n",
    "\n",
    "    return {\"Usuario con más horas jugadas para Género {}\".format(genero): top_user, \"Horas jugadas\": hours_by_year.to_dict('records')}\n",
    "\n"
   ]
  },
  {
   "cell_type": "code",
   "execution_count": 6,
   "metadata": {},
   "outputs": [
    {
     "name": "stdout",
     "output_type": "stream",
     "text": [
      "{'Usuario con más horas jugadas para Género action': 'Sp3ctre', 'Horas jugadas': [{'release_year': 1995, 'playtime_forever': 217.0}, {'release_year': 1999, 'playtime_forever': 44.0}, {'release_year': 2000, 'playtime_forever': 70644.0}, {'release_year': 2001, 'playtime_forever': 13.0}, {'release_year': 2002, 'playtime_forever': 238.0}, {'release_year': 2003, 'playtime_forever': 7673.0}, {'release_year': 2004, 'playtime_forever': 127411.0}, {'release_year': 2005, 'playtime_forever': 21339.0}, {'release_year': 2006, 'playtime_forever': 896.0}, {'release_year': 2007, 'playtime_forever': 112784.0}, {'release_year': 2008, 'playtime_forever': 224.0}, {'release_year': 2009, 'playtime_forever': 108326.0}, {'release_year': 2010, 'playtime_forever': 78083.0}, {'release_year': 2011, 'playtime_forever': 154896.0}, {'release_year': 2012, 'playtime_forever': 378296.0}, {'release_year': 2013, 'playtime_forever': 120306.0}, {'release_year': 2014, 'playtime_forever': 137109.0}, {'release_year': 2015, 'playtime_forever': 307510.0}, {'release_year': 2016, 'playtime_forever': 29298.0}, {'release_year': 2017, 'playtime_forever': 43327.0}]}\n"
     ]
    }
   ],
   "source": [
    "# Ejemplo de prueba para UserForGenre\n",
    "print(UserForGenre(\"action\"))\n"
   ]
  },
  {
   "cell_type": "code",
   "execution_count": 8,
   "metadata": {},
   "outputs": [],
   "source": [
    "def UsersRecommend(año: int):\n",
    "    # Filtrar el DataFrame df_ur para un año específico, recomendaciones positivas y análisis de sentimientos positivo/neutro\n",
    "    filtered_df = df_ur[(df_ur['posted_year'] == año) & (df_ur['recommend'] == True) & (df_ur['sentiment_analysis'] > 0)]\n",
    "\n",
    "    # Verificar si hay resultados después del filtrado\n",
    "    if filtered_df.empty:\n",
    "        return \"No se encontraron juegos recomendados para el año ingresado.\"\n",
    "\n",
    "    # Encontrar los tres juegos con más recomendaciones\n",
    "    top_games = filtered_df['item_id'].value_counts().head(3).index.tolist()\n",
    "\n",
    "    # Devolver una lista de los juegos más recomendados, ordenados del más al menos recomendado\n",
    "    return [{\"Puesto {}\".format(i+1): game} for i, game in enumerate(top_games)]\n",
    "\n"
   ]
  },
  {
   "cell_type": "code",
   "execution_count": 9,
   "metadata": {},
   "outputs": [
    {
     "name": "stdout",
     "output_type": "stream",
     "text": [
      "[{'Puesto 1': 730}, {'Puesto 2': 440}, {'Puesto 3': 4000}]\n"
     ]
    }
   ],
   "source": [
    "# Ejemplo de prueba para UsersRecommend\n",
    "print(UsersRecommend(2016))\n"
   ]
  },
  {
   "cell_type": "code",
   "execution_count": 10,
   "metadata": {},
   "outputs": [],
   "source": [
    "def UsersWorstDeveloper(año: int):\n",
    "    # Comentar: Unir los DataFrame df_ur y df_sg usando 'item_id' como clave\n",
    "    merged_df = pd.merge(df_ur, df_sg, left_on='item_id', right_on='id')\n",
    "\n",
    "    # Comentar: Filtrar el DataFrame combinado para obtener solo entradas del año específico con recomendaciones negativas y sentimiento negativo\n",
    "    filtered_df = merged_df[(merged_df['posted_year'] == año) & (merged_df['recommend'] == False) & (merged_df['sentiment_analysis'] == 0)]\n",
    "\n",
    "    # Comentar: Verificar si hay resultados después del filtrado\n",
    "    if filtered_df.empty:\n",
    "        return \"No se encontraron desarrolladores con recomendaciones negativas para el año ingresado.\"\n",
    "\n",
    "    # Comentar: Encontrar los tres desarrolladores con más recomendaciones negativas\n",
    "    worst_devs = filtered_df['developer'].value_counts().head(3).index.tolist()\n",
    "\n",
    "    # Comentar: Devolver una lista de los desarrolladores peor valorados, ordenados del peor al menos malo\n",
    "    return [{\"Puesto {}\".format(i+1): dev} for i, dev in enumerate(worst_devs)]\n",
    "\n"
   ]
  },
  {
   "cell_type": "code",
   "execution_count": 11,
   "metadata": {},
   "outputs": [
    {
     "name": "stdout",
     "output_type": "stream",
     "text": [
      "[{'Puesto 1': 'Valve'}, {'Puesto 2': 'Bohemia Interactive'}, {'Puesto 3': 'Facepunch Studios'}]\n"
     ]
    }
   ],
   "source": [
    "# Ejemplo de prueba para UsersWorstDeveloper\n",
    "print(UsersWorstDeveloper(2014))\n"
   ]
  },
  {
   "cell_type": "code",
   "execution_count": 12,
   "metadata": {},
   "outputs": [],
   "source": [
    "def sentiment_analysis(empresa_desarrolladora: str):\n",
    "    # Unir df_ur con df_sg utilizando 'item_id' como clave\n",
    "    merged_df = pd.merge(df_ur, df_sg, left_on='item_id', right_on='id')\n",
    "\n",
    "    # Filtrar el DataFrame combinado para obtener solo las entradas que corresponden a la empresa desarrolladora especificada\n",
    "    filtered_df = merged_df[merged_df['developer'] == empresa_desarrolladora]\n",
    "\n",
    "    # Verificar si hay resultados después del filtrado\n",
    "    if filtered_df.empty:\n",
    "        return \"No se encontraron datos para la empresa desarrolladora: {}\".format(empresa_desarrolladora)\n",
    "\n",
    "    # Contar la frecuencia de cada valor en la columna 'sentiment_analysis'\n",
    "    sentiment_counts = filtered_df['sentiment_analysis'].value_counts().to_dict()\n",
    "\n",
    "    # Devolver un diccionario con el conteo de sentimientos negativos, neutrales y positivos\n",
    "    return {empresa_desarrolladora: {\"Negative\": sentiment_counts.get(0, 0), \"Neutral\": sentiment_counts.get(1, 0), \"Positive\": sentiment_counts.get(2, 0)}}\n",
    "\n"
   ]
  },
  {
   "cell_type": "code",
   "execution_count": 13,
   "metadata": {},
   "outputs": [
    {
     "name": "stdout",
     "output_type": "stream",
     "text": [
      "{'Valve': {'Negative': 1609, 'Neutral': 2570, 'Positive': 5384}}\n"
     ]
    }
   ],
   "source": [
    "# Ejemplo de prueba para sentiment_analysis\n",
    "print(sentiment_analysis(\"Valve\"))\n"
   ]
  }
 ],
 "metadata": {
  "kernelspec": {
   "display_name": "mi_entorno_steam",
   "language": "python",
   "name": "python3"
  },
  "language_info": {
   "codemirror_mode": {
    "name": "ipython",
    "version": 3
   },
   "file_extension": ".py",
   "mimetype": "text/x-python",
   "name": "python",
   "nbconvert_exporter": "python",
   "pygments_lexer": "ipython3",
   "version": "3.11.5"
  }
 },
 "nbformat": 4,
 "nbformat_minor": 2
}
