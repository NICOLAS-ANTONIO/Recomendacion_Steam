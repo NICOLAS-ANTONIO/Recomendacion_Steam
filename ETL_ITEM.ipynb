{
 "cells": [
  {
   "cell_type": "code",
   "execution_count": 1,
   "metadata": {},
   "outputs": [],
   "source": [
    "# Importamos los módulos necesarios\n",
    "import ast  \n",
    "import pandas as pd \n",
    "\n",
    "rows = []  # Inicializa una lista vacía para almacenar cada fila de datos\n",
    "with open('DataSet/australian_users_items.json', 'r', encoding='utf-8') as f:  # Abre el archivo JSON en modo de lectura\n",
    "    for line in f.readlines():  # Itera sobre cada línea del archivo\n",
    "        rows.append(ast.literal_eval(line))  # Convierte la cadena de texto de cada línea a una estructura de datos Python y la agrega a la lista\n",
    "\n",
    "df_ui = pd.DataFrame(rows)  # Crea un DataFrame de pandas a partir de la lista de filas\n"
   ]
  },
  {
   "cell_type": "code",
   "execution_count": 2,
   "metadata": {},
   "outputs": [
    {
     "data": {
      "text/html": [
       "<div>\n",
       "<style scoped>\n",
       "    .dataframe tbody tr th:only-of-type {\n",
       "        vertical-align: middle;\n",
       "    }\n",
       "\n",
       "    .dataframe tbody tr th {\n",
       "        vertical-align: top;\n",
       "    }\n",
       "\n",
       "    .dataframe thead th {\n",
       "        text-align: right;\n",
       "    }\n",
       "</style>\n",
       "<table border=\"1\" class=\"dataframe\">\n",
       "  <thead>\n",
       "    <tr style=\"text-align: right;\">\n",
       "      <th></th>\n",
       "      <th>user_id</th>\n",
       "      <th>items_count</th>\n",
       "      <th>steam_id</th>\n",
       "      <th>user_url</th>\n",
       "      <th>items</th>\n",
       "    </tr>\n",
       "  </thead>\n",
       "  <tbody>\n",
       "    <tr>\n",
       "      <th>0</th>\n",
       "      <td>76561197970982479</td>\n",
       "      <td>277</td>\n",
       "      <td>76561197970982479</td>\n",
       "      <td>http://steamcommunity.com/profiles/76561197970...</td>\n",
       "      <td>[{'item_id': '10', 'item_name': 'Counter-Strik...</td>\n",
       "    </tr>\n",
       "    <tr>\n",
       "      <th>1</th>\n",
       "      <td>js41637</td>\n",
       "      <td>888</td>\n",
       "      <td>76561198035864385</td>\n",
       "      <td>http://steamcommunity.com/id/js41637</td>\n",
       "      <td>[{'item_id': '10', 'item_name': 'Counter-Strik...</td>\n",
       "    </tr>\n",
       "    <tr>\n",
       "      <th>2</th>\n",
       "      <td>evcentric</td>\n",
       "      <td>137</td>\n",
       "      <td>76561198007712555</td>\n",
       "      <td>http://steamcommunity.com/id/evcentric</td>\n",
       "      <td>[{'item_id': '1200', 'item_name': 'Red Orchest...</td>\n",
       "    </tr>\n",
       "    <tr>\n",
       "      <th>3</th>\n",
       "      <td>Riot-Punch</td>\n",
       "      <td>328</td>\n",
       "      <td>76561197963445855</td>\n",
       "      <td>http://steamcommunity.com/id/Riot-Punch</td>\n",
       "      <td>[{'item_id': '10', 'item_name': 'Counter-Strik...</td>\n",
       "    </tr>\n",
       "    <tr>\n",
       "      <th>4</th>\n",
       "      <td>doctr</td>\n",
       "      <td>541</td>\n",
       "      <td>76561198002099482</td>\n",
       "      <td>http://steamcommunity.com/id/doctr</td>\n",
       "      <td>[{'item_id': '300', 'item_name': 'Day of Defea...</td>\n",
       "    </tr>\n",
       "    <tr>\n",
       "      <th>...</th>\n",
       "      <td>...</td>\n",
       "      <td>...</td>\n",
       "      <td>...</td>\n",
       "      <td>...</td>\n",
       "      <td>...</td>\n",
       "    </tr>\n",
       "    <tr>\n",
       "      <th>88305</th>\n",
       "      <td>76561198323066619</td>\n",
       "      <td>22</td>\n",
       "      <td>76561198323066619</td>\n",
       "      <td>http://steamcommunity.com/profiles/76561198323...</td>\n",
       "      <td>[{'item_id': '413850', 'item_name': 'CS:GO Pla...</td>\n",
       "    </tr>\n",
       "    <tr>\n",
       "      <th>88306</th>\n",
       "      <td>76561198326700687</td>\n",
       "      <td>177</td>\n",
       "      <td>76561198326700687</td>\n",
       "      <td>http://steamcommunity.com/profiles/76561198326...</td>\n",
       "      <td>[{'item_id': '11020', 'item_name': 'TrackMania...</td>\n",
       "    </tr>\n",
       "    <tr>\n",
       "      <th>88307</th>\n",
       "      <td>XxLaughingJackClown77xX</td>\n",
       "      <td>0</td>\n",
       "      <td>76561198328759259</td>\n",
       "      <td>http://steamcommunity.com/id/XxLaughingJackClo...</td>\n",
       "      <td>[]</td>\n",
       "    </tr>\n",
       "    <tr>\n",
       "      <th>88308</th>\n",
       "      <td>76561198329548331</td>\n",
       "      <td>7</td>\n",
       "      <td>76561198329548331</td>\n",
       "      <td>http://steamcommunity.com/profiles/76561198329...</td>\n",
       "      <td>[{'item_id': '304930', 'item_name': 'Unturned'...</td>\n",
       "    </tr>\n",
       "    <tr>\n",
       "      <th>88309</th>\n",
       "      <td>edward_tremethick</td>\n",
       "      <td>0</td>\n",
       "      <td>76561198331598578</td>\n",
       "      <td>http://steamcommunity.com/id/edward_tremethick</td>\n",
       "      <td>[]</td>\n",
       "    </tr>\n",
       "  </tbody>\n",
       "</table>\n",
       "<p>88310 rows × 5 columns</p>\n",
       "</div>"
      ],
      "text/plain": [
       "                       user_id  items_count           steam_id  \\\n",
       "0            76561197970982479          277  76561197970982479   \n",
       "1                      js41637          888  76561198035864385   \n",
       "2                    evcentric          137  76561198007712555   \n",
       "3                   Riot-Punch          328  76561197963445855   \n",
       "4                        doctr          541  76561198002099482   \n",
       "...                        ...          ...                ...   \n",
       "88305        76561198323066619           22  76561198323066619   \n",
       "88306        76561198326700687          177  76561198326700687   \n",
       "88307  XxLaughingJackClown77xX            0  76561198328759259   \n",
       "88308        76561198329548331            7  76561198329548331   \n",
       "88309        edward_tremethick            0  76561198331598578   \n",
       "\n",
       "                                                user_url  \\\n",
       "0      http://steamcommunity.com/profiles/76561197970...   \n",
       "1                   http://steamcommunity.com/id/js41637   \n",
       "2                 http://steamcommunity.com/id/evcentric   \n",
       "3                http://steamcommunity.com/id/Riot-Punch   \n",
       "4                     http://steamcommunity.com/id/doctr   \n",
       "...                                                  ...   \n",
       "88305  http://steamcommunity.com/profiles/76561198323...   \n",
       "88306  http://steamcommunity.com/profiles/76561198326...   \n",
       "88307  http://steamcommunity.com/id/XxLaughingJackClo...   \n",
       "88308  http://steamcommunity.com/profiles/76561198329...   \n",
       "88309     http://steamcommunity.com/id/edward_tremethick   \n",
       "\n",
       "                                                   items  \n",
       "0      [{'item_id': '10', 'item_name': 'Counter-Strik...  \n",
       "1      [{'item_id': '10', 'item_name': 'Counter-Strik...  \n",
       "2      [{'item_id': '1200', 'item_name': 'Red Orchest...  \n",
       "3      [{'item_id': '10', 'item_name': 'Counter-Strik...  \n",
       "4      [{'item_id': '300', 'item_name': 'Day of Defea...  \n",
       "...                                                  ...  \n",
       "88305  [{'item_id': '413850', 'item_name': 'CS:GO Pla...  \n",
       "88306  [{'item_id': '11020', 'item_name': 'TrackMania...  \n",
       "88307                                                 []  \n",
       "88308  [{'item_id': '304930', 'item_name': 'Unturned'...  \n",
       "88309                                                 []  \n",
       "\n",
       "[88310 rows x 5 columns]"
      ]
     },
     "execution_count": 2,
     "metadata": {},
     "output_type": "execute_result"
    }
   ],
   "source": [
    "df_ui "
   ]
  },
  {
   "cell_type": "code",
   "execution_count": 3,
   "metadata": {},
   "outputs": [
    {
     "name": "stdout",
     "output_type": "stream",
     "text": [
      "<class 'pandas.core.frame.DataFrame'>\n",
      "RangeIndex: 88310 entries, 0 to 88309\n",
      "Data columns (total 5 columns):\n",
      " #   Column       Non-Null Count  Dtype \n",
      "---  ------       --------------  ----- \n",
      " 0   user_id      88310 non-null  object\n",
      " 1   items_count  88310 non-null  int64 \n",
      " 2   steam_id     88310 non-null  object\n",
      " 3   user_url     88310 non-null  object\n",
      " 4   items        88310 non-null  object\n",
      "dtypes: int64(1), object(4)\n",
      "memory usage: 3.4+ MB\n"
     ]
    }
   ],
   "source": [
    "df_ui.info()"
   ]
  },
  {
   "cell_type": "code",
   "execution_count": 4,
   "metadata": {},
   "outputs": [],
   "source": [
    "# Expande la columna 'items', tratando cada elemento de las listas como una fila separada. Se reinicia el índice\n",
    "df_ui = df_ui.explode('items').reset_index()  \n",
    "# Elimina la columna 'index' \n",
    "df_ui = df_ui.drop(columns='index')  \n",
    "# Concatena el DataFrame df_ui con una versión normalizada de la columna 'items'\n",
    "df_ui = pd.concat([df_ui, pd.json_normalize(df_ui['items'])], axis=1)  \n",
    "\n"
   ]
  },
  {
   "cell_type": "code",
   "execution_count": 5,
   "metadata": {},
   "outputs": [],
   "source": [
    "# Elimina la columna 'items' del DataFrame df_ui, modificando el DataFrame original (inplace=True)\n",
    "df_ui.drop('items', axis=1, inplace=True) "
   ]
  },
  {
   "cell_type": "code",
   "execution_count": 6,
   "metadata": {},
   "outputs": [
    {
     "data": {
      "text/plain": [
       "user_id                 0\n",
       "items_count             0\n",
       "steam_id                0\n",
       "user_url                0\n",
       "item_id             16806\n",
       "item_name           16806\n",
       "playtime_forever    16806\n",
       "playtime_2weeks     16806\n",
       "dtype: int64"
      ]
     },
     "execution_count": 6,
     "metadata": {},
     "output_type": "execute_result"
    }
   ],
   "source": [
    "# Sumar nulos del DataFrame df_ui\n",
    "suma_nulos = df_ui.isna().sum()\n",
    "suma_nulos"
   ]
  },
  {
   "cell_type": "code",
   "execution_count": 7,
   "metadata": {},
   "outputs": [],
   "source": [
    "# Eliminar filas que tienen nulos simultaneamente en las columnas específicadas\n",
    "df_ui = df_ui.dropna(subset=['item_id', 'item_name', 'playtime_forever', 'playtime_2weeks'], how='all')\n",
    "\n"
   ]
  },
  {
   "cell_type": "code",
   "execution_count": 8,
   "metadata": {},
   "outputs": [],
   "source": [
    "# Reiniciar el índide\n",
    "df_ui = df_ui.reset_index(drop=True)"
   ]
  },
  {
   "cell_type": "markdown",
   "metadata": {},
   "source": [
    "## Columna user_id"
   ]
  },
  {
   "cell_type": "code",
   "execution_count": 9,
   "metadata": {},
   "outputs": [
    {
     "name": "stdout",
     "output_type": "stream",
     "text": [
      "0          76561197970982479\n",
      "1          76561197970982479\n",
      "2          76561197970982479\n",
      "3          76561197970982479\n",
      "4          76561197970982479\n",
      "                 ...        \n",
      "5153204    76561198329548331\n",
      "5153205    76561198329548331\n",
      "5153206    76561198329548331\n",
      "5153207    76561198329548331\n",
      "5153208    76561198329548331\n",
      "Name: user_id, Length: 5153209, dtype: object\n"
     ]
    }
   ],
   "source": [
    "# Imprimir la columna 'user_id'\n",
    "print(df_ui['user_id'])"
   ]
  },
  {
   "cell_type": "code",
   "execution_count": 10,
   "metadata": {},
   "outputs": [
    {
     "name": "stdout",
     "output_type": "stream",
     "text": [
      "Cantidad de usuarios únicos: 70912\n"
     ]
    }
   ],
   "source": [
    "# Valores únicos de la columna \"user_id\"\n",
    "unique_user_count = df_ui['user_id'].nunique()\n",
    "print(\"Cantidad de usuarios únicos:\", unique_user_count)"
   ]
  },
  {
   "cell_type": "markdown",
   "metadata": {},
   "source": [
    "## Columna items_count"
   ]
  },
  {
   "cell_type": "code",
   "execution_count": 11,
   "metadata": {},
   "outputs": [
    {
     "name": "stdout",
     "output_type": "stream",
     "text": [
      "0          277\n",
      "1          277\n",
      "2          277\n",
      "3          277\n",
      "4          277\n",
      "          ... \n",
      "5153204      7\n",
      "5153205      7\n",
      "5153206      7\n",
      "5153207      7\n",
      "5153208      7\n",
      "Name: items_count, Length: 5153209, dtype: int64\n"
     ]
    }
   ],
   "source": [
    "# Imprimir la columna 'items_count'\n",
    "print(df_ui['items_count'])"
   ]
  },
  {
   "cell_type": "code",
   "execution_count": 12,
   "metadata": {},
   "outputs": [],
   "source": [
    "# Convertir la columna a tipo int\n",
    "df_ui['items_count'] = df_ui['items_count'].astype(int)"
   ]
  },
  {
   "cell_type": "markdown",
   "metadata": {},
   "source": [
    "## Columna steam_id"
   ]
  },
  {
   "cell_type": "code",
   "execution_count": 13,
   "metadata": {},
   "outputs": [
    {
     "name": "stdout",
     "output_type": "stream",
     "text": [
      "0          76561197970982479\n",
      "1          76561197970982479\n",
      "2          76561197970982479\n",
      "3          76561197970982479\n",
      "4          76561197970982479\n",
      "                 ...        \n",
      "5153204    76561198329548331\n",
      "5153205    76561198329548331\n",
      "5153206    76561198329548331\n",
      "5153207    76561198329548331\n",
      "5153208    76561198329548331\n",
      "Name: steam_id, Length: 5153209, dtype: object\n"
     ]
    }
   ],
   "source": [
    "# Imprimir la columna 'steam_id'\n",
    "print(df_ui['steam_id'])"
   ]
  },
  {
   "cell_type": "code",
   "execution_count": 14,
   "metadata": {},
   "outputs": [
    {
     "name": "stdout",
     "output_type": "stream",
     "text": [
      "Cantidad de usuarios únicos: 70912\n"
     ]
    }
   ],
   "source": [
    "# Calcula el número de valores únicos en la columna 'steam_id'\n",
    "unique_steam_count = df_ui['steam_id'].nunique()  \n",
    "print(\"Cantidad de usuarios únicos:\", unique_steam_count)  \n"
   ]
  },
  {
   "cell_type": "code",
   "execution_count": 15,
   "metadata": {},
   "outputs": [],
   "source": [
    "# Convertir la columna \"steam_id\" a tipo numerico\n",
    "df_ui['steam_id'] = pd.to_numeric(df_ui['steam_id'], errors='coerce', downcast='integer')"
   ]
  },
  {
   "cell_type": "markdown",
   "metadata": {},
   "source": [
    "## Columna user_url"
   ]
  },
  {
   "cell_type": "code",
   "execution_count": 16,
   "metadata": {},
   "outputs": [
    {
     "name": "stdout",
     "output_type": "stream",
     "text": [
      "0          http://steamcommunity.com/profiles/76561197970...\n",
      "1          http://steamcommunity.com/profiles/76561197970...\n",
      "2          http://steamcommunity.com/profiles/76561197970...\n",
      "3          http://steamcommunity.com/profiles/76561197970...\n",
      "4          http://steamcommunity.com/profiles/76561197970...\n",
      "                                 ...                        \n",
      "5153204    http://steamcommunity.com/profiles/76561198329...\n",
      "5153205    http://steamcommunity.com/profiles/76561198329...\n",
      "5153206    http://steamcommunity.com/profiles/76561198329...\n",
      "5153207    http://steamcommunity.com/profiles/76561198329...\n",
      "5153208    http://steamcommunity.com/profiles/76561198329...\n",
      "Name: user_url, Length: 5153209, dtype: object\n"
     ]
    }
   ],
   "source": [
    "# Imprimir la columna 'user_url'\n",
    "print(df_ui['user_url'])"
   ]
  },
  {
   "cell_type": "markdown",
   "metadata": {},
   "source": [
    "Esta información no es relevante para el proyecto, por lo que decidimos eliminar esta columna."
   ]
  },
  {
   "cell_type": "code",
   "execution_count": 17,
   "metadata": {},
   "outputs": [],
   "source": [
    "# Eliminar columna \"user_url\"\n",
    "df_ui = df_ui.drop('user_url', axis=1)"
   ]
  },
  {
   "cell_type": "markdown",
   "metadata": {},
   "source": [
    "## Columna item_id"
   ]
  },
  {
   "cell_type": "code",
   "execution_count": 18,
   "metadata": {},
   "outputs": [
    {
     "name": "stdout",
     "output_type": "stream",
     "text": [
      "0              10\n",
      "1              20\n",
      "2              30\n",
      "3              40\n",
      "4              50\n",
      "            ...  \n",
      "5153204    346330\n",
      "5153205    373330\n",
      "5153206    388490\n",
      "5153207    521570\n",
      "5153208    519140\n",
      "Name: item_id, Length: 5153209, dtype: object\n"
     ]
    }
   ],
   "source": [
    "# Imprimir la columna 'item_id'\n",
    "print(df_ui['item_id'])"
   ]
  },
  {
   "cell_type": "code",
   "execution_count": 19,
   "metadata": {},
   "outputs": [
    {
     "name": "stdout",
     "output_type": "stream",
     "text": [
      "Cantidad de item_id únicos: 10978\n"
     ]
    }
   ],
   "source": [
    "# Valores únicos en la columna 'item_id'\n",
    "unique_item_count = df_ui['item_id'].nunique()\n",
    "print(\"Cantidad de item_id únicos:\", unique_item_count)"
   ]
  },
  {
   "cell_type": "code",
   "execution_count": 20,
   "metadata": {},
   "outputs": [],
   "source": [
    "# Convertir la columna 'item_id' en tipo numerico\n",
    "df_ui['item_id'] = pd.to_numeric(df_ui['item_id'], errors='coerce').astype('Int64')"
   ]
  },
  {
   "cell_type": "markdown",
   "metadata": {},
   "source": [
    "## Columna item_name"
   ]
  },
  {
   "cell_type": "code",
   "execution_count": 21,
   "metadata": {},
   "outputs": [
    {
     "name": "stdout",
     "output_type": "stream",
     "text": [
      "0                         Counter-Strike\n",
      "1                  Team Fortress Classic\n",
      "2                          Day of Defeat\n",
      "3                     Deathmatch Classic\n",
      "4              Half-Life: Opposing Force\n",
      "                       ...              \n",
      "5153204                     BrainBread 2\n",
      "5153205                      All Is Dust\n",
      "5153206    One Way To Die: Steam Edition\n",
      "5153207            You Have 10 Seconds 2\n",
      "5153208                       Minds Eyes\n",
      "Name: item_name, Length: 5153209, dtype: object\n"
     ]
    }
   ],
   "source": [
    "# Imprimir la columna 'item_name'\n",
    "print(df_ui['item_name'])"
   ]
  },
  {
   "cell_type": "code",
   "execution_count": 22,
   "metadata": {},
   "outputs": [
    {
     "name": "stdout",
     "output_type": "stream",
     "text": [
      "Cantidad de item_name únicos: 10947\n"
     ]
    }
   ],
   "source": [
    "# Valores únicos en la columna 'item_name'\n",
    "unique_itemn_count = df_ui['item_name'].nunique()\n",
    "print(\"Cantidad de item_name únicos:\", unique_itemn_count)"
   ]
  },
  {
   "cell_type": "markdown",
   "metadata": {},
   "source": [
    "## Columna playtime_forever"
   ]
  },
  {
   "cell_type": "code",
   "execution_count": 23,
   "metadata": {},
   "outputs": [
    {
     "name": "stdout",
     "output_type": "stream",
     "text": [
      "0          6.0\n",
      "1          0.0\n",
      "2          7.0\n",
      "3          0.0\n",
      "4          0.0\n",
      "          ... \n",
      "5153204    0.0\n",
      "5153205    0.0\n",
      "5153206    3.0\n",
      "5153207    4.0\n",
      "5153208    3.0\n",
      "Name: playtime_forever, Length: 5153209, dtype: float64\n"
     ]
    }
   ],
   "source": [
    "# Imprimir la columna 'playtime_forever'\n",
    "print(df_ui['playtime_forever'])"
   ]
  },
  {
   "cell_type": "markdown",
   "metadata": {},
   "source": [
    "Con el siguiente código queremos ver la naturaleza de los datos de la columna y comprender si hablamos de minutos u horas."
   ]
  },
  {
   "cell_type": "code",
   "execution_count": 24,
   "metadata": {},
   "outputs": [
    {
     "name": "stdout",
     "output_type": "stream",
     "text": [
      "Valor más alto en playtime_forever: 642773.0\n",
      "Valor más bajo en playtime_forever: 0.0\n"
     ]
    }
   ],
   "source": [
    "# Valor más alto\n",
    "max_playtime = df_ui['playtime_forever'].max()\n",
    "print(\"Valor más alto en playtime_forever:\", max_playtime)\n",
    "\n",
    "# Valor más bajo\n",
    "min_playtime = df_ui['playtime_forever'].min()\n",
    "print(\"Valor más bajo en playtime_forever:\", min_playtime)"
   ]
  },
  {
   "cell_type": "markdown",
   "metadata": {},
   "source": [
    "Claramente, al revisar los resultados, podemos advertir que la columna presenta la información en forma de minutos; de lo contrario, si fueran horas, no tendría sentido."
   ]
  },
  {
   "cell_type": "code",
   "execution_count": 25,
   "metadata": {},
   "outputs": [
    {
     "name": "stdout",
     "output_type": "stream",
     "text": [
      "Número de filas después de eliminar ceros en playtime_forever: 3285246\n"
     ]
    }
   ],
   "source": [
    "# Eliminar las filas donde playtime_forever sea igual a cero\n",
    "df_ui = df_ui[df_ui['playtime_forever'] != 0.0]\n",
    "\n",
    "# Verificar el resultado\n",
    "print(\"Número de filas después de eliminar ceros en playtime_forever:\", len(df_ui))"
   ]
  },
  {
   "cell_type": "markdown",
   "metadata": {},
   "source": [
    "## Columna playtime_2weeks"
   ]
  },
  {
   "cell_type": "code",
   "execution_count": 26,
   "metadata": {},
   "outputs": [
    {
     "name": "stdout",
     "output_type": "stream",
     "text": [
      "0            0.0\n",
      "2            0.0\n",
      "8            0.0\n",
      "9            0.0\n",
      "10           0.0\n",
      "           ...  \n",
      "5153202    677.0\n",
      "5153203     43.0\n",
      "5153206      3.0\n",
      "5153207      4.0\n",
      "5153208      3.0\n",
      "Name: playtime_2weeks, Length: 3285246, dtype: float64\n"
     ]
    }
   ],
   "source": [
    "# Imprimir columna \"playtime-2weeks\"\n",
    "print(df_ui['playtime_2weeks'])"
   ]
  },
  {
   "cell_type": "markdown",
   "metadata": {},
   "source": [
    "Esta columna nos entrega la información del tiempo jugado en las últimas dos semanas. Esta información no es relevante para nuestro proyecto, por lo que decidimos eliminarla."
   ]
  },
  {
   "cell_type": "code",
   "execution_count": 27,
   "metadata": {},
   "outputs": [],
   "source": [
    "# Eliminar columna\n",
    "df_ui.drop(columns=['playtime_2weeks'], inplace=True)"
   ]
  },
  {
   "cell_type": "markdown",
   "metadata": {},
   "source": [
    "Reiniciamos el índice y revisamos información general del DataFrame."
   ]
  },
  {
   "cell_type": "code",
   "execution_count": 28,
   "metadata": {},
   "outputs": [],
   "source": [
    "# Reset al índice\n",
    "df_ui_reset = df_ui.reset_index(drop=True)\n"
   ]
  },
  {
   "cell_type": "code",
   "execution_count": 29,
   "metadata": {},
   "outputs": [
    {
     "data": {
      "text/html": [
       "<div>\n",
       "<style scoped>\n",
       "    .dataframe tbody tr th:only-of-type {\n",
       "        vertical-align: middle;\n",
       "    }\n",
       "\n",
       "    .dataframe tbody tr th {\n",
       "        vertical-align: top;\n",
       "    }\n",
       "\n",
       "    .dataframe thead th {\n",
       "        text-align: right;\n",
       "    }\n",
       "</style>\n",
       "<table border=\"1\" class=\"dataframe\">\n",
       "  <thead>\n",
       "    <tr style=\"text-align: right;\">\n",
       "      <th></th>\n",
       "      <th>user_id</th>\n",
       "      <th>items_count</th>\n",
       "      <th>steam_id</th>\n",
       "      <th>item_id</th>\n",
       "      <th>item_name</th>\n",
       "      <th>playtime_forever</th>\n",
       "    </tr>\n",
       "  </thead>\n",
       "  <tbody>\n",
       "    <tr>\n",
       "      <th>0</th>\n",
       "      <td>76561197970982479</td>\n",
       "      <td>277</td>\n",
       "      <td>76561197970982479</td>\n",
       "      <td>10</td>\n",
       "      <td>Counter-Strike</td>\n",
       "      <td>6.0</td>\n",
       "    </tr>\n",
       "    <tr>\n",
       "      <th>2</th>\n",
       "      <td>76561197970982479</td>\n",
       "      <td>277</td>\n",
       "      <td>76561197970982479</td>\n",
       "      <td>30</td>\n",
       "      <td>Day of Defeat</td>\n",
       "      <td>7.0</td>\n",
       "    </tr>\n",
       "    <tr>\n",
       "      <th>8</th>\n",
       "      <td>76561197970982479</td>\n",
       "      <td>277</td>\n",
       "      <td>76561197970982479</td>\n",
       "      <td>300</td>\n",
       "      <td>Day of Defeat: Source</td>\n",
       "      <td>4733.0</td>\n",
       "    </tr>\n",
       "    <tr>\n",
       "      <th>9</th>\n",
       "      <td>76561197970982479</td>\n",
       "      <td>277</td>\n",
       "      <td>76561197970982479</td>\n",
       "      <td>240</td>\n",
       "      <td>Counter-Strike: Source</td>\n",
       "      <td>1853.0</td>\n",
       "    </tr>\n",
       "    <tr>\n",
       "      <th>10</th>\n",
       "      <td>76561197970982479</td>\n",
       "      <td>277</td>\n",
       "      <td>76561197970982479</td>\n",
       "      <td>3830</td>\n",
       "      <td>Psychonauts</td>\n",
       "      <td>333.0</td>\n",
       "    </tr>\n",
       "    <tr>\n",
       "      <th>...</th>\n",
       "      <td>...</td>\n",
       "      <td>...</td>\n",
       "      <td>...</td>\n",
       "      <td>...</td>\n",
       "      <td>...</td>\n",
       "      <td>...</td>\n",
       "    </tr>\n",
       "    <tr>\n",
       "      <th>5153202</th>\n",
       "      <td>76561198329548331</td>\n",
       "      <td>7</td>\n",
       "      <td>76561198329548331</td>\n",
       "      <td>304930</td>\n",
       "      <td>Unturned</td>\n",
       "      <td>677.0</td>\n",
       "    </tr>\n",
       "    <tr>\n",
       "      <th>5153203</th>\n",
       "      <td>76561198329548331</td>\n",
       "      <td>7</td>\n",
       "      <td>76561198329548331</td>\n",
       "      <td>227940</td>\n",
       "      <td>Heroes &amp; Generals</td>\n",
       "      <td>43.0</td>\n",
       "    </tr>\n",
       "    <tr>\n",
       "      <th>5153206</th>\n",
       "      <td>76561198329548331</td>\n",
       "      <td>7</td>\n",
       "      <td>76561198329548331</td>\n",
       "      <td>388490</td>\n",
       "      <td>One Way To Die: Steam Edition</td>\n",
       "      <td>3.0</td>\n",
       "    </tr>\n",
       "    <tr>\n",
       "      <th>5153207</th>\n",
       "      <td>76561198329548331</td>\n",
       "      <td>7</td>\n",
       "      <td>76561198329548331</td>\n",
       "      <td>521570</td>\n",
       "      <td>You Have 10 Seconds 2</td>\n",
       "      <td>4.0</td>\n",
       "    </tr>\n",
       "    <tr>\n",
       "      <th>5153208</th>\n",
       "      <td>76561198329548331</td>\n",
       "      <td>7</td>\n",
       "      <td>76561198329548331</td>\n",
       "      <td>519140</td>\n",
       "      <td>Minds Eyes</td>\n",
       "      <td>3.0</td>\n",
       "    </tr>\n",
       "  </tbody>\n",
       "</table>\n",
       "<p>3285246 rows × 6 columns</p>\n",
       "</div>"
      ],
      "text/plain": [
       "                   user_id  items_count           steam_id  item_id  \\\n",
       "0        76561197970982479          277  76561197970982479       10   \n",
       "2        76561197970982479          277  76561197970982479       30   \n",
       "8        76561197970982479          277  76561197970982479      300   \n",
       "9        76561197970982479          277  76561197970982479      240   \n",
       "10       76561197970982479          277  76561197970982479     3830   \n",
       "...                    ...          ...                ...      ...   \n",
       "5153202  76561198329548331            7  76561198329548331   304930   \n",
       "5153203  76561198329548331            7  76561198329548331   227940   \n",
       "5153206  76561198329548331            7  76561198329548331   388490   \n",
       "5153207  76561198329548331            7  76561198329548331   521570   \n",
       "5153208  76561198329548331            7  76561198329548331   519140   \n",
       "\n",
       "                             item_name  playtime_forever  \n",
       "0                       Counter-Strike               6.0  \n",
       "2                        Day of Defeat               7.0  \n",
       "8                Day of Defeat: Source            4733.0  \n",
       "9               Counter-Strike: Source            1853.0  \n",
       "10                         Psychonauts             333.0  \n",
       "...                                ...               ...  \n",
       "5153202                       Unturned             677.0  \n",
       "5153203              Heroes & Generals              43.0  \n",
       "5153206  One Way To Die: Steam Edition               3.0  \n",
       "5153207          You Have 10 Seconds 2               4.0  \n",
       "5153208                     Minds Eyes               3.0  \n",
       "\n",
       "[3285246 rows x 6 columns]"
      ]
     },
     "execution_count": 29,
     "metadata": {},
     "output_type": "execute_result"
    }
   ],
   "source": [
    "df_ui"
   ]
  },
  {
   "cell_type": "code",
   "execution_count": 30,
   "metadata": {},
   "outputs": [
    {
     "name": "stdout",
     "output_type": "stream",
     "text": [
      "<class 'pandas.core.frame.DataFrame'>\n",
      "Index: 3285246 entries, 0 to 5153208\n",
      "Data columns (total 6 columns):\n",
      " #   Column            Dtype  \n",
      "---  ------            -----  \n",
      " 0   user_id           object \n",
      " 1   items_count       int32  \n",
      " 2   steam_id          int64  \n",
      " 3   item_id           Int64  \n",
      " 4   item_name         object \n",
      " 5   playtime_forever  float64\n",
      "dtypes: Int64(1), float64(1), int32(1), int64(1), object(2)\n",
      "memory usage: 166.1+ MB\n"
     ]
    }
   ],
   "source": [
    "df_ui.info()"
   ]
  },
  {
   "cell_type": "code",
   "execution_count": 31,
   "metadata": {},
   "outputs": [
    {
     "data": {
      "text/plain": [
       "user_id             0\n",
       "items_count         0\n",
       "steam_id            0\n",
       "item_id             0\n",
       "item_name           0\n",
       "playtime_forever    0\n",
       "dtype: int64"
      ]
     },
     "execution_count": 31,
     "metadata": {},
     "output_type": "execute_result"
    }
   ],
   "source": [
    "# Revisa nulos\n",
    "df_ui.isnull().sum()"
   ]
  },
  {
   "cell_type": "code",
   "execution_count": 32,
   "metadata": {},
   "outputs": [
    {
     "name": "stdout",
     "output_type": "stream",
     "text": [
      "El archivo CSV DataSet/clean_df_ui.csv ha sido creado.\n",
      "El archivo Parquet DataSet/clean_df_ui.parquet ha sido creado.\n"
     ]
    }
   ],
   "source": [
    "import pandas as pd\n",
    "\n",
    "# Ruta del archivo CSV\n",
    "# csv_path = 'DataSet/clean_df_ui.csv'\n",
    "\n",
    "# Ruta del archivo Parquet\n",
    "parquet_path = 'DataSet/clean_df_ui.parquet'\n",
    "\n",
    "# Guardar el DataFrame como un archivo CSV\n",
    "# df_ui.to_csv(csv_path, index=False)\n",
    "\n",
    "# Guardar el DataFrame como un archivo Parquet\n",
    "df_ui.to_parquet(parquet_path, index=False)\n",
    "\n",
    "# Verificar la creación de ambos archivos\n",
    "# print(f'El archivo CSV {csv_path} ha sido creado.')\n",
    "print(f'El archivo Parquet {parquet_path} ha sido creado.')\n"
   ]
  }
 ],
 "metadata": {
  "kernelspec": {
   "display_name": "mi_entorno_steam",
   "language": "python",
   "name": "python3"
  },
  "language_info": {
   "codemirror_mode": {
    "name": "ipython",
    "version": 3
   },
   "file_extension": ".py",
   "mimetype": "text/x-python",
   "name": "python",
   "nbconvert_exporter": "python",
   "pygments_lexer": "ipython3",
   "version": "3.11.5"
  }
 },
 "nbformat": 4,
 "nbformat_minor": 2
}
