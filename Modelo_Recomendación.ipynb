{
 "cells": [
  {
   "cell_type": "code",
   "execution_count": 1,
   "metadata": {},
   "outputs": [],
   "source": [
    "import pandas as pd\n",
    "from sklearn.decomposition import PCA\n",
    "from sklearn.metrics.pairwise import cosine_similarity"
   ]
  },
  {
   "cell_type": "code",
   "execution_count": 2,
   "metadata": {},
   "outputs": [],
   "source": [
    "# Nombres de los archivos parquet\n",
    "archivos_parquet = ['clean_df_ur.parquet', 'definitivo_df_ui.parquet', 'definitivo_df_sg.parquet']\n",
    "\n",
    "# Cargar el primer archivo parquet\n",
    "df_ur = pd.read_parquet('DataSet/' + archivos_parquet[0])\n",
    "\n",
    "# Cargar el segundo archivo parquet\n",
    "df_ui = pd.read_parquet('DataSet/' + archivos_parquet[1])\n",
    "\n",
    "# Cargar el tercer archivo parquet\n",
    "df_sg = pd.read_parquet('DataSet/' + archivos_parquet[2])"
   ]
  },
  {
   "cell_type": "markdown",
   "metadata": {},
   "source": [
    "A continuación, se crea el modelo de recomendación item-item. Para ello se unen los dataframes df_ui y df_sg para crear un conjunto de datos que incluye item_id, el logaritmo del tiempo de juego (playtime_forever_log), y el precio (price) de cada juego.\n",
    "\n",
    "Se eligen playtime_forever_log y price como las características principales para el modelo. Estas características son fundamentales para entender las preferencias de los usuarios y la popularidad de los juegos como se justificó en el EDA.\n",
    "\n",
    "Se aplica PCA para reducir la dimensionalidad de los datos a dos componentes principales. Esto ayuda a simplificar el modelo y a centrarse en las características más significativas.\n",
    "\n",
    "Finalmente, se define una función \"recomendacion_juego\" que toma un ID de juego y devuelve una lista de recomendaciones. La función utiliza la similitud del coseno para encontrar juegos con características similares en el espacio reducido.\n",
    "\n",
    "Este modelo ofrece una forma efectiva de recomendar juegos basándose en patrones de juego y precios, lo que puede ser especialmente útil para plataformas de distribución de juegos o servicios de recomendación personalizada."
   ]
  },
  {
   "cell_type": "code",
   "execution_count": 3,
   "metadata": {},
   "outputs": [
    {
     "name": "stdout",
     "output_type": "stream",
     "text": [
      "Según el ID ingresado, se recomiendan los siguientes juegos: ['Kerbal Space Program', \"Tom Clancy's Ghost Recon Phantoms - NA\", 'Guncraft', 'Tropico 5', 'VVVVVV']\n"
     ]
    }
   ],
   "source": [
    "# Unir df_ui y df_sg para obtener características relevantes de juegos\n",
    "combined_df = pd.merge(df_ui[['item_id', 'playtime_forever_log']], \n",
    "                       df_sg[['id', 'price']], \n",
    "                       left_on='item_id', \n",
    "                       right_on='id')\n",
    "\n",
    "# Seleccionar playtime_forever_log y price como características para el modelo\n",
    "game_features = combined_df[['playtime_forever_log', 'price']]\n",
    "\n",
    "# Inicializar PCA para reducir la dimensionalidad a dos componentes\n",
    "pca = PCA(n_components=2)  \n",
    "\n",
    "# Aplicar PCA a las características seleccionadas\n",
    "game_features_reduced = pca.fit_transform(game_features)\n",
    "\n",
    "# Definir la función de recomendación de juegos\n",
    "def recomendacion_juego(game_id, game_features_reduced, df_ui, top_n=5):\n",
    "    # Verificar si el ID del juego está en el rango válido\n",
    "    if game_id not in range(len(game_features_reduced)):\n",
    "        return \"El ID ingresado no arroja resultados. Inténtelo de nuevo.\"\n",
    "\n",
    "    # Extraer el vector de características para el juego especificado\n",
    "    game_vector = game_features_reduced[game_id:game_id+1]\n",
    "\n",
    "    # Calcular la similitud del coseno entre el juego y todos los demás\n",
    "    cosine_similarities = cosine_similarity(game_vector, game_features_reduced)\n",
    "\n",
    "    # Ordenar y seleccionar los índices de los juegos más similares\n",
    "    similar_games_indices = cosine_similarities.argsort()[0][-top_n-1:-1][::-1]\n",
    "\n",
    "    # Excluir el juego actual de las recomendaciones\n",
    "    similar_games_indices = [i for i in similar_games_indices if i != game_id]\n",
    "\n",
    "    # Verificar si se encontraron juegos similares\n",
    "    if len(similar_games_indices) == 0:\n",
    "        return \"No se encontraron juegos similares para recomendar.\"\n",
    "\n",
    "    # Obtener los nombres de los juegos recomendados\n",
    "    recommended_games = df_ui.loc[similar_games_indices, 'item_name']\n",
    "\n",
    "    # Devolver un mensaje con los nombres de los juegos recomendados por el modelo\n",
    "    return f\"Según el ID ingresado, se recomiendan los siguientes juegos: {recommended_games[:top_n].tolist()}\"\n",
    "\n",
    "# Ejemplo de uso del modelo para obtener recomendaciones\n",
    "id_del_juego = 227300  \n",
    "print(recomendacion_juego(id_del_juego, game_features_reduced, df_ui))\n",
    "\n"
   ]
  }
 ],
 "metadata": {
  "kernelspec": {
   "display_name": "mi_entorno_steam",
   "language": "python",
   "name": "python3"
  },
  "language_info": {
   "codemirror_mode": {
    "name": "ipython",
    "version": 3
   },
   "file_extension": ".py",
   "mimetype": "text/x-python",
   "name": "python",
   "nbconvert_exporter": "python",
   "pygments_lexer": "ipython3",
   "version": "3.11.5"
  }
 },
 "nbformat": 4,
 "nbformat_minor": 2
}
