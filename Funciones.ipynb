{
 "cells": [
  {
   "cell_type": "code",
   "execution_count": 1,
   "metadata": {},
   "outputs": [],
   "source": [
    "import pandas as pd\n",
    "\n",
    "# Nombres de los archivos parquet\n",
    "archivos_parquet = ['clean_df_ur.parquet', 'clean_df_ui.parquet', 'clean_df_sg.parquet']\n",
    "\n",
    "# Cargar el primer archivo parquet\n",
    "df_ur = pd.read_parquet('DataSet/' + archivos_parquet[0])\n",
    "\n",
    "# Cargar el segundo archivo parquet\n",
    "df_ui = pd.read_parquet('DataSet/' + archivos_parquet[1])\n",
    "\n",
    "# Cargar el tercer archivo parquet\n",
    "df_sg = pd.read_parquet('DataSet/' + archivos_parquet[2])"
   ]
  },
  {
   "cell_type": "code",
   "execution_count": null,
   "metadata": {},
   "outputs": [],
   "source": [
    "df_sg"
   ]
  },
  {
   "cell_type": "code",
   "execution_count": 2,
   "metadata": {},
   "outputs": [],
   "source": [
    "def PlayTimeGenre(genero: str):\n",
    "    # Unir df_ui con df_sg\n",
    "    merged_df = pd.merge(df_ui, df_sg, left_on='item_id', right_on='id')\n",
    "\n",
    "    # Filtrar por género y calcular las horas jugadas por año\n",
    "    filtered_df = merged_df[merged_df['genres'].str.contains(genero)]\n",
    "    hours_by_year = filtered_df.groupby('release_year')['playtime_forever'].sum()\n",
    "\n",
    "    # Encontrar el año con más horas jugadas\n",
    "    max_year = hours_by_year.idxmax()\n",
    "\n",
    "    return {\"Año de lanzamiento con más horas jugadas para Género {}\".format(genero): max_year}\n"
   ]
  },
  {
   "cell_type": "code",
   "execution_count": 7,
   "metadata": {},
   "outputs": [
    {
     "name": "stdout",
     "output_type": "stream",
     "text": [
      "{'Año de lanzamiento con más horas jugadas para Género Action': 2012.0}\n"
     ]
    }
   ],
   "source": [
    "# Ejemplo de prueba para PlayTimeGenre\n",
    "print(PlayTimeGenre(\"Action\"))\n"
   ]
  },
  {
   "cell_type": "code",
   "execution_count": 15,
   "metadata": {},
   "outputs": [],
   "source": [
    "def UserForGenre(genero: str):\n",
    "    # Unir df_ui con df_sg\n",
    "    merged_df = pd.merge(df_ui, df_sg, left_on='item_id', right_on='id')\n",
    "\n",
    "    # Filtrar por género\n",
    "    filtered_df = merged_df[merged_df['genres'].str.contains(genero)]\n",
    "\n",
    "    # Encontrar el usuario con más horas jugadas (en minutos originalmente)\n",
    "    top_user = filtered_df.groupby('user_id')['playtime_forever'].sum().idxmax()\n",
    "\n",
    "    # Horas jugadas por año para el top usuario\n",
    "    # Convertimos los minutos a horas dividiendo por 60\n",
    "    hours_by_year = filtered_df[filtered_df['user_id'] == top_user].groupby('release_year')['playtime_forever'].sum().reset_index()\n",
    "    hours_by_year['playtime_forever'] = hours_by_year['playtime_forever'] / 60  # Convertir a horas\n",
    "\n",
    "    return {\"Usuario con más horas jugadas para Género {}\".format(genero): top_user, \"Horas jugadas\": hours_by_year.to_dict('records')}\n"
   ]
  },
  {
   "cell_type": "code",
   "execution_count": 16,
   "metadata": {},
   "outputs": [
    {
     "name": "stdout",
     "output_type": "stream",
     "text": [
      "{'Usuario con más horas jugadas para Género Action': 'Sp3ctre', 'Horas jugadas': [{'release_year': 1995.0, 'playtime_forever': 3.6166666666666667}, {'release_year': 1999.0, 'playtime_forever': 0.7333333333333333}, {'release_year': 2000.0, 'playtime_forever': 1177.4}, {'release_year': 2001.0, 'playtime_forever': 0.21666666666666667}, {'release_year': 2002.0, 'playtime_forever': 3.966666666666667}, {'release_year': 2003.0, 'playtime_forever': 127.88333333333334}, {'release_year': 2004.0, 'playtime_forever': 2123.516666666667}, {'release_year': 2005.0, 'playtime_forever': 355.65}, {'release_year': 2006.0, 'playtime_forever': 14.933333333333334}, {'release_year': 2007.0, 'playtime_forever': 1879.7333333333333}, {'release_year': 2008.0, 'playtime_forever': 3.7333333333333334}, {'release_year': 2009.0, 'playtime_forever': 1805.4333333333334}, {'release_year': 2010.0, 'playtime_forever': 1301.3833333333334}, {'release_year': 2011.0, 'playtime_forever': 2581.6}, {'release_year': 2012.0, 'playtime_forever': 6304.933333333333}, {'release_year': 2013.0, 'playtime_forever': 2005.1}, {'release_year': 2014.0, 'playtime_forever': 2174.2}, {'release_year': 2014.8463665639877, 'playtime_forever': 110.95}, {'release_year': 2015.0, 'playtime_forever': 5125.166666666667}, {'release_year': 2016.0, 'playtime_forever': 488.3}, {'release_year': 2017.0, 'playtime_forever': 722.1166666666667}]}\n"
     ]
    }
   ],
   "source": [
    "# Ejemplo de prueba para UserForGenre\n",
    "print(UserForGenre(\"Action\"))\n"
   ]
  },
  {
   "cell_type": "code",
   "execution_count": 4,
   "metadata": {},
   "outputs": [],
   "source": [
    "def UsersRecommend(año: int):\n",
    "    # Filtrar por año y recomendación positiva/neutra\n",
    "    filtered_df = df_ur[(df_ur['posted_year'] == año) & (df_ur['recommend'] == True) & (df_ur['sentiment_analysis'] > 0)]\n",
    "\n",
    "    # Agrupar por juego y contar recomendaciones\n",
    "    top_games = filtered_df['item_id'].value_counts().head(3).index.tolist()\n",
    "\n",
    "    return [{\"Puesto {}\".format(i+1): game} for i, game in enumerate(top_games)]\n"
   ]
  },
  {
   "cell_type": "code",
   "execution_count": 11,
   "metadata": {},
   "outputs": [
    {
     "name": "stdout",
     "output_type": "stream",
     "text": [
      "[{'Puesto 1': 730}, {'Puesto 2': 440}, {'Puesto 3': 4000}]\n"
     ]
    }
   ],
   "source": [
    "# Ejemplo de prueba para UsersRecommend\n",
    "print(UsersRecommend(2016))\n"
   ]
  },
  {
   "cell_type": "code",
   "execution_count": 5,
   "metadata": {},
   "outputs": [],
   "source": [
    "def UsersWorstDeveloper(año: int):\n",
    "    # Unir df_ur con df_sg\n",
    "    merged_df = pd.merge(df_ur, df_sg, left_on='item_id', right_on='id')\n",
    "\n",
    "    # Filtrar por año y recomendación negativa\n",
    "    filtered_df = merged_df[(merged_df['posted_year'] == año) & (merged_df['recommend'] == False) & (merged_df['sentiment_analysis'] == 0)]\n",
    "\n",
    "    # Agrupar por desarrollador y contar recomendaciones negativas\n",
    "    worst_devs = filtered_df['developer'].value_counts().head(3).index.tolist()\n",
    "\n",
    "    return [{\"Puesto {}\".format(i+1): dev} for i, dev in enumerate(worst_devs)]\n"
   ]
  },
  {
   "cell_type": "code",
   "execution_count": 13,
   "metadata": {},
   "outputs": [
    {
     "name": "stdout",
     "output_type": "stream",
     "text": [
      "[{'Puesto 1': 'Valve'}, {'Puesto 2': 'Hello Games'}, {'Puesto 3': 'Studio Wildcard,Instinct Games,Efecto Studios,Virtual Basement LLC'}]\n"
     ]
    }
   ],
   "source": [
    "# Ejemplo de prueba para UsersWorstDeveloper\n",
    "print(UsersWorstDeveloper(2016))\n"
   ]
  },
  {
   "cell_type": "code",
   "execution_count": 6,
   "metadata": {},
   "outputs": [],
   "source": [
    "def sentiment_analysis(empresa_desarrolladora: str):\n",
    "    # Unir df_ur con df_sg\n",
    "    merged_df = pd.merge(df_ur, df_sg, left_on='item_id', right_on='id')\n",
    "\n",
    "    # Filtrar por desarrollador\n",
    "    filtered_df = merged_df[merged_df['developer'] == empresa_desarrolladora]\n",
    "\n",
    "    # Contar análisis de sentimiento\n",
    "    sentiment_counts = filtered_df['sentiment_analysis'].value_counts().to_dict()\n",
    "\n",
    "    return {empresa_desarrolladora: {\"Negative\": sentiment_counts.get(0, 0), \"Neutral\": sentiment_counts.get(1, 0), \"Positive\": sentiment_counts.get(2, 0)}}\n"
   ]
  },
  {
   "cell_type": "code",
   "execution_count": 14,
   "metadata": {},
   "outputs": [
    {
     "name": "stdout",
     "output_type": "stream",
     "text": [
      "{'Valve': {'Negative': 1609, 'Neutral': 2570, 'Positive': 5384}}\n"
     ]
    }
   ],
   "source": [
    "# Ejemplo de prueba para sentiment_analysis\n",
    "print(sentiment_analysis(\"Valve\"))\n"
   ]
  }
 ],
 "metadata": {
  "kernelspec": {
   "display_name": "mi_entorno_steam",
   "language": "python",
   "name": "python3"
  },
  "language_info": {
   "codemirror_mode": {
    "name": "ipython",
    "version": 3
   },
   "file_extension": ".py",
   "mimetype": "text/x-python",
   "name": "python",
   "nbconvert_exporter": "python",
   "pygments_lexer": "ipython3",
   "version": "3.11.5"
  }
 },
 "nbformat": 4,
 "nbformat_minor": 2
}
