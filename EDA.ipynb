{
 "cells": [
  {
   "cell_type": "code",
   "execution_count": 1,
   "metadata": {},
   "outputs": [],
   "source": [
    "import pandas as pd\n",
    "import matplotlib.pyplot as plt\n",
    "import seaborn as sns\n",
    "import numpy as np"
   ]
  },
  {
   "cell_type": "code",
   "execution_count": 2,
   "metadata": {},
   "outputs": [],
   "source": [
    "# Nombres de los archivos parquet\n",
    "archivos_parquet = ['clean_df_ur.parquet', 'clean_df_ui.parquet', 'clean_df_sg.parquet']\n",
    "\n",
    "# Cargar el primer archivo parquet\n",
    "df_ur = pd.read_parquet('DataSet/' + archivos_parquet[0])\n",
    "\n",
    "# Cargar el segundo archivo parquet\n",
    "df_ui = pd.read_parquet('DataSet/' + archivos_parquet[1])\n",
    "\n",
    "# Cargar el tercer archivo parquet\n",
    "df_sg = pd.read_parquet('DataSet/' + archivos_parquet[2])\n"
   ]
  },
  {
   "cell_type": "code",
   "execution_count": 3,
   "metadata": {},
   "outputs": [
    {
     "data": {
      "text/html": [
       "<div>\n",
       "<style scoped>\n",
       "    .dataframe tbody tr th:only-of-type {\n",
       "        vertical-align: middle;\n",
       "    }\n",
       "\n",
       "    .dataframe tbody tr th {\n",
       "        vertical-align: top;\n",
       "    }\n",
       "\n",
       "    .dataframe thead th {\n",
       "        text-align: right;\n",
       "    }\n",
       "</style>\n",
       "<table border=\"1\" class=\"dataframe\">\n",
       "  <thead>\n",
       "    <tr style=\"text-align: right;\">\n",
       "      <th></th>\n",
       "      <th>user_id</th>\n",
       "      <th>item_id</th>\n",
       "      <th>recommend</th>\n",
       "      <th>posted_year</th>\n",
       "      <th>sentiment_analysis</th>\n",
       "    </tr>\n",
       "  </thead>\n",
       "  <tbody>\n",
       "    <tr>\n",
       "      <th>0</th>\n",
       "      <td>76561197970982479</td>\n",
       "      <td>1250</td>\n",
       "      <td>True</td>\n",
       "      <td>2011</td>\n",
       "      <td>2</td>\n",
       "    </tr>\n",
       "    <tr>\n",
       "      <th>1</th>\n",
       "      <td>76561197970982479</td>\n",
       "      <td>22200</td>\n",
       "      <td>True</td>\n",
       "      <td>2011</td>\n",
       "      <td>2</td>\n",
       "    </tr>\n",
       "    <tr>\n",
       "      <th>2</th>\n",
       "      <td>76561197970982479</td>\n",
       "      <td>43110</td>\n",
       "      <td>True</td>\n",
       "      <td>2011</td>\n",
       "      <td>2</td>\n",
       "    </tr>\n",
       "    <tr>\n",
       "      <th>3</th>\n",
       "      <td>js41637</td>\n",
       "      <td>251610</td>\n",
       "      <td>True</td>\n",
       "      <td>2014</td>\n",
       "      <td>2</td>\n",
       "    </tr>\n",
       "    <tr>\n",
       "      <th>4</th>\n",
       "      <td>js41637</td>\n",
       "      <td>227300</td>\n",
       "      <td>True</td>\n",
       "      <td>2013</td>\n",
       "      <td>0</td>\n",
       "    </tr>\n",
       "    <tr>\n",
       "      <th>...</th>\n",
       "      <td>...</td>\n",
       "      <td>...</td>\n",
       "      <td>...</td>\n",
       "      <td>...</td>\n",
       "      <td>...</td>\n",
       "    </tr>\n",
       "    <tr>\n",
       "      <th>59300</th>\n",
       "      <td>76561198312638244</td>\n",
       "      <td>70</td>\n",
       "      <td>True</td>\n",
       "      <td>2016</td>\n",
       "      <td>2</td>\n",
       "    </tr>\n",
       "    <tr>\n",
       "      <th>59301</th>\n",
       "      <td>76561198312638244</td>\n",
       "      <td>362890</td>\n",
       "      <td>True</td>\n",
       "      <td>2016</td>\n",
       "      <td>2</td>\n",
       "    </tr>\n",
       "    <tr>\n",
       "      <th>59302</th>\n",
       "      <td>LydiaMorley</td>\n",
       "      <td>273110</td>\n",
       "      <td>True</td>\n",
       "      <td>2016</td>\n",
       "      <td>2</td>\n",
       "    </tr>\n",
       "    <tr>\n",
       "      <th>59303</th>\n",
       "      <td>LydiaMorley</td>\n",
       "      <td>730</td>\n",
       "      <td>True</td>\n",
       "      <td>2016</td>\n",
       "      <td>2</td>\n",
       "    </tr>\n",
       "    <tr>\n",
       "      <th>59304</th>\n",
       "      <td>LydiaMorley</td>\n",
       "      <td>440</td>\n",
       "      <td>True</td>\n",
       "      <td>2016</td>\n",
       "      <td>2</td>\n",
       "    </tr>\n",
       "  </tbody>\n",
       "</table>\n",
       "<p>59305 rows × 5 columns</p>\n",
       "</div>"
      ],
      "text/plain": [
       "                 user_id  item_id  recommend  posted_year  sentiment_analysis\n",
       "0      76561197970982479     1250       True         2011                   2\n",
       "1      76561197970982479    22200       True         2011                   2\n",
       "2      76561197970982479    43110       True         2011                   2\n",
       "3                js41637   251610       True         2014                   2\n",
       "4                js41637   227300       True         2013                   0\n",
       "...                  ...      ...        ...          ...                 ...\n",
       "59300  76561198312638244       70       True         2016                   2\n",
       "59301  76561198312638244   362890       True         2016                   2\n",
       "59302        LydiaMorley   273110       True         2016                   2\n",
       "59303        LydiaMorley      730       True         2016                   2\n",
       "59304        LydiaMorley      440       True         2016                   2\n",
       "\n",
       "[59305 rows x 5 columns]"
      ]
     },
     "execution_count": 3,
     "metadata": {},
     "output_type": "execute_result"
    }
   ],
   "source": [
    "df_ur"
   ]
  },
  {
   "cell_type": "code",
   "execution_count": 4,
   "metadata": {},
   "outputs": [
    {
     "data": {
      "text/html": [
       "<div>\n",
       "<style scoped>\n",
       "    .dataframe tbody tr th:only-of-type {\n",
       "        vertical-align: middle;\n",
       "    }\n",
       "\n",
       "    .dataframe tbody tr th {\n",
       "        vertical-align: top;\n",
       "    }\n",
       "\n",
       "    .dataframe thead th {\n",
       "        text-align: right;\n",
       "    }\n",
       "</style>\n",
       "<table border=\"1\" class=\"dataframe\">\n",
       "  <thead>\n",
       "    <tr style=\"text-align: right;\">\n",
       "      <th></th>\n",
       "      <th>user_id</th>\n",
       "      <th>items_count</th>\n",
       "      <th>steam_id</th>\n",
       "      <th>item_id</th>\n",
       "      <th>item_name</th>\n",
       "      <th>playtime_forever</th>\n",
       "    </tr>\n",
       "  </thead>\n",
       "  <tbody>\n",
       "    <tr>\n",
       "      <th>0</th>\n",
       "      <td>76561197970982479</td>\n",
       "      <td>277</td>\n",
       "      <td>76561197970982479</td>\n",
       "      <td>10</td>\n",
       "      <td>Counter-Strike</td>\n",
       "      <td>6.0</td>\n",
       "    </tr>\n",
       "    <tr>\n",
       "      <th>1</th>\n",
       "      <td>76561197970982479</td>\n",
       "      <td>277</td>\n",
       "      <td>76561197970982479</td>\n",
       "      <td>30</td>\n",
       "      <td>Day of Defeat</td>\n",
       "      <td>7.0</td>\n",
       "    </tr>\n",
       "    <tr>\n",
       "      <th>2</th>\n",
       "      <td>76561197970982479</td>\n",
       "      <td>277</td>\n",
       "      <td>76561197970982479</td>\n",
       "      <td>300</td>\n",
       "      <td>Day of Defeat: Source</td>\n",
       "      <td>4733.0</td>\n",
       "    </tr>\n",
       "    <tr>\n",
       "      <th>3</th>\n",
       "      <td>76561197970982479</td>\n",
       "      <td>277</td>\n",
       "      <td>76561197970982479</td>\n",
       "      <td>240</td>\n",
       "      <td>Counter-Strike: Source</td>\n",
       "      <td>1853.0</td>\n",
       "    </tr>\n",
       "    <tr>\n",
       "      <th>4</th>\n",
       "      <td>76561197970982479</td>\n",
       "      <td>277</td>\n",
       "      <td>76561197970982479</td>\n",
       "      <td>3830</td>\n",
       "      <td>Psychonauts</td>\n",
       "      <td>333.0</td>\n",
       "    </tr>\n",
       "    <tr>\n",
       "      <th>...</th>\n",
       "      <td>...</td>\n",
       "      <td>...</td>\n",
       "      <td>...</td>\n",
       "      <td>...</td>\n",
       "      <td>...</td>\n",
       "      <td>...</td>\n",
       "    </tr>\n",
       "    <tr>\n",
       "      <th>3285241</th>\n",
       "      <td>76561198329548331</td>\n",
       "      <td>7</td>\n",
       "      <td>76561198329548331</td>\n",
       "      <td>304930</td>\n",
       "      <td>Unturned</td>\n",
       "      <td>677.0</td>\n",
       "    </tr>\n",
       "    <tr>\n",
       "      <th>3285242</th>\n",
       "      <td>76561198329548331</td>\n",
       "      <td>7</td>\n",
       "      <td>76561198329548331</td>\n",
       "      <td>227940</td>\n",
       "      <td>Heroes &amp; Generals</td>\n",
       "      <td>43.0</td>\n",
       "    </tr>\n",
       "    <tr>\n",
       "      <th>3285243</th>\n",
       "      <td>76561198329548331</td>\n",
       "      <td>7</td>\n",
       "      <td>76561198329548331</td>\n",
       "      <td>388490</td>\n",
       "      <td>One Way To Die: Steam Edition</td>\n",
       "      <td>3.0</td>\n",
       "    </tr>\n",
       "    <tr>\n",
       "      <th>3285244</th>\n",
       "      <td>76561198329548331</td>\n",
       "      <td>7</td>\n",
       "      <td>76561198329548331</td>\n",
       "      <td>521570</td>\n",
       "      <td>You Have 10 Seconds 2</td>\n",
       "      <td>4.0</td>\n",
       "    </tr>\n",
       "    <tr>\n",
       "      <th>3285245</th>\n",
       "      <td>76561198329548331</td>\n",
       "      <td>7</td>\n",
       "      <td>76561198329548331</td>\n",
       "      <td>519140</td>\n",
       "      <td>Minds Eyes</td>\n",
       "      <td>3.0</td>\n",
       "    </tr>\n",
       "  </tbody>\n",
       "</table>\n",
       "<p>3285246 rows × 6 columns</p>\n",
       "</div>"
      ],
      "text/plain": [
       "                   user_id  items_count           steam_id  item_id  \\\n",
       "0        76561197970982479          277  76561197970982479       10   \n",
       "1        76561197970982479          277  76561197970982479       30   \n",
       "2        76561197970982479          277  76561197970982479      300   \n",
       "3        76561197970982479          277  76561197970982479      240   \n",
       "4        76561197970982479          277  76561197970982479     3830   \n",
       "...                    ...          ...                ...      ...   \n",
       "3285241  76561198329548331            7  76561198329548331   304930   \n",
       "3285242  76561198329548331            7  76561198329548331   227940   \n",
       "3285243  76561198329548331            7  76561198329548331   388490   \n",
       "3285244  76561198329548331            7  76561198329548331   521570   \n",
       "3285245  76561198329548331            7  76561198329548331   519140   \n",
       "\n",
       "                             item_name  playtime_forever  \n",
       "0                       Counter-Strike               6.0  \n",
       "1                        Day of Defeat               7.0  \n",
       "2                Day of Defeat: Source            4733.0  \n",
       "3               Counter-Strike: Source            1853.0  \n",
       "4                          Psychonauts             333.0  \n",
       "...                                ...               ...  \n",
       "3285241                       Unturned             677.0  \n",
       "3285242              Heroes & Generals              43.0  \n",
       "3285243  One Way To Die: Steam Edition               3.0  \n",
       "3285244          You Have 10 Seconds 2               4.0  \n",
       "3285245                     Minds Eyes               3.0  \n",
       "\n",
       "[3285246 rows x 6 columns]"
      ]
     },
     "execution_count": 4,
     "metadata": {},
     "output_type": "execute_result"
    }
   ],
   "source": [
    "df_ui"
   ]
  },
  {
   "cell_type": "code",
   "execution_count": 5,
   "metadata": {},
   "outputs": [
    {
     "data": {
      "text/html": [
       "<div>\n",
       "<style scoped>\n",
       "    .dataframe tbody tr th:only-of-type {\n",
       "        vertical-align: middle;\n",
       "    }\n",
       "\n",
       "    .dataframe tbody tr th {\n",
       "        vertical-align: top;\n",
       "    }\n",
       "\n",
       "    .dataframe thead th {\n",
       "        text-align: right;\n",
       "    }\n",
       "</style>\n",
       "<table border=\"1\" class=\"dataframe\">\n",
       "  <thead>\n",
       "    <tr style=\"text-align: right;\">\n",
       "      <th></th>\n",
       "      <th>title</th>\n",
       "      <th>price</th>\n",
       "      <th>early_access</th>\n",
       "      <th>id</th>\n",
       "      <th>genres</th>\n",
       "      <th>developer</th>\n",
       "      <th>release_year</th>\n",
       "    </tr>\n",
       "  </thead>\n",
       "  <tbody>\n",
       "    <tr>\n",
       "      <th>0</th>\n",
       "      <td>Lost Summoner Kitty</td>\n",
       "      <td>4.99</td>\n",
       "      <td>False</td>\n",
       "      <td>761140</td>\n",
       "      <td>Action, Casual, Indie, Simulation, Strategy</td>\n",
       "      <td>Kotoshiro</td>\n",
       "      <td>2018.0</td>\n",
       "    </tr>\n",
       "    <tr>\n",
       "      <th>1</th>\n",
       "      <td>Ironbound</td>\n",
       "      <td>0.00</td>\n",
       "      <td>False</td>\n",
       "      <td>643980</td>\n",
       "      <td>Free to Play, Indie, RPG, Strategy</td>\n",
       "      <td>Secret Level SRL</td>\n",
       "      <td>2018.0</td>\n",
       "    </tr>\n",
       "    <tr>\n",
       "      <th>2</th>\n",
       "      <td>Real Pool 3D - Poolians</td>\n",
       "      <td>0.00</td>\n",
       "      <td>False</td>\n",
       "      <td>670290</td>\n",
       "      <td>Casual, Free to Play, Indie, Simulation, Sports</td>\n",
       "      <td>Poolians.com</td>\n",
       "      <td>2017.0</td>\n",
       "    </tr>\n",
       "    <tr>\n",
       "      <th>3</th>\n",
       "      <td>弹炸人2222</td>\n",
       "      <td>0.99</td>\n",
       "      <td>False</td>\n",
       "      <td>767400</td>\n",
       "      <td>Action, Adventure, Casual</td>\n",
       "      <td>彼岸领域</td>\n",
       "      <td>2017.0</td>\n",
       "    </tr>\n",
       "    <tr>\n",
       "      <th>4</th>\n",
       "      <td>Battle Royale Trainer</td>\n",
       "      <td>3.99</td>\n",
       "      <td>False</td>\n",
       "      <td>772540</td>\n",
       "      <td>Action, Adventure, Simulation</td>\n",
       "      <td>Trickjump Games Ltd</td>\n",
       "      <td>2018.0</td>\n",
       "    </tr>\n",
       "    <tr>\n",
       "      <th>...</th>\n",
       "      <td>...</td>\n",
       "      <td>...</td>\n",
       "      <td>...</td>\n",
       "      <td>...</td>\n",
       "      <td>...</td>\n",
       "      <td>...</td>\n",
       "      <td>...</td>\n",
       "    </tr>\n",
       "    <tr>\n",
       "      <th>27630</th>\n",
       "      <td>Kebab it Up!</td>\n",
       "      <td>1.99</td>\n",
       "      <td>False</td>\n",
       "      <td>745400</td>\n",
       "      <td>Action, Adventure, Casual, Indie</td>\n",
       "      <td>Bidoniera Games</td>\n",
       "      <td>2018.0</td>\n",
       "    </tr>\n",
       "    <tr>\n",
       "      <th>27631</th>\n",
       "      <td>Colony On Mars</td>\n",
       "      <td>1.99</td>\n",
       "      <td>False</td>\n",
       "      <td>773640</td>\n",
       "      <td>Casual, Indie, Simulation, Strategy</td>\n",
       "      <td>Nikita \"Ghost_RUS\"</td>\n",
       "      <td>2018.0</td>\n",
       "    </tr>\n",
       "    <tr>\n",
       "      <th>27632</th>\n",
       "      <td>LOGistICAL: South Africa</td>\n",
       "      <td>4.99</td>\n",
       "      <td>False</td>\n",
       "      <td>733530</td>\n",
       "      <td>Casual, Indie, Strategy</td>\n",
       "      <td>Sacada</td>\n",
       "      <td>2018.0</td>\n",
       "    </tr>\n",
       "    <tr>\n",
       "      <th>27633</th>\n",
       "      <td>Russian Roads</td>\n",
       "      <td>1.99</td>\n",
       "      <td>False</td>\n",
       "      <td>610660</td>\n",
       "      <td>Indie, Racing, Simulation</td>\n",
       "      <td>Laush Dmitriy Sergeevich</td>\n",
       "      <td>2018.0</td>\n",
       "    </tr>\n",
       "    <tr>\n",
       "      <th>27634</th>\n",
       "      <td>EXIT 2 - Directions</td>\n",
       "      <td>4.99</td>\n",
       "      <td>False</td>\n",
       "      <td>658870</td>\n",
       "      <td>Casual, Indie</td>\n",
       "      <td>xropi,stev3ns</td>\n",
       "      <td>2017.0</td>\n",
       "    </tr>\n",
       "  </tbody>\n",
       "</table>\n",
       "<p>27635 rows × 7 columns</p>\n",
       "</div>"
      ],
      "text/plain": [
       "                          title  price  early_access      id  \\\n",
       "0           Lost Summoner Kitty   4.99         False  761140   \n",
       "1                     Ironbound   0.00         False  643980   \n",
       "2       Real Pool 3D - Poolians   0.00         False  670290   \n",
       "3                       弹炸人2222   0.99         False  767400   \n",
       "4         Battle Royale Trainer   3.99         False  772540   \n",
       "...                         ...    ...           ...     ...   \n",
       "27630              Kebab it Up!   1.99         False  745400   \n",
       "27631            Colony On Mars   1.99         False  773640   \n",
       "27632  LOGistICAL: South Africa   4.99         False  733530   \n",
       "27633             Russian Roads   1.99         False  610660   \n",
       "27634       EXIT 2 - Directions   4.99         False  658870   \n",
       "\n",
       "                                                genres  \\\n",
       "0          Action, Casual, Indie, Simulation, Strategy   \n",
       "1                   Free to Play, Indie, RPG, Strategy   \n",
       "2      Casual, Free to Play, Indie, Simulation, Sports   \n",
       "3                            Action, Adventure, Casual   \n",
       "4                        Action, Adventure, Simulation   \n",
       "...                                                ...   \n",
       "27630                 Action, Adventure, Casual, Indie   \n",
       "27631              Casual, Indie, Simulation, Strategy   \n",
       "27632                          Casual, Indie, Strategy   \n",
       "27633                        Indie, Racing, Simulation   \n",
       "27634                                    Casual, Indie   \n",
       "\n",
       "                      developer  release_year  \n",
       "0                     Kotoshiro        2018.0  \n",
       "1              Secret Level SRL        2018.0  \n",
       "2                  Poolians.com        2017.0  \n",
       "3                          彼岸领域        2017.0  \n",
       "4           Trickjump Games Ltd        2018.0  \n",
       "...                         ...           ...  \n",
       "27630           Bidoniera Games        2018.0  \n",
       "27631        Nikita \"Ghost_RUS\"        2018.0  \n",
       "27632                    Sacada        2018.0  \n",
       "27633  Laush Dmitriy Sergeevich        2018.0  \n",
       "27634             xropi,stev3ns        2017.0  \n",
       "\n",
       "[27635 rows x 7 columns]"
      ]
     },
     "execution_count": 5,
     "metadata": {},
     "output_type": "execute_result"
    }
   ],
   "source": [
    "df_sg"
   ]
  },
  {
   "cell_type": "markdown",
   "metadata": {},
   "source": [
    "# Estadísticas descrptivas"
   ]
  },
  {
   "cell_type": "markdown",
   "metadata": {},
   "source": [
    "## Realizamos una primera aproximación a los DataFrames que ya transformamos durante la etapa del ETL. Para ello utilizamos estadísticas descriptivas."
   ]
  },
  {
   "cell_type": "markdown",
   "metadata": {},
   "source": [
    "### Conclusiones del DataFrame df_ur, que son las transformaciones hechas sobre el DataSet australian_user_reviews. Este DataFrame trata, principalmente,  sobre opiniones de los usuarios.\n",
    "\n",
    "Observando la columna \"item_id\", cuyos datos varían entre 10 y 527340, con una media de 169935, se puede concluir que contiene una amplia gama de juegos reseñados.\n",
    "\n",
    "Respecto a la columna \"posted_year\", se observa que los años van desde 2010 hasta 2016, con una concentración alrededor de 2014. Esto sugiere que la mayoría de las reseñas fueron publicadas alrededor de ese año.\n",
    "\n",
    "Finalmente, las estadísticas descriptivas de la columna \"sentiment_analysis\" nos muestra que la mayoría de las reseñas tienen un valor de 2 (positivo), con un valor medio de 1.35. Esto indica una tendencia general hacia reseñas positivas en el conjunto de datos.\n"
   ]
  },
  {
   "cell_type": "code",
   "execution_count": 6,
   "metadata": {},
   "outputs": [
    {
     "name": "stdout",
     "output_type": "stream",
     "text": [
      "             item_id   posted_year  sentiment_analysis\n",
      "count   59305.000000  59305.000000        59305.000000\n",
      "mean   169935.176511   2014.465829            1.350476\n",
      "std    132029.464174      1.035367            0.810863\n",
      "min        10.000000   2010.000000            0.000000\n",
      "25%      8930.000000   2014.000000            1.000000\n",
      "50%    218230.000000   2014.000000            2.000000\n",
      "75%    261760.000000   2015.000000            2.000000\n",
      "max    527340.000000   2016.000000            2.000000\n"
     ]
    }
   ],
   "source": [
    "# Estadísticas descriptivas para df_ur\n",
    "print(df_ur.describe())"
   ]
  },
  {
   "cell_type": "markdown",
   "metadata": {},
   "source": [
    "### Conclusiones del DataFrame df_ui, que son las transformaciones hechas sobre el DataSet australian_users_items. Este DataFrame trata principalmente sobre información de los usuarios y juegos.\n",
    "\n",
    "La columna \"items_count\" nos informa sobre el número de juegos por usuario. Presenta una media de aproximadamente 247, pero con una alta desviación estándar, lo que sugiere una variabilidad considerable en la cantidad de juegos por usuario.\n",
    "\n",
    "La columna \"steam_id\" solo informa sobre el identificador único de cada usuario.\n",
    "\n",
    "Al igual que en el DataFrame df_ur, la columna \"item_id\", con datos que varían entre 10.0 y 528660, nos muestra que existe una amplia gama de juego en el DataFrame.\n",
    "\n",
    "Finalmente, la columna \"playtime_forever\" reseña el tiempo de juego de los usuarios en horas. Este tiempo de juego varía enormemente (de 1 a 642773 horas), con una media de 1555 horas. La gran desviación estándar indica una amplia dispersión en el tiempo de juego entre diferentes usuarios."
   ]
  },
  {
   "cell_type": "code",
   "execution_count": 7,
   "metadata": {},
   "outputs": [
    {
     "name": "stdout",
     "output_type": "stream",
     "text": [
      "        items_count      steam_id        item_id  playtime_forever\n",
      "count  3.285246e+06  3.285246e+06      3285246.0      3.285246e+06\n",
      "mean   2.474606e+02  7.656120e+16  177237.330951      1.555251e+03\n",
      "std    5.654248e+02  3.769564e+07  126674.065448      6.721032e+03\n",
      "min    1.000000e+00  7.656120e+16           10.0      1.000000e+00\n",
      "25%    6.600000e+01  7.656120e+16        39120.0      4.400000e+01\n",
      "50%    1.220000e+02  7.656120e+16       214950.0      2.050000e+02\n",
      "75%    2.290000e+02  7.656120e+16       263060.0      8.080000e+02\n",
      "max    7.762000e+03  7.656120e+16       528660.0      6.427730e+05\n"
     ]
    }
   ],
   "source": [
    "# Estadísticas descriptivas para df_ui\n",
    "print(df_ui.describe())"
   ]
  },
  {
   "cell_type": "markdown",
   "metadata": {},
   "source": [
    "### Conclusiones del DataFrame df_sg, que son las transformaciones hechas sobre el DataSet output_steam_games. Este DataFrame trata principalmente sobre información de los juegos.\n",
    "\n",
    "En la columna \"price\" vemos que el precio de los juegos varía desde 0 hasta 995, con una media de alrededor de 9. Esto sugiere que hay una mezcla de juegos gratuitos y de pago, con una tendencia hacia precios bajos y moderados.\n",
    "\n",
    "La columna \"id\" es sólo el identificador único de cada juego.\n",
    "\n",
    "Para cerrar, la columna \"release_year\" informa que los años de lanzamiento van de 1983 a 2021, pero la mayoría se concentra después de 2014. Esto indica que la mayor parte del conjunto de datos contiene juegos más recientes."
   ]
  },
  {
   "cell_type": "code",
   "execution_count": 8,
   "metadata": {},
   "outputs": [
    {
     "name": "stdout",
     "output_type": "stream",
     "text": [
      "              price            id  release_year\n",
      "count  27635.000000  2.763500e+04  27635.000000\n",
      "mean       9.008304  4.408806e+05   2014.858708\n",
      "std       16.041755  1.862946e+05      3.274919\n",
      "min        0.000000  1.000000e+01   1983.000000\n",
      "25%        2.990000  3.165510e+05   2014.000000\n",
      "50%        4.990000  4.366510e+05   2016.000000\n",
      "75%        9.990000  5.869450e+05   2017.000000\n",
      "max      995.000000  2.028850e+06   2021.000000\n"
     ]
    }
   ],
   "source": [
    "# Estadísticas descriptivas para df_sg\n",
    "print(df_sg.describe())"
   ]
  },
  {
   "cell_type": "markdown",
   "metadata": {},
   "source": [
    "# Exploración y visualización de datos.\n",
    "\n",
    "Se procede a explorar las columnas que pueden ser útiles para crear el modelo de recomendación item-item."
   ]
  },
  {
   "cell_type": "markdown",
   "metadata": {},
   "source": [
    "## Visualización de datos de la columna \"price\"\n",
    "\n",
    "El boxplot y las estadísticas descriptivas de la columna \"price\" indican que, aunque la mayoría de los juegos tienen precios bajos o moderados, existe un número considerable de juegos con precios mucho más altos, lo que provoca un sesgo en la distribución de precios."
   ]
  },
  {
   "cell_type": "code",
   "execution_count": 9,
   "metadata": {},
   "outputs": [
    {
     "data": {
      "image/png": "[encoded data removed]",
      "text/plain": [
       "<Figure size 640x480 with 1 Axes>"
      ]
     },
     "metadata": {},
     "output_type": "display_data"
    },
    {
     "name": "stdout",
     "output_type": "stream",
     "text": [
      "Estadísticas Descriptivas de Price:\n",
      " count    27635.000000\n",
      "mean         9.008304\n",
      "std         16.041755\n",
      "min          0.000000\n",
      "25%          2.990000\n",
      "50%          4.990000\n",
      "75%          9.990000\n",
      "max        995.000000\n",
      "Name: price, dtype: float64\n"
     ]
    }
   ],
   "source": [
    "# Boxplot para la columna 'price' en el DataFrame df_sg\n",
    "sns.boxplot(df_sg['price'])\n",
    "plt.title(\"Boxplot de Price\")\n",
    "plt.show()\n",
    "\n",
    "# Estadísticas descriptivas para 'price' en df_sg\n",
    "price_stats = df_sg['price'].describe()\n",
    "print(\"Estadísticas Descriptivas de Price:\\n\", price_stats)"
   ]
  },
  {
   "cell_type": "markdown",
   "metadata": {},
   "source": [
    "## Visualización de datos de la columna \"playtime_forever\"\n",
    "\n",
    "El boxplot y las estadísticas descriptivas de la columna \"playtime_forever\" indican que la mayoría de los jugadores tiene un tiempo de juego relativamente moderado, pero hay una cantidad significativa de usuarios con tiempos de juego mucho más altos. Esto podría sugerir que hay algunos jugadores extremadamente dedicados al gaming que distorsionan la media hacia un valor más alto. La presencia de estos valores más alejados de la media no implican necesariamente un error en la recolección de los datos, pero pueden distorsionar el modelo de recomendación imposibilitando realizar una recomendación óptima para el usuario."
   ]
  },
  {
   "cell_type": "code",
   "execution_count": 10,
   "metadata": {},
   "outputs": [
    {
     "data": {
      "image/png": "[encoded data removed]",
      "text/plain": [
       "<Figure size 640x480 with 1 Axes>"
      ]
     },
     "metadata": {},
     "output_type": "display_data"
    },
    {
     "name": "stdout",
     "output_type": "stream",
     "text": [
      "Estadísticas Descriptivas de Playtime Forever:\n",
      " count    3.285246e+06\n",
      "mean     1.555251e+03\n",
      "std      6.721032e+03\n",
      "min      1.000000e+00\n",
      "25%      4.400000e+01\n",
      "50%      2.050000e+02\n",
      "75%      8.080000e+02\n",
      "max      6.427730e+05\n",
      "Name: playtime_forever, dtype: float64\n"
     ]
    }
   ],
   "source": [
    "# Boxplot para la columna 'playtime_forever' en el DataFrame df_ui\n",
    "sns.boxplot(df_ui['playtime_forever'])\n",
    "plt.title(\"Boxplot de Playtime Forever\")\n",
    "plt.show()\n",
    "\n",
    "\n",
    "# Estadísticas descriptivas para 'playtime_forever' en df_ui\n",
    "playtime_forever_stats = df_ui['playtime_forever'].describe()\n",
    "print(\"Estadísticas Descriptivas de Playtime Forever:\\n\", playtime_forever_stats)"
   ]
  },
  {
   "cell_type": "markdown",
   "metadata": {},
   "source": [
    "Puesto que hemos detectado la presencia de valores outliers en la columna 'playtime_forever', se genera el código para identificar y contar los valores atípicos de la columna. \n",
    "\n",
    "Se utiliza el método de rango intercuartílico (IQR), que considera outliers a aquellos valores que están por debajo del primer cuartil menos 1.5 veces el IQR o, por otro lado, por encima del tercer cuartil más 1.5 veces el IQR. "
   ]
  },
  {
   "cell_type": "code",
   "execution_count": 11,
   "metadata": {},
   "outputs": [
    {
     "name": "stdout",
     "output_type": "stream",
     "text": [
      "Número de outliers en 'playtime_forever': 436754\n"
     ]
    }
   ],
   "source": [
    "# Calcular el primer cuartil (Q1) \n",
    "Q1 = df_ui['playtime_forever'].quantile(0.25)\n",
    "\n",
    "# Calcular el tercer cuartil (Q3)\n",
    "Q3 = df_ui['playtime_forever'].quantile(0.75)\n",
    "\n",
    "# Calcular el rango intercuartílico (IQR), que es la diferencia entre el tercer y primer cuartil\n",
    "IQR = Q3 - Q1\n",
    "\n",
    "# Definir el límite inferior para identificar outliers (cualquier valor por debajo de este límite se considera un outlier)\n",
    "lower_bound = Q1 - 1.5 * IQR\n",
    "\n",
    "# Definir el límite superior para identificar outliers. (cualquier valor por encima de este límite se considera un outlier)\n",
    "upper_bound = Q3 + 1.5 * IQR\n",
    "\n",
    "# Identificar los outliers. \n",
    "outliers = df_ui[(df_ui['playtime_forever'] < lower_bound) | (df_ui['playtime_forever'] > upper_bound)]\n",
    "\n",
    "# Contar el número total de outliers identificados \n",
    "num_outliers = outliers.shape[0]\n",
    "\n",
    "# Imprimir el número de outliers encontrados en 'playtime_forever'\n",
    "print(f\"Número de outliers en 'playtime_forever': {num_outliers}\")\n"
   ]
  },
  {
   "cell_type": "code",
   "execution_count": 12,
   "metadata": {},
   "outputs": [
    {
     "name": "stdout",
     "output_type": "stream",
     "text": [
      "Estadísticas Descriptivas de los Outliers en 'playtime_forever':\n",
      "count    436754.000000\n",
      "mean       9548.784256\n",
      "std       16275.314024\n",
      "min        1955.000000\n",
      "25%        2783.000000\n",
      "50%        4430.000000\n",
      "75%        9093.000000\n",
      "max      642773.000000\n",
      "Name: playtime_forever, dtype: float64\n"
     ]
    }
   ],
   "source": [
    "# Calcular estadísticas descriptivas para los valores atípicos (outliers) en la columna\n",
    "outliers_descriptive_stats = outliers['playtime_forever'].describe()\n",
    "\n",
    "print(\"Estadísticas Descriptivas de los Outliers en 'playtime_forever':\")\n",
    "print(outliers_descriptive_stats)\n",
    "\n"
   ]
  },
  {
   "cell_type": "code",
   "execution_count": 13,
   "metadata": {},
   "outputs": [
    {
     "name": "stdout",
     "output_type": "stream",
     "text": [
      "Estadísticas Descriptivas del Conjunto General en 'playtime_forever':\n",
      "count    3.285246e+06\n",
      "mean     1.555251e+03\n",
      "std      6.721032e+03\n",
      "min      1.000000e+00\n",
      "25%      4.400000e+01\n",
      "50%      2.050000e+02\n",
      "75%      8.080000e+02\n",
      "max      6.427730e+05\n",
      "Name: playtime_forever, dtype: float64\n"
     ]
    }
   ],
   "source": [
    "# Calcular estadísticas descriptivas para la columna 'playtime_forever' \n",
    "general_descriptive_stats = df_ui['playtime_forever'].describe()\n",
    "\n",
    "print(\"Estadísticas Descriptivas del Conjunto General en 'playtime_forever':\")\n",
    "print(general_descriptive_stats)\n"
   ]
  },
  {
   "cell_type": "markdown",
   "metadata": {},
   "source": [
    "La columna playtime_forever presenta una amplia gama de valores, que van desde tan solo 1 hora hasta 642,773 horas, lo que demuestra una gran variabilidad en el tiempo de juego de los usuarios. La presencia de un número significativo de outliers (436,754, que representan aproximadamente el 13% del total de los datos) indica una distribución sesgada de los datos.\n",
    "\n",
    "La media del conjunto completo de datos es de 1,555 horas, mientras que la media para los outliers es considerablemente más alta, aproximadamente 9,549 horas. Estos outliers pueden tener un impacto significativo en la media general, desplazándola hacia valores más altos. Además, la alta desviación estándar (6,721 horas para el conjunto completo y 16,275 horas para los outliers) refleja esta gran variabilidad y el sesgo de los datos.\n",
    "\n",
    "Estos valores atípicos tienen implicaciones para el modelo de recomendación, pues pueden generar distorsiones en los resultados del modelo, especialmente si se basa en la similitud del coseno, ya que los tiempos de juego extremadamente altos podrían influir desproporcionadamente en la similitud calculada entre ítems.\n",
    "\n",
    "Para resolver este problema, se transforman los valores de playtime_forever utilizando el logaritmo natural, lo que puede ayudar a reducir el impacto de los outliers extremos y normalizar la distribución de los datos. La función np.log1p es útil porque evita problemas con valores de cero, ya que log(0) no está definido y ello asegura que no se produzcan errores matemáticos o valores indefinidos cuando x es 0.\n",
    "\n",
    "Con esta transformación esperamos reducir el sesgo y la variabilidad de los datos haciendo más fácil manejar los datos y con ello mejorar la interpretación de los mismos."
   ]
  },
  {
   "cell_type": "code",
   "execution_count": 14,
   "metadata": {},
   "outputs": [
    {
     "name": "stdout",
     "output_type": "stream",
     "text": [
      "Estadísticas Descriptivas de 'playtime_forever' tras Transformación Logarítmica:\n",
      "count    3.285246e+06\n",
      "mean     5.245486e+00\n",
      "std      2.129951e+00\n",
      "min      6.931472e-01\n",
      "25%      3.806662e+00\n",
      "50%      5.327876e+00\n",
      "75%      6.695799e+00\n",
      "max      1.337355e+01\n",
      "Name: playtime_forever_log, dtype: float64\n"
     ]
    }
   ],
   "source": [
    "# np.log1p se usa para manejar valores de cero, ya que log(0) es indefinido\n",
    "df_ui['playtime_forever_log'] = np.log1p(df_ui['playtime_forever'])\n",
    "\n",
    "# Mostrar estadísticas descriptivas de la columna transformada\n",
    "print(\"Estadísticas Descriptivas de 'playtime_forever' tras Transformación Logarítmica:\")\n",
    "print(df_ui['playtime_forever_log'].describe())"
   ]
  },
  {
   "cell_type": "markdown",
   "metadata": {},
   "source": [
    "La transformación logarítmica aplicada a los datos de playtime_forever ha tenido varios efectos positivos que son evidentes en las estadísticas descriptivas.\n",
    "\n",
    "En primer lugar, se ha reducido la dispersión de los datos, lo que mitiga el impacto de los valores extremadamente altos.\n",
    "\n",
    "En segundo lugar, el rango de los datos transformados es más manejable y menos extremo en comparación con el rango original de playtime_forever. Esto facilita el manejo y la interpretación de los datos.\n",
    "\n",
    "Finalmente, la media y la mediana (50% percentil) de los datos transformados están más cercanas, lo que sugiere una distribución más simétrica en comparación con los datos originales y con ello favorece la interpretación de los datos."
   ]
  },
  {
   "cell_type": "markdown",
   "metadata": {},
   "source": [
    "## Visualización de datos de la columna \"genres\""
   ]
  },
  {
   "cell_type": "markdown",
   "metadata": {},
   "source": [
    "Primero queremos visualizar los géneros presentes en la columna. Al hacerlo, observamos que hay géneros repetidos, otros mal escritos y valores nulos. Por ello, necesitamos limpiar y normalizar la columna genres."
   ]
  },
  {
   "cell_type": "code",
   "execution_count": 15,
   "metadata": {},
   "outputs": [
    {
     "name": "stdout",
     "output_type": "stream",
     "text": [
      "Todos los Géneros Únicos en df_sg:\n",
      "['Action' ' Casual' ' Indie' ' Simulation' ' Strategy' 'Free to Play'\n",
      " ' RPG' 'Casual' ' Free to Play' ' Sports' ' Adventure' 'Adventure'\n",
      " 'Racing' ' Racing' 'Strategy' ' Early Access' 'Indie' 'RPG' 'Simulation'\n",
      " 'nan' ' Massively Multiplayer' 'Massively Multiplayer' 'Sports'\n",
      " 'Animation &amp; Modeling' 'Utilities' ' Web Publishing' 'Education'\n",
      " ' Software Training' ' Utilities' 'Design &amp; Illustration'\n",
      " ' Design &amp; Illustration' ' Education' ' Animation &amp; Modeling'\n",
      " ' Audio Production' 'Audio Production' ' Video Production'\n",
      " ' Photo Editing' 'Video Production' 'Software Training' 'Accounting'\n",
      " 'Web Publishing' 'Photo Editing' 'Early Access' ' Action']\n"
     ]
    }
   ],
   "source": [
    "# Revisar todos los géneros de la columna genres\n",
    "df_sg['genres'] = df_sg['genres'].str.split(',') # Convertimos en formato lista\n",
    "\n",
    "# Expandir los géneros\n",
    "df_sg_exploded = df_sg.explode('genres')\n",
    "\n",
    "# Obtener y mostrar todos los valores únicos de 'genres'\n",
    "unique_genres = df_sg_exploded['genres'].unique()\n",
    "print(\"Todos los Géneros Únicos en df_sg:\")\n",
    "print(unique_genres)\n"
   ]
  },
  {
   "cell_type": "code",
   "execution_count": 16,
   "metadata": {},
   "outputs": [],
   "source": [
    "#  Convertir listas de géneros en cadenas de texto\n",
    "df_sg['genres'] = df_sg['genres'].apply(lambda x: ','.join(x) if isinstance(x, list) else x)"
   ]
  },
  {
   "cell_type": "markdown",
   "metadata": {},
   "source": [
    "### Limpiar y normalizar la columna \"genres\""
   ]
  },
  {
   "cell_type": "code",
   "execution_count": 17,
   "metadata": {},
   "outputs": [
    {
     "name": "stdout",
     "output_type": "stream",
     "text": [
      "genres\n",
      "action                                                                                                    1786\n",
      "action,indie                                                                                              1571\n",
      "simulation                                                                                                1364\n",
      "casual,simulation                                                                                         1356\n",
      "action,adventure,indie                                                                                    1015\n",
      "                                                                                                          ... \n",
      "action,massively multiplayer,rpg,strategy                                                                    1\n",
      "adventure,casual,indie,racing,rpg,simulation,sports,strategy                                                 1\n",
      "animation &amp; modeling,audio production,design &amp; illustration,software training,video production       1\n",
      "action,free to play,simulation                                                                               1\n",
      "adventure,casual,rpg,simulation,early access                                                                 1\n",
      "Name: count, Length: 855, dtype: int64\n"
     ]
    }
   ],
   "source": [
    "# Creamos una función  para limpiar y normalizar la columna\n",
    "def limpiar_normalizar_genres(df, columna_genres):\n",
    "    # Dividir los géneros, limpiar y normalizar\n",
    "    df_expanded = df[columna_genres].str.split(',').explode().str.strip().str.lower()\n",
    "    df_expanded = df_expanded[df_expanded != 'nan']\n",
    "\n",
    "    # Reagrupar los géneros limpios y normalizados en la columna original\n",
    "    df[columna_genres] = df_expanded.groupby(df_expanded.index).agg(','.join)\n",
    "\n",
    "    return df\n",
    "\n",
    "df_sg = limpiar_normalizar_genres(df_sg, 'genres')\n",
    "\n",
    "# Mostrar los géneros únicos después de la limpieza y normalización\n",
    "print(df_sg['genres'].value_counts())\n"
   ]
  },
  {
   "cell_type": "markdown",
   "metadata": {},
   "source": [
    "### Géneros más jugados\n",
    "\n",
    "Exploramos los 10 juegos más jugados uniendo para ello la columna \"genres\" con \"playtime_forever_log\". Algunas conclusiones: \n",
    "\n",
    "La presencia de una variedad de géneros en el top 10, como \"indie\", \"adventure\", \"rpg\", y \"strategy\", indica que hay una diversidad de intereses entre los jugadores. Los usuarios no se limitan a un solo tipo de juego, sino que participan en una gama de experiencias de juego diferentes, siendo el más popular \"action\".\n",
    "\n",
    "El uso de logaritmos en el tiempo de juego (playtime_forever_log) sugiere que se ha hecho un esfuerzo por normalizar los datos y reducir el impacto de los valores extremos. Esto hace que la comparación entre géneros sea más equitativa y menos sesgada por unos pocos jugadores que pasan cantidades extraordinariamente altas de tiempo en ciertos juegos.\n"
   ]
  },
  {
   "cell_type": "code",
   "execution_count": 18,
   "metadata": {},
   "outputs": [
    {
     "name": "stdout",
     "output_type": "stream",
     "text": [
      "10 Géneros Más Jugados:\n",
      "genres\n",
      "action                   1.018632e+07\n",
      "indie                    6.276693e+06\n",
      "adventure                4.265541e+06\n",
      "rpg                      3.456415e+06\n",
      "strategy                 2.669478e+06\n",
      "free to play             2.464019e+06\n",
      "simulation               2.162394e+06\n",
      "casual                   1.559497e+06\n",
      "massively multiplayer    1.313647e+06\n",
      "early access             5.240731e+05\n",
      "Name: playtime_forever_log, dtype: float64\n"
     ]
    },
    {
     "data": {
      "image/png": "[encoded data removed]",
      "text/plain": [
       "<Figure size 1000x600 with 1 Axes>"
      ]
     },
     "metadata": {},
     "output_type": "display_data"
    }
   ],
   "source": [
    "\n",
    "# Creando copias de los DataFrames para el merge\n",
    "df_ui_copy = df_ui.copy()\n",
    "df_sg_copy = df_sg.copy()\n",
    "\n",
    "# Realizando el merge con las copias\n",
    "df_merged = pd.merge(df_ui_copy, df_sg_copy, left_on='item_id', right_on='id')\n",
    "\n",
    "# Asegurarse de que cada entrada en 'genres' es una cadena separada por comas\n",
    "df_merged['genres'] = df_merged['genres'].apply(lambda x: ','.join(x) if isinstance(x, list) else str(x))\n",
    "\n",
    "# Expandir los géneros y multiplicar cada género por el tiempo de juego\n",
    "df_merged['genres'] = df_merged['genres'].str.split(',')\n",
    "df_merged_exploded = df_merged.explode('genres')\n",
    "playtime_per_genre = df_merged_exploded.groupby('genres')['playtime_forever_log'].sum().sort_values(ascending=False)\n",
    "\n",
    "# Mostrar los 10 géneros más jugados\n",
    "print(\"10 Géneros Más Jugados:\")\n",
    "print(playtime_per_genre.head(10))\n",
    "\n",
    "# Crear el gráfico de barras para los 10 géneros más jugados\n",
    "top_10_genres = playtime_per_genre.head(10)\n",
    "plt.figure(figsize=(10, 6))\n",
    "sns.barplot(x=top_10_genres.values, y=top_10_genres.index)\n",
    "plt.title('Top 10 Géneros Más Jugados')\n",
    "plt.xlabel('Tiempo Total de Juego')\n",
    "plt.ylabel('Género')\n",
    "plt.show()\n"
   ]
  },
  {
   "cell_type": "markdown",
   "metadata": {},
   "source": [
    "### Cantidad de juegos por género\n",
    "\n",
    "Revisamos la cantidad de juegos por cada género con el fin de tener un concocimiento más acabado del co portamiento de los datos de la columna genres. Algunas conclusiones:\n",
    "\n",
    "Hay una amplia variedad de géneros representados, desde géneros populares y comunes como \"casual\", \"aventura\", \"estrategia\" y \"simulación\", hasta nichos más específicos como \"design & illustration\" y \"utilities\". Esto refleja una diversidad en los tipos de juegos ofrecidos, lo que podría atraer a una base de jugadores amplia y variada. Esto implica un desafío para la recolección de datos, pues el comportamiento de los juadores frente a distintos géneros de juego puede diferir de manera significativa. \n",
    "\n",
    "Por otro lado, podemos afirmar que hay una correlación positiva entre los géneros más jugados y los géneros con más juegos. Es presumible que los desarroladores publiquen juegos de aquellos géneros que tienen más demanda."
   ]
  },
  {
   "cell_type": "code",
   "execution_count": 19,
   "metadata": {},
   "outputs": [
    {
     "name": "stdout",
     "output_type": "stream",
     "text": [
      "Cantidad de Juegos por Género:\n",
      "genres\n",
      "indie                        15090\n",
      "action                       10651\n",
      "casual                        8050\n",
      "adventure                     7794\n",
      "strategy                      6682\n",
      "simulation                    6500\n",
      "rpg                           5116\n",
      "free to play                  1865\n",
      "early access                  1385\n",
      "sports                        1206\n",
      "racing                        1050\n",
      "massively multiplayer          995\n",
      "design &amp; illustration      451\n",
      "utilities                      320\n",
      "web publishing                 260\n",
      "animation &amp; modeling       172\n",
      "education                      122\n",
      "video production               103\n",
      "software training               99\n",
      "audio production                82\n",
      "photo editing                   77\n",
      "accounting                       7\n",
      "Name: count, dtype: int64\n"
     ]
    }
   ],
   "source": [
    "# Asegurarse de que la columna 'genres' está en formato de lista\n",
    "df_sg_copy = df_sg.copy()\n",
    "df_sg_copy['genres'] = df_sg_copy['genres'].str.split(',')\n",
    "\n",
    "# Expandir los géneros\n",
    "df_sg_exploded = df_sg_copy.explode('genres')\n",
    "\n",
    "# Contar la cantidad de juegos por género\n",
    "genre_counts = df_sg_exploded['genres'].value_counts()\n",
    "\n",
    "# Mostrar la cantidad de juegos por género\n",
    "print(\"Cantidad de Juegos por Género:\")\n",
    "print(genre_counts)\n"
   ]
  },
  {
   "cell_type": "code",
   "execution_count": 20,
   "metadata": {},
   "outputs": [
    {
     "data": {
      "image/png": "[encoded data removed]",
      "text/plain": [
       "<Figure size 1000x600 with 1 Axes>"
      ]
     },
     "metadata": {},
     "output_type": "display_data"
    }
   ],
   "source": [
    "# Crear un gráfico de barras para los primeros 10 géneros con más juegos\n",
    "top_10_genres = genre_counts.head(10)\n",
    "plt.figure(figsize=(10, 6))\n",
    "sns.barplot(x=top_10_genres.values, y=top_10_genres.index)\n",
    "plt.title('Top 10 Géneros con Más Juegos')\n",
    "plt.xlabel('Cantidad de Juegos')\n",
    "plt.ylabel('Género')\n",
    "plt.show()"
   ]
  },
  {
   "cell_type": "markdown",
   "metadata": {},
   "source": [
    "## Visualización de datos de la columna \"sentiment_analysis\"\n",
    "\n",
    "A continuación exploramos la columna \"sentiment_analysys\" observando su distribución. A partir de estos datos, podemos arrribar a algunas conclusiones:\n",
    "\n",
    "Predominio de Sentimientos Positivos: Un 56.54% de las entradas tienen un sentimiento positivo (representado por el número 2). Esto indica que la mayoría de las reseñas o comentarios asociados a los juegos del dataset son positivos. Para un modelo de recomendación, esto puede indicar que los usuarios generalmente están satisfechos con los juegos que juegan, lo que podría ser un factor importante para recomendar juegos similares.\n",
    "\n",
    "Presencia Significativa de Sentimientos Neutrales y Negativos: Aproximadamente un 43% de las entradas se distribuyen entre sentimientos neutrales (21.97%) y malos (21.49%). Esto es importante porque muestra que una proporción significativa de reseñas no son completamente positivas, lo cual es valioso para entender mejor las preferencias del usuario y para equilibrar las recomendaciones."
   ]
  },
  {
   "cell_type": "code",
   "execution_count": 21,
   "metadata": {},
   "outputs": [
    {
     "name": "stdout",
     "output_type": "stream",
     "text": [
      "Porcentajes de Sentimiento:\n",
      "2 (Positivo): 56.54%\n",
      "1 (Neutral): 21.97%\n",
      "0 (Malo): 21.49%\n"
     ]
    }
   ],
   "source": [
    "# Contar la frecuencia de cada categoría en 'sentiment_analysis'\n",
    "sentiment_counts = df_ur['sentiment_analysis'].value_counts()\n",
    "\n",
    "# Calcular el porcentaje de cada categoría\n",
    "sentiment_percentages = sentiment_counts / sentiment_counts.sum() * 100\n",
    "\n",
    "# Imprimir los porcentajes\n",
    "print(\"Porcentajes de Sentimiento:\")\n",
    "for sentiment, percentage in sentiment_percentages.items():\n",
    "    print(f\"{sentiment} ({'Malo' if sentiment == 0 else 'Neutral' if sentiment == 1 else 'Positivo'}): {percentage:.2f}%\")"
   ]
  },
  {
   "cell_type": "code",
   "execution_count": 22,
   "metadata": {},
   "outputs": [
    {
     "data": {
      "image/png": "[encoded data removed]",
      "text/plain": [
       "<Figure size 800x600 with 1 Axes>"
      ]
     },
     "metadata": {},
     "output_type": "display_data"
    }
   ],
   "source": [
    "# Crear etiquetas para las categorías de sentimiento\n",
    "labels = ['Malo' if sentiment == 0 else 'Neutral' if sentiment == 1 else 'Positivo' for sentiment in sentiment_percentages.index]\n",
    "\n",
    "# Crear un gráfico de barras para los porcentajes de sentimiento\n",
    "plt.figure(figsize=(8, 6))\n",
    "sns.barplot(x=labels, y=sentiment_percentages.values)\n",
    "plt.title('Porcentajes de Sentimiento')\n",
    "plt.xlabel('Sentimiento')\n",
    "plt.ylabel('Porcentaje (%)')\n",
    "plt.show()\n"
   ]
  },
  {
   "cell_type": "markdown",
   "metadata": {},
   "source": [
    "### Visualización de datos de la columna \"Recommend\"\n",
    "\n",
    "Podemos observar un predominio de recomendaciones positivas, lo cual concuerda con lo visto previamente con la columna \"sentiment_analysis\". Con 52,473 recomendaciones positivas (\"True\") frente a 6,832 recomendaciones negativas (\"False\"), nos sugiere que la mayoría de los usuarios tienden a recomendar los juegos que han jugado.\n",
    "\n",
    "Con todo, es necesario considerar un posible sesgo en las reseñas. Esto porque los usuarios pueden ser más propensos a dejar una reseña cuando tienen una experiencia positiva. Además, Si la columna \"sentiment_analysis\" ya proporciona una medida detallada de la percepción de los usuarios (positiva, neutral, negativa), la columna recommend (que parece ser una medida binaria de recomendación) podría ser algo redundante. La información más matizada de sentiment_analysis podría ser suficiente para capturar las preferencias y opiniones de los usuarios."
   ]
  },
  {
   "cell_type": "code",
   "execution_count": 23,
   "metadata": {},
   "outputs": [
    {
     "name": "stdout",
     "output_type": "stream",
     "text": [
      "\n",
      "Distribución de Recomendaciones:\n",
      "recommend\n",
      "True     52473\n",
      "False     6832\n",
      "Name: count, dtype: int64\n"
     ]
    },
    {
     "data": {
      "image/png": "[encoded data removed]",
      "text/plain": [
       "<Figure size 1000x600 with 1 Axes>"
      ]
     },
     "metadata": {},
     "output_type": "display_data"
    }
   ],
   "source": [
    "# Análisis de Recommend (Recomendar)\n",
    "print(\"\\nDistribución de Recomendaciones:\")\n",
    "print(df_ur['recommend'].value_counts())\n",
    "\n",
    "plt.figure(figsize=(10, 6))\n",
    "sns.countplot(x='recommend', data=df_ur)\n",
    "plt.title('Recomendaciones de los Juegos')\n",
    "plt.xlabel('Recomienda')\n",
    "plt.ylabel('Cantidad')\n",
    "plt.show()\n"
   ]
  },
  {
   "cell_type": "markdown",
   "metadata": {},
   "source": [
    "### Visualización de la columna \"release_year\""
   ]
  },
  {
   "cell_type": "code",
   "execution_count": 24,
   "metadata": {},
   "outputs": [],
   "source": [
    "df_sg['release_year'] = df_sg['release_year'].astype('int32')"
   ]
  },
  {
   "cell_type": "markdown",
   "metadata": {},
   "source": [
    "## Matriz de correlación\n",
    "\n",
    "Para construir una matriz de correlación útil para nuestro modelo de recomendación de videojuegos (item-item), es importante considerar solo aquellas variables que son relevantes para el sistema de recomendación.\n",
    "\n",
    "\"sentiment_analysis\": Es una variable numérica y podría tener influencia en la recomendación, ya que refleja la percepción de los usuarios sobre los juegos.\n",
    "\n",
    "\"playtime_forever\": Es una medida numérica del tiempo que un usuario ha pasado jugando un juego, lo cual es relevante para entender las preferencias de los usuarios.\n",
    "\n",
    "\"playtime_forever_log\": La versión logarítmica de \"playtime_forever\" puede ser útil para normalizar la distribución y podría ser más efectiva para el análisis.\n",
    "\n",
    "\"price\": Aunque el precio de un juego no es directamente un indicador de preferencia, podría estar correlacionado con ciertos tipos de juegos que los usuarios prefieren.\n",
    "\n",
    "\"release_year\": Puede ser interesante explorar si hay alguna relación entre el año de lanzamiento de un juego y su popularidad o las horas jugadas.\n",
    "\n",
    "Las columnas como \"user_id\", \"item_id\", \"steam_id\", \"item_name\", \"title\" y \"developer\" son categóricas o identificadores únicos y no son apropiadas para una matriz de correlación.\n",
    "\n",
    "Mención aparte para la columna \"genres\", la cual tampoco es conveniente incorporar en la matriz de correlación, ya que \"genres\" es una variable categórica que generalmente contiene múltiples géneros por juego, lo que la hace difícil de analizar directamente con métodos numéricos como la correlación.\n",
    "\n",
    "Para incluir \"genres\" en un análisis de correlación, habría que convertir esta variable categórica en un formato numérico con One-Hot Encoding. Sin embargo, esto puede resultar en una matriz muy grande y dispersa, lo que podría complicar el análisis y la interpretación. Por ello, previamente se hizo un análisis de la columna genres para explorar su contenido y comportamiento."
   ]
  },
  {
   "cell_type": "markdown",
   "metadata": {},
   "source": [
    "Antes de realizar la matriz de correlación debemos tomar una muestra del DataFrame df_ui puesto que tiene más de 3 millones de entradas y eso imposibilita su manipulación. Tomamos una muestra aletoria de 27635 muestras para igualarlo a los dataframes restantes."
   ]
  },
  {
   "cell_type": "code",
   "execution_count": 27,
   "metadata": {},
   "outputs": [
    {
     "name": "stdout",
     "output_type": "stream",
     "text": [
      "<class 'pandas.core.frame.DataFrame'>\n",
      "Index: 27635 entries, 1001479 to 1720768\n",
      "Data columns (total 7 columns):\n",
      " #   Column                Non-Null Count  Dtype  \n",
      "---  ------                --------------  -----  \n",
      " 0   user_id               27635 non-null  object \n",
      " 1   items_count           27635 non-null  int32  \n",
      " 2   steam_id              27635 non-null  int64  \n",
      " 3   item_id               27635 non-null  Int64  \n",
      " 4   item_name             27635 non-null  object \n",
      " 5   playtime_forever      27635 non-null  float64\n",
      " 6   playtime_forever_log  27635 non-null  float64\n",
      "dtypes: Int64(1), float64(2), int32(1), int64(1), object(2)\n",
      "memory usage: 1.6+ MB\n"
     ]
    }
   ],
   "source": [
    "# Crear una muestra aleatoria de 27635 filas\n",
    "df_ui_muestra = df_ui.sample(n=27635)\n",
    "\n",
    "# Verificar la información del DataFrame de muestra para confirmar el tamaño\n",
    "df_ui_muestra.info()\n"
   ]
  },
  {
   "cell_type": "code",
   "execution_count": 28,
   "metadata": {},
   "outputs": [
    {
     "name": "stdout",
     "output_type": "stream",
     "text": [
      "   item_id  sentiment_analysis  playtime_forever_log    id  price  \\\n",
      "0     1250                   2              6.779922  1250  19.99   \n",
      "1     1250                   2              6.669498  1250  19.99   \n",
      "2     1250                   2              4.912655  1250  19.99   \n",
      "3     1250                   2              9.520395  1250  19.99   \n",
      "4     1250                   2              6.364751  1250  19.99   \n",
      "\n",
      "   release_year  \n",
      "0          2009  \n",
      "1          2009  \n",
      "2          2009  \n",
      "3          2009  \n",
      "4          2009  \n"
     ]
    }
   ],
   "source": [
    "# Combinar df_ur y df_ui usando 'item_id'\n",
    "combined_df_1 = pd.merge(df_ur[['item_id', 'sentiment_analysis']], \n",
    "                         df_ui_muestra[['item_id', 'playtime_forever_log']], \n",
    "                         on='item_id')\n",
    "\n",
    "# Combinar el resultado anterior con df_sg\n",
    "combined_df = pd.merge(combined_df_1, \n",
    "                       df_sg[['id', 'price', 'release_year']], \n",
    "                       left_on='item_id', \n",
    "                       right_on='id')\n",
    "\n",
    "# Ahora 'combined_df' tiene las columnas requeridas: 'sentiment_analysis', 'playtime_forever_log', 'price', y 'release_year'\n",
    "print(combined_df.head())\n"
   ]
  },
  {
   "cell_type": "code",
   "execution_count": 29,
   "metadata": {},
   "outputs": [
    {
     "data": {
      "image/png": "[encoded data removed]",
      "text/plain": [
       "<Figure size 1000x800 with 2 Axes>"
      ]
     },
     "metadata": {},
     "output_type": "display_data"
    }
   ],
   "source": [
    "\n",
    "# Crear la matriz de correlación\n",
    "correlation_matrix = combined_df[['sentiment_analysis', 'playtime_forever_log', 'price', 'release_year']].corr()\n",
    "\n",
    "# Visualizar la matriz de correlación\n",
    "plt.figure(figsize=(10, 8))\n",
    "sns.heatmap(correlation_matrix, annot=True, cmap='coolwarm', fmt=\".2f\")\n",
    "plt.title(\"Matriz de Correlación\")\n",
    "plt.show()\n"
   ]
  },
  {
   "cell_type": "markdown",
   "metadata": {},
   "source": [
    "Conclusión para el modelo de recomendación item-item:\n",
    "\n",
    "Playtime_Forever_Log es la variable con la correlación más fuerte junto a price, aunque esta última sigue siendo baja. Playtime_forever_log es una variable relevante para el modelo, ya que el tiempo que los usuarios invierten en un juego puede influir en las recomendaciones de juegos similares.\n",
    "\n",
    "Por su parte, la columna price aunque su correlación con el tiempo de juego no es muy alta, podría ser útil para identificar juegos dentro de rangos de precio similares.\n",
    "\n",
    "Finalmente, las columnas Sentiment_Analysis y Release_Year tienen correlaciones muy bajas con las otras variables, lo que sugiere que podrían no ser tan relevantes para este modelo específico de recomendación basado en características de los juegos como el tiempo de juego y el precio."
   ]
  },
  {
   "cell_type": "code",
   "execution_count": 34,
   "metadata": {},
   "outputs": [],
   "source": [
    "\n",
    "# Guardar df_ui en formato Parquet\n",
    "df_ui.to_parquet('DataSet/definitivo_df_ui.parquet')\n",
    "\n",
    "# Guardar df_sg en formato Parquet\n",
    "df_sg.to_parquet('DataSet/definitivo_df_sg.parquet')\n"
   ]
  }
 ],
 "metadata": {
  "kernelspec": {
   "display_name": "mi_entorno_steam",
   "language": "python",
   "name": "python3"
  },
  "language_info": {
   "codemirror_mode": {
    "name": "ipython",
    "version": 3
   },
   "file_extension": ".py",
   "mimetype": "text/x-python",
   "name": "python",
   "nbconvert_exporter": "python",
   "pygments_lexer": "ipython3",
   "version": "3.11.5"
  }
 },
 "nbformat": 4,
 "nbformat_minor": 2
}
