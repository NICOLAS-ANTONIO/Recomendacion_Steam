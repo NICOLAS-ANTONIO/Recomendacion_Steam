{
 "cells": [
  {
   "cell_type": "code",
   "execution_count": 1,
   "metadata": {},
   "outputs": [],
   "source": [
    "import json  \n",
    "import pandas as pd  \n",
    "\n",
    "# Inicializa una lista vacía para almacenar los datos extraídos del archivo JSON\n",
    "rows = []\n",
    "\n",
    "# Abre el archivo JSON en modo de lectura ('r'). Especificar la codificación ('utf-8')\n",
    "with open('DataSet/output_steam_games.json', 'r', encoding='utf-8') as f:\n",
    "    # Iterar sobre cada línea del archivo\n",
    "    for line in f.readlines():\n",
    "        # Convertir cada línea a un diccionario de Python y agregarlo a la lista \"rows\"\n",
    "        rows.append(json.loads(line))\n",
    "\n",
    "# Crear un DataFrame a partir de la lista de diccionarios 'rows'\n",
    "df_sg = pd.DataFrame(rows)\n"
   ]
  },
  {
   "cell_type": "code",
   "execution_count": 2,
   "metadata": {},
   "outputs": [
    {
     "data": {
      "text/html": [
       "<div>\n",
       "<style scoped>\n",
       "    .dataframe tbody tr th:only-of-type {\n",
       "        vertical-align: middle;\n",
       "    }\n",
       "\n",
       "    .dataframe tbody tr th {\n",
       "        vertical-align: top;\n",
       "    }\n",
       "\n",
       "    .dataframe thead th {\n",
       "        text-align: right;\n",
       "    }\n",
       "</style>\n",
       "<table border=\"1\" class=\"dataframe\">\n",
       "  <thead>\n",
       "    <tr style=\"text-align: right;\">\n",
       "      <th></th>\n",
       "      <th>publisher</th>\n",
       "      <th>genres</th>\n",
       "      <th>app_name</th>\n",
       "      <th>title</th>\n",
       "      <th>url</th>\n",
       "      <th>release_date</th>\n",
       "      <th>tags</th>\n",
       "      <th>reviews_url</th>\n",
       "      <th>specs</th>\n",
       "      <th>price</th>\n",
       "      <th>early_access</th>\n",
       "      <th>id</th>\n",
       "      <th>developer</th>\n",
       "    </tr>\n",
       "  </thead>\n",
       "  <tbody>\n",
       "    <tr>\n",
       "      <th>0</th>\n",
       "      <td>NaN</td>\n",
       "      <td>NaN</td>\n",
       "      <td>NaN</td>\n",
       "      <td>NaN</td>\n",
       "      <td>NaN</td>\n",
       "      <td>NaN</td>\n",
       "      <td>NaN</td>\n",
       "      <td>NaN</td>\n",
       "      <td>NaN</td>\n",
       "      <td>NaN</td>\n",
       "      <td>NaN</td>\n",
       "      <td>NaN</td>\n",
       "      <td>NaN</td>\n",
       "    </tr>\n",
       "    <tr>\n",
       "      <th>1</th>\n",
       "      <td>NaN</td>\n",
       "      <td>NaN</td>\n",
       "      <td>NaN</td>\n",
       "      <td>NaN</td>\n",
       "      <td>NaN</td>\n",
       "      <td>NaN</td>\n",
       "      <td>NaN</td>\n",
       "      <td>NaN</td>\n",
       "      <td>NaN</td>\n",
       "      <td>NaN</td>\n",
       "      <td>NaN</td>\n",
       "      <td>NaN</td>\n",
       "      <td>NaN</td>\n",
       "    </tr>\n",
       "    <tr>\n",
       "      <th>2</th>\n",
       "      <td>NaN</td>\n",
       "      <td>NaN</td>\n",
       "      <td>NaN</td>\n",
       "      <td>NaN</td>\n",
       "      <td>NaN</td>\n",
       "      <td>NaN</td>\n",
       "      <td>NaN</td>\n",
       "      <td>NaN</td>\n",
       "      <td>NaN</td>\n",
       "      <td>NaN</td>\n",
       "      <td>NaN</td>\n",
       "      <td>NaN</td>\n",
       "      <td>NaN</td>\n",
       "    </tr>\n",
       "    <tr>\n",
       "      <th>3</th>\n",
       "      <td>NaN</td>\n",
       "      <td>NaN</td>\n",
       "      <td>NaN</td>\n",
       "      <td>NaN</td>\n",
       "      <td>NaN</td>\n",
       "      <td>NaN</td>\n",
       "      <td>NaN</td>\n",
       "      <td>NaN</td>\n",
       "      <td>NaN</td>\n",
       "      <td>NaN</td>\n",
       "      <td>NaN</td>\n",
       "      <td>NaN</td>\n",
       "      <td>NaN</td>\n",
       "    </tr>\n",
       "    <tr>\n",
       "      <th>4</th>\n",
       "      <td>NaN</td>\n",
       "      <td>NaN</td>\n",
       "      <td>NaN</td>\n",
       "      <td>NaN</td>\n",
       "      <td>NaN</td>\n",
       "      <td>NaN</td>\n",
       "      <td>NaN</td>\n",
       "      <td>NaN</td>\n",
       "      <td>NaN</td>\n",
       "      <td>NaN</td>\n",
       "      <td>NaN</td>\n",
       "      <td>NaN</td>\n",
       "      <td>NaN</td>\n",
       "    </tr>\n",
       "    <tr>\n",
       "      <th>...</th>\n",
       "      <td>...</td>\n",
       "      <td>...</td>\n",
       "      <td>...</td>\n",
       "      <td>...</td>\n",
       "      <td>...</td>\n",
       "      <td>...</td>\n",
       "      <td>...</td>\n",
       "      <td>...</td>\n",
       "      <td>...</td>\n",
       "      <td>...</td>\n",
       "      <td>...</td>\n",
       "      <td>...</td>\n",
       "      <td>...</td>\n",
       "    </tr>\n",
       "    <tr>\n",
       "      <th>120440</th>\n",
       "      <td>Ghost_RUS Games</td>\n",
       "      <td>[Casual, Indie, Simulation, Strategy]</td>\n",
       "      <td>Colony On Mars</td>\n",
       "      <td>Colony On Mars</td>\n",
       "      <td>http://store.steampowered.com/app/773640/Colon...</td>\n",
       "      <td>2018-01-04</td>\n",
       "      <td>[Strategy, Indie, Casual, Simulation]</td>\n",
       "      <td>http://steamcommunity.com/app/773640/reviews/?...</td>\n",
       "      <td>[Single-player, Steam Achievements]</td>\n",
       "      <td>1.99</td>\n",
       "      <td>False</td>\n",
       "      <td>773640</td>\n",
       "      <td>Nikita \"Ghost_RUS\"</td>\n",
       "    </tr>\n",
       "    <tr>\n",
       "      <th>120441</th>\n",
       "      <td>Sacada</td>\n",
       "      <td>[Casual, Indie, Strategy]</td>\n",
       "      <td>LOGistICAL: South Africa</td>\n",
       "      <td>LOGistICAL: South Africa</td>\n",
       "      <td>http://store.steampowered.com/app/733530/LOGis...</td>\n",
       "      <td>2018-01-04</td>\n",
       "      <td>[Strategy, Indie, Casual]</td>\n",
       "      <td>http://steamcommunity.com/app/733530/reviews/?...</td>\n",
       "      <td>[Single-player, Steam Achievements, Steam Clou...</td>\n",
       "      <td>4.99</td>\n",
       "      <td>False</td>\n",
       "      <td>733530</td>\n",
       "      <td>Sacada</td>\n",
       "    </tr>\n",
       "    <tr>\n",
       "      <th>120442</th>\n",
       "      <td>Laush Studio</td>\n",
       "      <td>[Indie, Racing, Simulation]</td>\n",
       "      <td>Russian Roads</td>\n",
       "      <td>Russian Roads</td>\n",
       "      <td>http://store.steampowered.com/app/610660/Russi...</td>\n",
       "      <td>2018-01-04</td>\n",
       "      <td>[Indie, Simulation, Racing]</td>\n",
       "      <td>http://steamcommunity.com/app/610660/reviews/?...</td>\n",
       "      <td>[Single-player, Steam Achievements, Steam Trad...</td>\n",
       "      <td>1.99</td>\n",
       "      <td>False</td>\n",
       "      <td>610660</td>\n",
       "      <td>Laush Dmitriy Sergeevich</td>\n",
       "    </tr>\n",
       "    <tr>\n",
       "      <th>120443</th>\n",
       "      <td>SIXNAILS</td>\n",
       "      <td>[Casual, Indie]</td>\n",
       "      <td>EXIT 2 - Directions</td>\n",
       "      <td>EXIT 2 - Directions</td>\n",
       "      <td>http://store.steampowered.com/app/658870/EXIT_...</td>\n",
       "      <td>2017-09-02</td>\n",
       "      <td>[Indie, Casual, Puzzle, Singleplayer, Atmosphe...</td>\n",
       "      <td>http://steamcommunity.com/app/658870/reviews/?...</td>\n",
       "      <td>[Single-player, Steam Achievements, Steam Cloud]</td>\n",
       "      <td>4.99</td>\n",
       "      <td>False</td>\n",
       "      <td>658870</td>\n",
       "      <td>xropi,stev3ns</td>\n",
       "    </tr>\n",
       "    <tr>\n",
       "      <th>120444</th>\n",
       "      <td>NaN</td>\n",
       "      <td>NaN</td>\n",
       "      <td>Maze Run VR</td>\n",
       "      <td>NaN</td>\n",
       "      <td>http://store.steampowered.com/app/681550/Maze_...</td>\n",
       "      <td>NaN</td>\n",
       "      <td>[Early Access, Adventure, Indie, Action, Simul...</td>\n",
       "      <td>http://steamcommunity.com/app/681550/reviews/?...</td>\n",
       "      <td>[Single-player, Stats, Steam Leaderboards, HTC...</td>\n",
       "      <td>4.99</td>\n",
       "      <td>True</td>\n",
       "      <td>681550</td>\n",
       "      <td>NaN</td>\n",
       "    </tr>\n",
       "  </tbody>\n",
       "</table>\n",
       "<p>120445 rows × 13 columns</p>\n",
       "</div>"
      ],
      "text/plain": [
       "              publisher                                 genres  \\\n",
       "0                   NaN                                    NaN   \n",
       "1                   NaN                                    NaN   \n",
       "2                   NaN                                    NaN   \n",
       "3                   NaN                                    NaN   \n",
       "4                   NaN                                    NaN   \n",
       "...                 ...                                    ...   \n",
       "120440  Ghost_RUS Games  [Casual, Indie, Simulation, Strategy]   \n",
       "120441           Sacada              [Casual, Indie, Strategy]   \n",
       "120442     Laush Studio            [Indie, Racing, Simulation]   \n",
       "120443         SIXNAILS                        [Casual, Indie]   \n",
       "120444              NaN                                    NaN   \n",
       "\n",
       "                        app_name                     title  \\\n",
       "0                            NaN                       NaN   \n",
       "1                            NaN                       NaN   \n",
       "2                            NaN                       NaN   \n",
       "3                            NaN                       NaN   \n",
       "4                            NaN                       NaN   \n",
       "...                          ...                       ...   \n",
       "120440            Colony On Mars            Colony On Mars   \n",
       "120441  LOGistICAL: South Africa  LOGistICAL: South Africa   \n",
       "120442             Russian Roads             Russian Roads   \n",
       "120443       EXIT 2 - Directions       EXIT 2 - Directions   \n",
       "120444               Maze Run VR                       NaN   \n",
       "\n",
       "                                                      url release_date  \\\n",
       "0                                                     NaN          NaN   \n",
       "1                                                     NaN          NaN   \n",
       "2                                                     NaN          NaN   \n",
       "3                                                     NaN          NaN   \n",
       "4                                                     NaN          NaN   \n",
       "...                                                   ...          ...   \n",
       "120440  http://store.steampowered.com/app/773640/Colon...   2018-01-04   \n",
       "120441  http://store.steampowered.com/app/733530/LOGis...   2018-01-04   \n",
       "120442  http://store.steampowered.com/app/610660/Russi...   2018-01-04   \n",
       "120443  http://store.steampowered.com/app/658870/EXIT_...   2017-09-02   \n",
       "120444  http://store.steampowered.com/app/681550/Maze_...          NaN   \n",
       "\n",
       "                                                     tags  \\\n",
       "0                                                     NaN   \n",
       "1                                                     NaN   \n",
       "2                                                     NaN   \n",
       "3                                                     NaN   \n",
       "4                                                     NaN   \n",
       "...                                                   ...   \n",
       "120440              [Strategy, Indie, Casual, Simulation]   \n",
       "120441                          [Strategy, Indie, Casual]   \n",
       "120442                        [Indie, Simulation, Racing]   \n",
       "120443  [Indie, Casual, Puzzle, Singleplayer, Atmosphe...   \n",
       "120444  [Early Access, Adventure, Indie, Action, Simul...   \n",
       "\n",
       "                                              reviews_url  \\\n",
       "0                                                     NaN   \n",
       "1                                                     NaN   \n",
       "2                                                     NaN   \n",
       "3                                                     NaN   \n",
       "4                                                     NaN   \n",
       "...                                                   ...   \n",
       "120440  http://steamcommunity.com/app/773640/reviews/?...   \n",
       "120441  http://steamcommunity.com/app/733530/reviews/?...   \n",
       "120442  http://steamcommunity.com/app/610660/reviews/?...   \n",
       "120443  http://steamcommunity.com/app/658870/reviews/?...   \n",
       "120444  http://steamcommunity.com/app/681550/reviews/?...   \n",
       "\n",
       "                                                    specs price early_access  \\\n",
       "0                                                     NaN   NaN          NaN   \n",
       "1                                                     NaN   NaN          NaN   \n",
       "2                                                     NaN   NaN          NaN   \n",
       "3                                                     NaN   NaN          NaN   \n",
       "4                                                     NaN   NaN          NaN   \n",
       "...                                                   ...   ...          ...   \n",
       "120440                [Single-player, Steam Achievements]  1.99        False   \n",
       "120441  [Single-player, Steam Achievements, Steam Clou...  4.99        False   \n",
       "120442  [Single-player, Steam Achievements, Steam Trad...  1.99        False   \n",
       "120443   [Single-player, Steam Achievements, Steam Cloud]  4.99        False   \n",
       "120444  [Single-player, Stats, Steam Leaderboards, HTC...  4.99         True   \n",
       "\n",
       "            id                 developer  \n",
       "0          NaN                       NaN  \n",
       "1          NaN                       NaN  \n",
       "2          NaN                       NaN  \n",
       "3          NaN                       NaN  \n",
       "4          NaN                       NaN  \n",
       "...        ...                       ...  \n",
       "120440  773640        Nikita \"Ghost_RUS\"  \n",
       "120441  733530                    Sacada  \n",
       "120442  610660  Laush Dmitriy Sergeevich  \n",
       "120443  658870             xropi,stev3ns  \n",
       "120444  681550                       NaN  \n",
       "\n",
       "[120445 rows x 13 columns]"
      ]
     },
     "execution_count": 2,
     "metadata": {},
     "output_type": "execute_result"
    }
   ],
   "source": [
    "df_sg"
   ]
  },
  {
   "cell_type": "code",
   "execution_count": 3,
   "metadata": {},
   "outputs": [
    {
     "name": "stdout",
     "output_type": "stream",
     "text": [
      "<class 'pandas.core.frame.DataFrame'>\n",
      "RangeIndex: 120445 entries, 0 to 120444\n",
      "Data columns (total 13 columns):\n",
      " #   Column        Non-Null Count  Dtype \n",
      "---  ------        --------------  ----- \n",
      " 0   publisher     24083 non-null  object\n",
      " 1   genres        28852 non-null  object\n",
      " 2   app_name      32133 non-null  object\n",
      " 3   title         30085 non-null  object\n",
      " 4   url           32135 non-null  object\n",
      " 5   release_date  30068 non-null  object\n",
      " 6   tags          31972 non-null  object\n",
      " 7   reviews_url   32133 non-null  object\n",
      " 8   specs         31465 non-null  object\n",
      " 9   price         30758 non-null  object\n",
      " 10  early_access  32135 non-null  object\n",
      " 11  id            32133 non-null  object\n",
      " 12  developer     28836 non-null  object\n",
      "dtypes: object(13)\n",
      "memory usage: 11.9+ MB\n"
     ]
    }
   ],
   "source": [
    "df_sg.info()"
   ]
  },
  {
   "cell_type": "code",
   "execution_count": 4,
   "metadata": {},
   "outputs": [
    {
     "name": "stdout",
     "output_type": "stream",
     "text": [
      "Número de filas con nulos en todas las columnas: 88310\n"
     ]
    }
   ],
   "source": [
    "# Contar filas con nulos en todas las columnas\n",
    "rows_with_all_nulls = df_sg[df_sg.isnull().all(axis=1)]\n",
    "\n",
    "# Mostrar el número de filas con nulos en todas las columnas\n",
    "print(\"Número de filas con nulos en todas las columnas:\", len(rows_with_all_nulls))\n"
   ]
  },
  {
   "cell_type": "code",
   "execution_count": 5,
   "metadata": {},
   "outputs": [
    {
     "name": "stdout",
     "output_type": "stream",
     "text": [
      "Número de filas después de eliminar nulos en todas las columnas: 32135\n"
     ]
    }
   ],
   "source": [
    "# Eliminar las filas con nulos en todas las columnas simultaneamente \n",
    "df_sg = df_sg.dropna(how='all')\n",
    "\n",
    "# Verificar que las filas se han eliminado correctamente\n",
    "print(\"Número de filas después de eliminar nulos en todas las columnas:\", len(df_sg))"
   ]
  },
  {
   "cell_type": "code",
   "execution_count": 6,
   "metadata": {},
   "outputs": [
    {
     "name": "stdout",
     "output_type": "stream",
     "text": [
      "<class 'pandas.core.frame.DataFrame'>\n",
      "Index: 32135 entries, 88310 to 120444\n",
      "Data columns (total 13 columns):\n",
      " #   Column        Non-Null Count  Dtype \n",
      "---  ------        --------------  ----- \n",
      " 0   publisher     24083 non-null  object\n",
      " 1   genres        28852 non-null  object\n",
      " 2   app_name      32133 non-null  object\n",
      " 3   title         30085 non-null  object\n",
      " 4   url           32135 non-null  object\n",
      " 5   release_date  30068 non-null  object\n",
      " 6   tags          31972 non-null  object\n",
      " 7   reviews_url   32133 non-null  object\n",
      " 8   specs         31465 non-null  object\n",
      " 9   price         30758 non-null  object\n",
      " 10  early_access  32135 non-null  object\n",
      " 11  id            32133 non-null  object\n",
      " 12  developer     28836 non-null  object\n",
      "dtypes: object(13)\n",
      "memory usage: 3.4+ MB\n"
     ]
    }
   ],
   "source": [
    "df_sg.info()"
   ]
  },
  {
   "cell_type": "code",
   "execution_count": 7,
   "metadata": {},
   "outputs": [
    {
     "data": {
      "text/html": [
       "<div>\n",
       "<style scoped>\n",
       "    .dataframe tbody tr th:only-of-type {\n",
       "        vertical-align: middle;\n",
       "    }\n",
       "\n",
       "    .dataframe tbody tr th {\n",
       "        vertical-align: top;\n",
       "    }\n",
       "\n",
       "    .dataframe thead th {\n",
       "        text-align: right;\n",
       "    }\n",
       "</style>\n",
       "<table border=\"1\" class=\"dataframe\">\n",
       "  <thead>\n",
       "    <tr style=\"text-align: right;\">\n",
       "      <th></th>\n",
       "      <th>publisher</th>\n",
       "      <th>genres</th>\n",
       "      <th>app_name</th>\n",
       "      <th>title</th>\n",
       "      <th>url</th>\n",
       "      <th>release_date</th>\n",
       "      <th>tags</th>\n",
       "      <th>reviews_url</th>\n",
       "      <th>specs</th>\n",
       "      <th>price</th>\n",
       "      <th>early_access</th>\n",
       "      <th>id</th>\n",
       "      <th>developer</th>\n",
       "    </tr>\n",
       "  </thead>\n",
       "  <tbody>\n",
       "    <tr>\n",
       "      <th>count</th>\n",
       "      <td>24083</td>\n",
       "      <td>28852</td>\n",
       "      <td>32133</td>\n",
       "      <td>30085</td>\n",
       "      <td>32135</td>\n",
       "      <td>30068</td>\n",
       "      <td>31972</td>\n",
       "      <td>32133</td>\n",
       "      <td>31465</td>\n",
       "      <td>30758.00</td>\n",
       "      <td>32135</td>\n",
       "      <td>32133</td>\n",
       "      <td>28836</td>\n",
       "    </tr>\n",
       "    <tr>\n",
       "      <th>unique</th>\n",
       "      <td>8239</td>\n",
       "      <td>883</td>\n",
       "      <td>32094</td>\n",
       "      <td>30054</td>\n",
       "      <td>32135</td>\n",
       "      <td>3582</td>\n",
       "      <td>15395</td>\n",
       "      <td>32132</td>\n",
       "      <td>4649</td>\n",
       "      <td>162.00</td>\n",
       "      <td>2</td>\n",
       "      <td>32132</td>\n",
       "      <td>10992</td>\n",
       "    </tr>\n",
       "    <tr>\n",
       "      <th>top</th>\n",
       "      <td>Ubisoft</td>\n",
       "      <td>[Action]</td>\n",
       "      <td>Soundtrack</td>\n",
       "      <td>Soundtrack</td>\n",
       "      <td>http://store.steampowered.com/app/761140/Lost_...</td>\n",
       "      <td>2012-10-16</td>\n",
       "      <td>[Casual, Simulation]</td>\n",
       "      <td>http://steamcommunity.com/app/612880/reviews/?...</td>\n",
       "      <td>[Single-player]</td>\n",
       "      <td>4.99</td>\n",
       "      <td>False</td>\n",
       "      <td>612880</td>\n",
       "      <td>Ubisoft - San Francisco</td>\n",
       "    </tr>\n",
       "    <tr>\n",
       "      <th>freq</th>\n",
       "      <td>385</td>\n",
       "      <td>1880</td>\n",
       "      <td>3</td>\n",
       "      <td>3</td>\n",
       "      <td>1</td>\n",
       "      <td>100</td>\n",
       "      <td>1292</td>\n",
       "      <td>2</td>\n",
       "      <td>2794</td>\n",
       "      <td>4278.00</td>\n",
       "      <td>30188</td>\n",
       "      <td>2</td>\n",
       "      <td>1259</td>\n",
       "    </tr>\n",
       "  </tbody>\n",
       "</table>\n",
       "</div>"
      ],
      "text/plain": [
       "       publisher    genres    app_name       title  \\\n",
       "count      24083     28852       32133       30085   \n",
       "unique      8239       883       32094       30054   \n",
       "top      Ubisoft  [Action]  Soundtrack  Soundtrack   \n",
       "freq         385      1880           3           3   \n",
       "\n",
       "                                                      url release_date  \\\n",
       "count                                               32135        30068   \n",
       "unique                                              32135         3582   \n",
       "top     http://store.steampowered.com/app/761140/Lost_...   2012-10-16   \n",
       "freq                                                    1          100   \n",
       "\n",
       "                        tags  \\\n",
       "count                  31972   \n",
       "unique                 15395   \n",
       "top     [Casual, Simulation]   \n",
       "freq                    1292   \n",
       "\n",
       "                                              reviews_url            specs  \\\n",
       "count                                               32133            31465   \n",
       "unique                                              32132             4649   \n",
       "top     http://steamcommunity.com/app/612880/reviews/?...  [Single-player]   \n",
       "freq                                                    2             2794   \n",
       "\n",
       "           price early_access      id                developer  \n",
       "count   30758.00        32135   32133                    28836  \n",
       "unique    162.00            2   32132                    10992  \n",
       "top         4.99        False  612880  Ubisoft - San Francisco  \n",
       "freq     4278.00        30188       2                     1259  "
      ]
     },
     "execution_count": 7,
     "metadata": {},
     "output_type": "execute_result"
    }
   ],
   "source": [
    "# Estadísticas descirptivas del DataFrame\n",
    "df_sg.describe()"
   ]
  },
  {
   "cell_type": "markdown",
   "metadata": {},
   "source": [
    "## Columna genres"
   ]
  },
  {
   "cell_type": "code",
   "execution_count": 8,
   "metadata": {},
   "outputs": [
    {
     "name": "stdout",
     "output_type": "stream",
     "text": [
      "88310        [Action, Casual, Indie, Simulation, Strategy]\n",
      "88311                 [Free to Play, Indie, RPG, Strategy]\n",
      "88312    [Casual, Free to Play, Indie, Simulation, Sports]\n",
      "88313                          [Action, Adventure, Casual]\n",
      "88314                                                  NaN\n",
      "Name: genres, dtype: object\n"
     ]
    }
   ],
   "source": [
    "# Imprimir filas de la columna 'genres'\n",
    "print(df_sg['genres'].head())"
   ]
  },
  {
   "cell_type": "code",
   "execution_count": 9,
   "metadata": {},
   "outputs": [
    {
     "name": "stdout",
     "output_type": "stream",
     "text": [
      "Número de valores nulos en 'genres': 3283\n",
      "Número de valores no nulos en 'genres': 28852\n"
     ]
    }
   ],
   "source": [
    "# Imprimir la cantidad de valores nulos en la columna 'genres'\n",
    "print(\"Número de valores nulos en 'genres':\", df_sg['genres'].isnull().sum())\n",
    "\n",
    "# Imprimir la cantidad de valores no nulos en 'genres'\n",
    "print(\"Número de valores no nulos en 'genres':\", df_sg['genres'].notnull().sum())"
   ]
  },
  {
   "cell_type": "markdown",
   "metadata": {},
   "source": [
    "## Columna tags"
   ]
  },
  {
   "cell_type": "code",
   "execution_count": 10,
   "metadata": {},
   "outputs": [
    {
     "name": "stdout",
     "output_type": "stream",
     "text": [
      "88310        [Strategy, Action, Indie, Casual, Simulation]\n",
      "88311    [Free to Play, Strategy, Indie, RPG, Card Game...\n",
      "88312    [Free to Play, Simulation, Sports, Casual, Ind...\n",
      "88313                          [Action, Adventure, Casual]\n",
      "88314                      [Action, Indie, Casual, Sports]\n",
      "Name: tags, dtype: object\n"
     ]
    }
   ],
   "source": [
    "# Imprimir filas de la columna 'tags'\n",
    "print(df_sg['tags'].head())"
   ]
  },
  {
   "cell_type": "code",
   "execution_count": 11,
   "metadata": {},
   "outputs": [
    {
     "name": "stdout",
     "output_type": "stream",
     "text": [
      "Número de valores nulos en 'tags': 163\n",
      "Número de valores no nulos en 'tags': 31972\n"
     ]
    }
   ],
   "source": [
    "# Imprimir la cantidad de valores nulos en la columna 'tags'\n",
    "print(\"Número de valores nulos en 'tags':\", df_sg['tags'].isnull().sum())\n",
    "\n",
    "# Imprimir la cantidad de valores no nulos en 'tags'\n",
    "print(\"Número de valores no nulos en 'tags':\", df_sg['tags'].notnull().sum())"
   ]
  },
  {
   "cell_type": "markdown",
   "metadata": {},
   "source": [
    "### Rellenar filas vacías de la columna genres con los valores de la columna tags"
   ]
  },
  {
   "cell_type": "markdown",
   "metadata": {},
   "source": [
    "Al observar la similitud entre la columna genres y tags, para evitar eliminar nulos y perder información valiosa para nuestro análisis, optamos por rellenar los valores faltantes de la columna genres, con los valores de la columna tags."
   ]
  },
  {
   "cell_type": "code",
   "execution_count": 12,
   "metadata": {},
   "outputs": [
    {
     "name": "stdout",
     "output_type": "stream",
     "text": [
      "Número de valores nulos en 'genres_filled': 0\n"
     ]
    },
    {
     "name": "stderr",
     "output_type": "stream",
     "text": [
      "C:\\Users\\nicol\\AppData\\Local\\Temp\\ipykernel_3088\\43977612.py:2: SettingWithCopyWarning: \n",
      "A value is trying to be set on a copy of a slice from a DataFrame.\n",
      "Try using .loc[row_indexer,col_indexer] = value instead\n",
      "\n",
      "See the caveats in the documentation: https://pandas.pydata.org/pandas-docs/stable/user_guide/indexing.html#returning-a-view-versus-a-copy\n",
      "  df_sg['genres_str'] = df_sg['genres'].astype(str)\n",
      "C:\\Users\\nicol\\AppData\\Local\\Temp\\ipykernel_3088\\43977612.py:3: SettingWithCopyWarning: \n",
      "A value is trying to be set on a copy of a slice from a DataFrame.\n",
      "Try using .loc[row_indexer,col_indexer] = value instead\n",
      "\n",
      "See the caveats in the documentation: https://pandas.pydata.org/pandas-docs/stable/user_guide/indexing.html#returning-a-view-versus-a-copy\n",
      "  df_sg['tags_str'] = df_sg['tags'].astype(str)\n",
      "C:\\Users\\nicol\\AppData\\Local\\Temp\\ipykernel_3088\\43977612.py:6: SettingWithCopyWarning: \n",
      "A value is trying to be set on a copy of a slice from a DataFrame.\n",
      "Try using .loc[row_indexer,col_indexer] = value instead\n",
      "\n",
      "See the caveats in the documentation: https://pandas.pydata.org/pandas-docs/stable/user_guide/indexing.html#returning-a-view-versus-a-copy\n",
      "  df_sg['genres_filled'] = df_sg['genres_str'].fillna(df_sg['tags_str'])\n",
      "C:\\Users\\nicol\\AppData\\Local\\Temp\\ipykernel_3088\\43977612.py:9: SettingWithCopyWarning: \n",
      "A value is trying to be set on a copy of a slice from a DataFrame\n",
      "\n",
      "See the caveats in the documentation: https://pandas.pydata.org/pandas-docs/stable/user_guide/indexing.html#returning-a-view-versus-a-copy\n",
      "  df_sg.drop(['genres_str', 'tags_str'], axis=1, inplace=True)\n"
     ]
    }
   ],
   "source": [
    "# Convertir las listas en cadenas en ambas columnas\n",
    "df_sg['genres_str'] = df_sg['genres'].astype(str)\n",
    "df_sg['tags_str'] = df_sg['tags'].astype(str)\n",
    "\n",
    "# Rellenar las filas vacías en 'genres' con los valores de 'tags'\n",
    "df_sg['genres_filled'] = df_sg['genres_str'].fillna(df_sg['tags_str'])\n",
    "\n",
    "# Eliminar columnas auxiliares\n",
    "df_sg.drop(['genres_str', 'tags_str'], axis=1, inplace=True)\n",
    "\n",
    "# Mostrar información después del proceso\n",
    "print(\"Número de valores nulos en 'genres_filled':\", df_sg['genres_filled'].isnull().sum())"
   ]
  },
  {
   "cell_type": "code",
   "execution_count": 13,
   "metadata": {},
   "outputs": [
    {
     "name": "stdout",
     "output_type": "stream",
     "text": [
      "Número de valores nulos en 'genres_filled': 0\n",
      "Número de valores no nulos en 'genres_filled': 32135\n"
     ]
    }
   ],
   "source": [
    "# Imprimir la cantidad de valores nulos en la columna 'genres_filled'\n",
    "print(\"Número de valores nulos en 'genres_filled':\", df_sg['genres_filled'].isnull().sum())\n",
    "\n",
    "# Imprimir la cantidad de valores no nulos en 'genres_filled'\n",
    "print(\"Número de valores no nulos en 'genres_filled':\", df_sg['genres_filled'].notnull().sum())"
   ]
  },
  {
   "cell_type": "code",
   "execution_count": 14,
   "metadata": {},
   "outputs": [
    {
     "name": "stderr",
     "output_type": "stream",
     "text": [
      "C:\\Users\\nicol\\AppData\\Local\\Temp\\ipykernel_3088\\479775121.py:2: SettingWithCopyWarning: \n",
      "A value is trying to be set on a copy of a slice from a DataFrame\n",
      "\n",
      "See the caveats in the documentation: https://pandas.pydata.org/pandas-docs/stable/user_guide/indexing.html#returning-a-view-versus-a-copy\n",
      "  df_sg.drop(['genres', 'tags'], axis=1, inplace=True)\n"
     ]
    }
   ],
   "source": [
    "# Eliminar las columnas 'genres' y 'tags'\n",
    "df_sg.drop(['genres', 'tags'], axis=1, inplace=True)"
   ]
  },
  {
   "cell_type": "code",
   "execution_count": 15,
   "metadata": {},
   "outputs": [
    {
     "name": "stderr",
     "output_type": "stream",
     "text": [
      "C:\\Users\\nicol\\AppData\\Local\\Temp\\ipykernel_3088\\3000696023.py:2: SettingWithCopyWarning: \n",
      "A value is trying to be set on a copy of a slice from a DataFrame\n",
      "\n",
      "See the caveats in the documentation: https://pandas.pydata.org/pandas-docs/stable/user_guide/indexing.html#returning-a-view-versus-a-copy\n",
      "  df_sg.rename(columns={'genres_filled': 'genres'}, inplace=True)\n"
     ]
    }
   ],
   "source": [
    "# Renombrar la columna\n",
    "df_sg.rename(columns={'genres_filled': 'genres'}, inplace=True)"
   ]
  },
  {
   "cell_type": "code",
   "execution_count": 16,
   "metadata": {},
   "outputs": [
    {
     "name": "stdout",
     "output_type": "stream",
     "text": [
      "88310        Action, Casual, Indie, Simulation, Strategy\n",
      "88311                 Free to Play, Indie, RPG, Strategy\n",
      "88312    Casual, Free to Play, Indie, Simulation, Sports\n",
      "88313                          Action, Adventure, Casual\n",
      "88314                                                nan\n",
      "Name: genres, dtype: object\n"
     ]
    },
    {
     "name": "stderr",
     "output_type": "stream",
     "text": [
      "C:\\Users\\nicol\\AppData\\Local\\Temp\\ipykernel_3088\\3313765434.py:2: SettingWithCopyWarning: \n",
      "A value is trying to be set on a copy of a slice from a DataFrame.\n",
      "Try using .loc[row_indexer,col_indexer] = value instead\n",
      "\n",
      "See the caveats in the documentation: https://pandas.pydata.org/pandas-docs/stable/user_guide/indexing.html#returning-a-view-versus-a-copy\n",
      "  df_sg['genres'] = df_sg['genres'].str.replace(r'\\[|\\]|\\'' , '', regex=True)\n"
     ]
    }
   ],
   "source": [
    "# Reemplazar los corchetes con cadenas vacías y las comillas vacías('') en la columna 'genres'\n",
    "df_sg['genres'] = df_sg['genres'].str.replace(r'\\[|\\]|\\'' , '', regex=True)\n",
    "\n",
    "# Imprimir las primeras filas para verificar los cambios\n",
    "print(df_sg['genres'].head())"
   ]
  },
  {
   "cell_type": "code",
   "execution_count": 17,
   "metadata": {},
   "outputs": [
    {
     "name": "stdout",
     "output_type": "stream",
     "text": [
      "88310         Action, Casual, Indie, Simulation, Strategy\n",
      "88311                  Free to Play, Indie, RPG, Strategy\n",
      "88312     Casual, Free to Play, Indie, Simulation, Sports\n",
      "88313                           Action, Adventure, Casual\n",
      "88314                                                 nan\n",
      "                               ...                       \n",
      "120440                Casual, Indie, Simulation, Strategy\n",
      "120441                            Casual, Indie, Strategy\n",
      "120442                          Indie, Racing, Simulation\n",
      "120443                                      Casual, Indie\n",
      "120444                                                nan\n",
      "Name: genres, Length: 32135, dtype: object\n"
     ]
    }
   ],
   "source": [
    "# Imprimir solo la columna genres_filled\n",
    "print(df_sg['genres'])\n"
   ]
  },
  {
   "cell_type": "markdown",
   "metadata": {},
   "source": [
    "## Columna app_name"
   ]
  },
  {
   "cell_type": "code",
   "execution_count": 18,
   "metadata": {},
   "outputs": [
    {
     "name": "stdout",
     "output_type": "stream",
     "text": [
      "88310        Lost Summoner Kitty\n",
      "88311                  Ironbound\n",
      "88312    Real Pool 3D - Poolians\n",
      "88313                    弹炸人2222\n",
      "88314              Log Challenge\n",
      "Name: app_name, dtype: object\n"
     ]
    }
   ],
   "source": [
    "# Imprimir filas de la columna 'app_name'\n",
    "print(df_sg['app_name'].head())"
   ]
  },
  {
   "cell_type": "code",
   "execution_count": 19,
   "metadata": {},
   "outputs": [
    {
     "name": "stdout",
     "output_type": "stream",
     "text": [
      "Número de valores nulos en 'app_name': 2\n",
      "Número de valores no nulos en 'app_name': 32133\n"
     ]
    }
   ],
   "source": [
    "# Imprimir la cantidad de valores nulos en la columna 'app_name'\n",
    "print(\"Número de valores nulos en 'app_name':\", df_sg['app_name'].isnull().sum())\n",
    "\n",
    "# Imprimir la cantidad de valores no nulos en 'title'\n",
    "print(\"Número de valores no nulos en 'app_name':\", df_sg['app_name'].notnull().sum())"
   ]
  },
  {
   "cell_type": "code",
   "execution_count": 20,
   "metadata": {},
   "outputs": [
    {
     "name": "stdout",
     "output_type": "stream",
     "text": [
      "Número de valores únicos en 'app_name': 32094\n"
     ]
    }
   ],
   "source": [
    "# Contar el número de valores únicos\n",
    "unique_app_name_count = df_sg['app_name'].nunique()\n",
    "\n",
    "# Imprime el número de valores únicos encontrados en la columna 'app_name'.\n",
    "print(f\"Número de valores únicos en 'app_name': {unique_app_name_count}\")\n"
   ]
  },
  {
   "cell_type": "markdown",
   "metadata": {},
   "source": [
    "## Columna title"
   ]
  },
  {
   "cell_type": "code",
   "execution_count": 21,
   "metadata": {},
   "outputs": [
    {
     "name": "stdout",
     "output_type": "stream",
     "text": [
      "88310        Lost Summoner Kitty\n",
      "88311                  Ironbound\n",
      "88312    Real Pool 3D - Poolians\n",
      "88313                    弹炸人2222\n",
      "88314                        NaN\n",
      "Name: title, dtype: object\n"
     ]
    }
   ],
   "source": [
    "# Imprimir filas de la columna 'title'\n",
    "print(df_sg['title'].head())"
   ]
  },
  {
   "cell_type": "code",
   "execution_count": 22,
   "metadata": {},
   "outputs": [
    {
     "name": "stdout",
     "output_type": "stream",
     "text": [
      "Número de valores nulos en 'title': 2050\n",
      "Número de valores no nulos en 'title': 30085\n"
     ]
    }
   ],
   "source": [
    "# Imprimir la cantidad de valores nulos en la columna 'title'\n",
    "print(\"Número de valores nulos en 'title':\", df_sg['title'].isnull().sum())\n",
    "\n",
    "# Imprimir la cantidad de valores no nulos en 'title'\n",
    "print(\"Número de valores no nulos en 'title':\", df_sg['title'].notnull().sum())"
   ]
  },
  {
   "cell_type": "code",
   "execution_count": 23,
   "metadata": {},
   "outputs": [
    {
     "name": "stdout",
     "output_type": "stream",
     "text": [
      "Número de valores únicos en 'title': 30054\n"
     ]
    }
   ],
   "source": [
    "# Calcula el número de títulos únicos presentes en la columna 'title'\n",
    "unique_title_count = df_sg['title'].nunique()\n",
    "\n",
    "# Imprime el número de títulos únicos en 'title'\n",
    "print(f\"Número de valores únicos en 'title': {unique_title_count}\")\n"
   ]
  },
  {
   "cell_type": "markdown",
   "metadata": {},
   "source": [
    "### Rellenar filas vacías de la columna title con los valores de la columna app_name"
   ]
  },
  {
   "cell_type": "markdown",
   "metadata": {},
   "source": [
    "Al observar la similitud entre la columna app_name y title, para evitar eliminar filas con nulos y perder información valiosa para nuestro análisis, optamos por rellenar los valores faltantes de la columna title, con los valores de la columna app_name."
   ]
  },
  {
   "cell_type": "code",
   "execution_count": 24,
   "metadata": {},
   "outputs": [
    {
     "name": "stderr",
     "output_type": "stream",
     "text": [
      "C:\\Users\\nicol\\AppData\\Local\\Temp\\ipykernel_3088\\3475956799.py:2: SettingWithCopyWarning: \n",
      "A value is trying to be set on a copy of a slice from a DataFrame\n",
      "\n",
      "See the caveats in the documentation: https://pandas.pydata.org/pandas-docs/stable/user_guide/indexing.html#returning-a-view-versus-a-copy\n",
      "  df_sg['title'].fillna(df_sg['app_name'], inplace=True)\n"
     ]
    }
   ],
   "source": [
    "# Rellenar los valores nulos en 'title' con los valores de 'app_name'\n",
    "df_sg['title'].fillna(df_sg['app_name'], inplace=True)\n"
   ]
  },
  {
   "cell_type": "code",
   "execution_count": 25,
   "metadata": {},
   "outputs": [
    {
     "name": "stdout",
     "output_type": "stream",
     "text": [
      "Número de valores nulos en 'title': 2\n",
      "Número de valores no nulos en 'title': 32133\n"
     ]
    }
   ],
   "source": [
    "# Imprimir la cantidad de valores nulos en la columna 'title'\n",
    "print(\"Número de valores nulos en 'title':\", df_sg['title'].isnull().sum())\n",
    "\n",
    "# Imprimir la cantidad de valores no nulos en 'title'\n",
    "print(\"Número de valores no nulos en 'title':\", df_sg['title'].notnull().sum())"
   ]
  },
  {
   "cell_type": "code",
   "execution_count": 26,
   "metadata": {},
   "outputs": [
    {
     "name": "stderr",
     "output_type": "stream",
     "text": [
      "C:\\Users\\nicol\\AppData\\Local\\Temp\\ipykernel_3088\\208677527.py:2: SettingWithCopyWarning: \n",
      "A value is trying to be set on a copy of a slice from a DataFrame\n",
      "\n",
      "See the caveats in the documentation: https://pandas.pydata.org/pandas-docs/stable/user_guide/indexing.html#returning-a-view-versus-a-copy\n",
      "  df_sg.drop(columns=['app_name'], inplace=True)\n"
     ]
    }
   ],
   "source": [
    "# Eliminar la columna 'app_name'\n",
    "df_sg.drop(columns=['app_name'], inplace=True)"
   ]
  },
  {
   "cell_type": "markdown",
   "metadata": {},
   "source": [
    "Revisamos si la nueva columna title tiene valores duplicados"
   ]
  },
  {
   "cell_type": "code",
   "execution_count": 27,
   "metadata": {},
   "outputs": [
    {
     "name": "stdout",
     "output_type": "stream",
     "text": [
      "                                                 title\n",
      "88384                                              NaN\n",
      "89378   Batman: Arkham City - Game of the Year Edition\n",
      "89818                     The Dream Machine: Chapter 4\n",
      "89819                     The Dream Machine: Chapter 4\n",
      "89975                                      Dark Matter\n",
      "...                                                ...\n",
      "118857                             AirMech® Soundtrack\n",
      "119271  Batman: Arkham City - Game of the Year Edition\n",
      "119713                                       Alter Ego\n",
      "119852                                        Altitude\n",
      "120307                               MORE SWEATER? OK!\n",
      "\n",
      "[77 rows x 1 columns]\n"
     ]
    }
   ],
   "source": [
    "duplicates = df_sg[df_sg.duplicated('title', keep=False)]\n",
    "print(duplicates[['title']])"
   ]
  },
  {
   "cell_type": "markdown",
   "metadata": {},
   "source": [
    "Los valores duplicados no aportan al proyecto. Además, no se justifican en esta columna, pues no se trata, por ejemplo, de versiones distintas del mismo juego. Asumimos que es información redundante y no aporta parsimonia al proyecto. Procedemos a eliminarlos."
   ]
  },
  {
   "cell_type": "code",
   "execution_count": 28,
   "metadata": {},
   "outputs": [],
   "source": [
    "# Eliminar duplicados\n",
    "df_sg = df_sg.drop_duplicates(subset='title', keep='first')"
   ]
  },
  {
   "cell_type": "code",
   "execution_count": 29,
   "metadata": {},
   "outputs": [
    {
     "data": {
      "text/plain": [
       "1"
      ]
     },
     "execution_count": 29,
     "metadata": {},
     "output_type": "execute_result"
    }
   ],
   "source": [
    "# Revisar nulos\n",
    "df_sg['title'].isnull().sum()"
   ]
  },
  {
   "cell_type": "code",
   "execution_count": 30,
   "metadata": {},
   "outputs": [],
   "source": [
    "# Eliminar filas con valores nulos en la columna 'title'\n",
    "df_sg = df_sg.dropna(subset=['title'])"
   ]
  },
  {
   "cell_type": "markdown",
   "metadata": {},
   "source": [
    "## Columna Publisher"
   ]
  },
  {
   "cell_type": "code",
   "execution_count": 31,
   "metadata": {},
   "outputs": [
    {
     "name": "stdout",
     "output_type": "stream",
     "text": [
      "Distribución de 'publisher':\n",
      "publisher\n",
      "Ubisoft                    385\n",
      "Dovetail Games - Trains    360\n",
      "Degica                     286\n",
      "Paradox Interactive        271\n",
      "SEGA                       250\n",
      "                          ... \n",
      "Atomic Wolf                  1\n",
      "Rockywood Studios            1\n",
      "Crabellum Games              1\n",
      "Auburn Sounds                1\n",
      "Bidoniera Games              1\n",
      "Name: count, Length: 8228, dtype: int64\n"
     ]
    }
   ],
   "source": [
    "# Mostrar la distribución general de los valores no nulos en la columna 'publisher'\n",
    "publisher_distribution = df_sg['publisher'].value_counts()\n",
    "print(\"Distribución de 'publisher':\")\n",
    "print(publisher_distribution)"
   ]
  },
  {
   "cell_type": "code",
   "execution_count": 32,
   "metadata": {},
   "outputs": [
    {
     "name": "stdout",
     "output_type": "stream",
     "text": [
      "\n",
      "Número total de editores únicos: 8228\n"
     ]
    }
   ],
   "source": [
    "# Obtener el número total de valores únicos en la columna 'publisher'\n",
    "total_unique_publishers = df_sg['publisher'].nunique()\n",
    "print(\"\\nNúmero total de editores únicos:\", total_unique_publishers)"
   ]
  },
  {
   "cell_type": "code",
   "execution_count": 33,
   "metadata": {},
   "outputs": [
    {
     "name": "stdout",
     "output_type": "stream",
     "text": [
      "Número de valores nulos en 'publisher': 8042\n",
      "Número de valores no nulos en 'publisher': 24053\n"
     ]
    }
   ],
   "source": [
    "# Contar nulos y no nulos en la columna 'publisher'\n",
    "null_count = df_sg['publisher'].isnull().sum()\n",
    "not_null_count = df_sg['publisher'].notnull().sum()\n",
    "\n",
    "print(\"Número de valores nulos en 'publisher':\", null_count)\n",
    "print(\"Número de valores no nulos en 'publisher':\", not_null_count)"
   ]
  },
  {
   "cell_type": "markdown",
   "metadata": {},
   "source": [
    "## Columna developer"
   ]
  },
  {
   "cell_type": "code",
   "execution_count": 34,
   "metadata": {},
   "outputs": [
    {
     "name": "stdout",
     "output_type": "stream",
     "text": [
      "Frecuencia de cada desarrollador: developer\n",
      "Ubisoft - San Francisco                     1259\n",
      "SmiteWorks USA, LLC                          813\n",
      "Dovetail Games                               253\n",
      "KOEI TECMO GAMES CO., LTD.                   232\n",
      "Paradox Development Studio                   156\n",
      "                                            ... \n",
      "Class of  2016-2017                            1\n",
      "Pirotexnik                                     1\n",
      "ElVery333,Raquel Covelo Suarez,ATopeCode       1\n",
      "MNB                                            1\n",
      "Bidoniera Games                                1\n",
      "Name: count, Length: 10979, dtype: int64\n"
     ]
    }
   ],
   "source": [
    "# Mostrar la distribución general de los valores no nulos en la columna 'developer'\n",
    "developer_counts = df_sg['developer'].value_counts()\n",
    "print(\"Frecuencia de cada desarrollador:\", developer_counts)"
   ]
  },
  {
   "cell_type": "code",
   "execution_count": 35,
   "metadata": {},
   "outputs": [
    {
     "name": "stdout",
     "output_type": "stream",
     "text": [
      "Número de valores nulos en 'developer': 3290\n",
      "Número de valores no nulos en 'developer': 28805\n"
     ]
    }
   ],
   "source": [
    "# Contar nulos y no nulos en la columna 'publisher'\n",
    "print(\"Número de valores nulos en 'developer':\", df_sg['developer'].isnull().sum())\n",
    "print(\"Número de valores no nulos en 'developer':\", df_sg['developer'].notnull().sum())"
   ]
  },
  {
   "cell_type": "code",
   "execution_count": 36,
   "metadata": {},
   "outputs": [
    {
     "name": "stdout",
     "output_type": "stream",
     "text": [
      "\n",
      "Número total de desarrolladores únicos: 10979\n"
     ]
    }
   ],
   "source": [
    "# Obtener el número total de valores únicos en la columna 'developer'\n",
    "total_unique_publishers = df_sg['developer'].nunique()\n",
    "print(\"\\nNúmero total de desarrolladores únicos:\", total_unique_publishers)"
   ]
  },
  {
   "cell_type": "markdown",
   "metadata": {},
   "source": [
    "### Rellenar filas vacías de la columna developer con los valores de la columna publisher"
   ]
  },
  {
   "cell_type": "markdown",
   "metadata": {},
   "source": [
    "La columna \"Publisher\" hace alusion a la entidad responsable de distribuir y comercializar el juego. Si bien, no son los mismos valores en todas las filas de \"developer\" y \"publisher\", en muchos casos coinciden. Es preferible tener información al menos de quien comercializa el juego, antes que ninguna información en la columna \"developer\". De esta forma, logramos salvar filas que cuentan con información imortante para el presente proyecto."
   ]
  },
  {
   "cell_type": "code",
   "execution_count": 37,
   "metadata": {},
   "outputs": [
    {
     "name": "stdout",
     "output_type": "stream",
     "text": [
      "Número de valores nulos en 'developer_filled': 3225\n"
     ]
    }
   ],
   "source": [
    "# Rellenar las filas vacías en 'developer' con los valores de 'publisher'\n",
    "df_sg['developer_filled'] = df_sg['developer'].fillna(df_sg['publisher'])\n",
    "\n",
    "# Mostrar información después del proceso\n",
    "print(\"Número de valores nulos en 'developer_filled':\", df_sg['developer_filled'].isnull().sum()) \n",
    "\n",
    "# Eliminar la columna 'publisher'\n",
    "df_sg = df_sg.drop('publisher', axis=1)\n",
    "\n",
    "# Eliminar la columna 'developer'\n",
    "df_sg.drop(['developer'], axis=1, inplace=True)"
   ]
  },
  {
   "cell_type": "code",
   "execution_count": 38,
   "metadata": {},
   "outputs": [],
   "source": [
    "# Renombrar la columna\n",
    "df_sg.rename(columns={'developer_filled': 'developer'}, inplace=True)"
   ]
  },
  {
   "cell_type": "markdown",
   "metadata": {},
   "source": [
    "Revisamos ahora los valores nulos de la nueva columna que hemos creado."
   ]
  },
  {
   "cell_type": "code",
   "execution_count": 39,
   "metadata": {},
   "outputs": [
    {
     "name": "stdout",
     "output_type": "stream",
     "text": [
      "Número de valores nulos en la columna 'developer': 3225\n"
     ]
    }
   ],
   "source": [
    "# Revisar nulos\n",
    "null_developers = df_sg['developer'].isnull().sum()\n",
    "print(f\"Número de valores nulos en la columna 'developer': {null_developers}\")"
   ]
  },
  {
   "cell_type": "markdown",
   "metadata": {},
   "source": [
    "Exploramos la naturaleza de los nulos de la columna developer. Para ello tomamos una muestra de los valores nulos de la columna  y la comparamos con las mismas filas en las columnas title y genres"
   ]
  },
  {
   "cell_type": "code",
   "execution_count": 40,
   "metadata": {},
   "outputs": [
    {
     "name": "stdout",
     "output_type": "stream",
     "text": [
      "                                             title genres\n",
      "88314                                Log Challenge    nan\n",
      "88321                         Icarus Six Sixty Six    nan\n",
      "88329                                After Life VR    nan\n",
      "88330                                   Kitty Hawk    nan\n",
      "88332                                   Mortars VR    nan\n",
      "...                                            ...    ...\n",
      "120428   Robotpencil Presents: Exercise: Brushwork    nan\n",
      "120429  Robotpencil Presents: Creative Composition    nan\n",
      "120430                            The Gamble House    nan\n",
      "120431    Kalen Chock Presents: 2017 Free Tutorial    nan\n",
      "120444                                 Maze Run VR    nan\n",
      "\n",
      "[3225 rows x 2 columns]\n"
     ]
    }
   ],
   "source": [
    "# Filtrar filas con valores nulos en 'developer'\n",
    "null_developer_rows = df_sg[df_sg['developer'].isnull()]\n",
    "\n",
    "# Mostrar algunas filas específicas\n",
    "print(null_developer_rows[['title', 'genres']])"
   ]
  },
  {
   "cell_type": "code",
   "execution_count": 41,
   "metadata": {},
   "outputs": [
    {
     "name": "stdout",
     "output_type": "stream",
     "text": [
      "Número de filas con 'nan' en 'genres': 3275\n",
      "Número de filas con géneros específicos: 28820\n"
     ]
    }
   ],
   "source": [
    "# Contar la cantidad de filas con 'nan' y con géneros específicos\n",
    "nan_genre_count = len(df_sg[df_sg['genres'] == 'nan'])\n",
    "specific_genre_count = len(df_sg[df_sg['genres'] != 'nan'])\n",
    "\n",
    "print(\"Número de filas con 'nan' en 'genres':\", nan_genre_count)\n",
    "print(\"Número de filas con géneros específicos:\", specific_genre_count)"
   ]
  },
  {
   "cell_type": "markdown",
   "metadata": {},
   "source": [
    "Podemos advertir que las filas con nulos en la columna developer también lo son en genres. Estos valores parecen estar relacionados,  por lo que eliminarlos podría mejorar la consistencia del conjunto de datos."
   ]
  },
  {
   "cell_type": "code",
   "execution_count": 42,
   "metadata": {},
   "outputs": [],
   "source": [
    "# Eliminar los nulos de la columna developer\n",
    "df_sg = df_sg.dropna(subset=['developer'])"
   ]
  },
  {
   "cell_type": "markdown",
   "metadata": {},
   "source": [
    "## Columna url"
   ]
  },
  {
   "cell_type": "code",
   "execution_count": 43,
   "metadata": {},
   "outputs": [
    {
     "name": "stdout",
     "output_type": "stream",
     "text": [
      "88310     http://store.steampowered.com/app/761140/Lost_...\n",
      "88311     http://store.steampowered.com/app/643980/Ironb...\n",
      "88312     http://store.steampowered.com/app/670290/Real_...\n",
      "88313        http://store.steampowered.com/app/767400/2222/\n",
      "88315     http://store.steampowered.com/app/772540/Battl...\n",
      "                                ...                        \n",
      "120439    http://store.steampowered.com/app/745400/Kebab...\n",
      "120440    http://store.steampowered.com/app/773640/Colon...\n",
      "120441    http://store.steampowered.com/app/733530/LOGis...\n",
      "120442    http://store.steampowered.com/app/610660/Russi...\n",
      "120443    http://store.steampowered.com/app/658870/EXIT_...\n",
      "Name: url, Length: 28870, dtype: object\n"
     ]
    }
   ],
   "source": [
    "# Imprimir columna \"url\"\n",
    "print(df_sg['url'])"
   ]
  },
  {
   "cell_type": "markdown",
   "metadata": {},
   "source": [
    "La información que nos entrega la columna \"url\" es irrelevante a efectos del presente proyecto."
   ]
  },
  {
   "cell_type": "code",
   "execution_count": 44,
   "metadata": {},
   "outputs": [],
   "source": [
    "# Eliminar columna \"url\"\n",
    "df_sg.drop(columns=['url'], inplace=True)"
   ]
  },
  {
   "cell_type": "markdown",
   "metadata": {},
   "source": [
    "## Columna release_date"
   ]
  },
  {
   "cell_type": "code",
   "execution_count": 45,
   "metadata": {},
   "outputs": [
    {
     "name": "stdout",
     "output_type": "stream",
     "text": [
      "88310    2018-01-04\n",
      "88311    2018-01-04\n",
      "88312    2017-07-24\n",
      "88313    2017-12-07\n",
      "88315    2018-01-04\n",
      "Name: release_date, dtype: object\n"
     ]
    }
   ],
   "source": [
    "# Imprimir filas de la columna 'release_date'\n",
    "print(df_sg['release_date'].head())"
   ]
  },
  {
   "cell_type": "code",
   "execution_count": 46,
   "metadata": {},
   "outputs": [
    {
     "name": "stdout",
     "output_type": "stream",
     "text": [
      "Número de valores nulos en 'release_date': 18\n",
      "Número de valores no nulos en 'release_date': 28852\n"
     ]
    }
   ],
   "source": [
    "# Imprimir la cantidad de valores nulos en la columna 'release_date'\n",
    "print(\"Número de valores nulos en 'release_date':\", df_sg['release_date'].isnull().sum())\n",
    "\n",
    "# Imprimir la cantidad de valores no nulos en 'release_date'\n",
    "print(\"Número de valores no nulos en 'release_date':\", df_sg['release_date'].notnull().sum())"
   ]
  },
  {
   "cell_type": "markdown",
   "metadata": {},
   "source": [
    "A efectos de las funciones a desarrollar, así como el modelo de recomendación, sólo necesitamos el año de la columna release_date."
   ]
  },
  {
   "cell_type": "code",
   "execution_count": 47,
   "metadata": {},
   "outputs": [
    {
     "name": "stdout",
     "output_type": "stream",
     "text": [
      "88310     2018.0\n",
      "88311     2018.0\n",
      "88312     2017.0\n",
      "88313     2017.0\n",
      "88315     2018.0\n",
      "           ...  \n",
      "120439    2018.0\n",
      "120440    2018.0\n",
      "120441    2018.0\n",
      "120442    2018.0\n",
      "120443    2017.0\n",
      "Name: release_year, Length: 28870, dtype: float64\n"
     ]
    }
   ],
   "source": [
    "# Convertir la columna 'release_date' a formato de fecha\n",
    "df_sg['release_date'] = pd.to_datetime(df_sg['release_date'], errors='coerce')\n",
    "\n",
    "# Crear una nueva columna 'release_year' que contiene el año\n",
    "df_sg['release_year'] = df_sg['release_date'].dt.year\n",
    "\n",
    "# Imprimir la nueva columna 'release_year'\n",
    "print(df_sg['release_year'])\n"
   ]
  },
  {
   "cell_type": "code",
   "execution_count": 48,
   "metadata": {},
   "outputs": [
    {
     "name": "stdout",
     "output_type": "stream",
     "text": [
      "Número de valores nulos en 'release_year': 302\n",
      "Número de valores no nulos en 'release_year': 28568\n"
     ]
    }
   ],
   "source": [
    "# Imprimir la cantidad de valores nulos en la columna 'release_year'\n",
    "print(\"Número de valores nulos en 'release_year':\", df_sg['release_year'].isnull().sum())\n",
    "\n",
    "# Imprimir la cantidad de valores no nulos en 'release_year'\n",
    "print(\"Número de valores no nulos en 'release_year':\", df_sg['release_year'].notnull().sum())"
   ]
  },
  {
   "cell_type": "markdown",
   "metadata": {},
   "source": [
    "Los valores nulos en 'release_year' representan una pequeña fracción del total (302 de 28870, es aproximadamente el 1%). Por ello, decidimos imputar estos valores faltantes con la media pues, al ser una proporción tan baja, no distorsiona significativamente la distribución general de los datos. Así podemos salvar estas filas que contienen información relevante para nuestro propósito."
   ]
  },
  {
   "cell_type": "code",
   "execution_count": 49,
   "metadata": {},
   "outputs": [],
   "source": [
    "# Imputar la media de 'release_year' a los nulos\n",
    "mean_release_year = df_sg['release_year'].mean()\n",
    "df_sg['release_year'].fillna(mean_release_year, inplace=True)\n"
   ]
  },
  {
   "cell_type": "code",
   "execution_count": 50,
   "metadata": {},
   "outputs": [],
   "source": [
    "# Eliminar la columna 'release_date'\n",
    "df_sg.drop(columns=['release_date'], inplace=True)\n"
   ]
  },
  {
   "cell_type": "markdown",
   "metadata": {},
   "source": [
    "## Columna reviews_url"
   ]
  },
  {
   "cell_type": "code",
   "execution_count": 51,
   "metadata": {},
   "outputs": [
    {
     "name": "stdout",
     "output_type": "stream",
     "text": [
      "88310     http://steamcommunity.com/app/761140/reviews/?...\n",
      "88311     http://steamcommunity.com/app/643980/reviews/?...\n",
      "88312     http://steamcommunity.com/app/670290/reviews/?...\n",
      "88313     http://steamcommunity.com/app/767400/reviews/?...\n",
      "88315     http://steamcommunity.com/app/772540/reviews/?...\n",
      "                                ...                        \n",
      "120439    http://steamcommunity.com/app/745400/reviews/?...\n",
      "120440    http://steamcommunity.com/app/773640/reviews/?...\n",
      "120441    http://steamcommunity.com/app/733530/reviews/?...\n",
      "120442    http://steamcommunity.com/app/610660/reviews/?...\n",
      "120443    http://steamcommunity.com/app/658870/reviews/?...\n",
      "Name: reviews_url, Length: 28870, dtype: object\n"
     ]
    }
   ],
   "source": [
    "# Imprimir la columna 'reviews_url'\n",
    "print(df_sg['reviews_url'])\n"
   ]
  },
  {
   "cell_type": "markdown",
   "metadata": {},
   "source": [
    "El contenido de la columna \"reviews_url\" no es relevante para el presente proyecto, por lo que podemos prescindir de ella."
   ]
  },
  {
   "cell_type": "code",
   "execution_count": 52,
   "metadata": {},
   "outputs": [],
   "source": [
    "# Eliminar la columna 'reviews_url'\n",
    "df_sg.drop('reviews_url', axis=1, inplace=True)\n"
   ]
  },
  {
   "cell_type": "markdown",
   "metadata": {},
   "source": [
    "## Columna specs"
   ]
  },
  {
   "cell_type": "code",
   "execution_count": 53,
   "metadata": {},
   "outputs": [
    {
     "name": "stdout",
     "output_type": "stream",
     "text": [
      "88310                                       [Single-player]\n",
      "88311     [Single-player, Multi-player, Online Multi-Pla...\n",
      "88312     [Single-player, Multi-player, Online Multi-Pla...\n",
      "88313                                       [Single-player]\n",
      "88315                   [Single-player, Steam Achievements]\n",
      "                                ...                        \n",
      "120439     [Single-player, Steam Achievements, Steam Cloud]\n",
      "120440                  [Single-player, Steam Achievements]\n",
      "120441    [Single-player, Steam Achievements, Steam Clou...\n",
      "120442    [Single-player, Steam Achievements, Steam Trad...\n",
      "120443     [Single-player, Steam Achievements, Steam Cloud]\n",
      "Name: specs, Length: 28870, dtype: object\n"
     ]
    }
   ],
   "source": [
    "# Imprimir la columna 'specs'\n",
    "print(df_sg['specs'])"
   ]
  },
  {
   "cell_type": "markdown",
   "metadata": {},
   "source": [
    "El contenido de esta columna no es útil para nuestro proyecto."
   ]
  },
  {
   "cell_type": "code",
   "execution_count": 54,
   "metadata": {},
   "outputs": [],
   "source": [
    "# Eliminar la columna \"specs\"\n",
    "df_sg = df_sg.drop('specs', axis=1)\n"
   ]
  },
  {
   "cell_type": "markdown",
   "metadata": {},
   "source": [
    "## Columna price"
   ]
  },
  {
   "cell_type": "code",
   "execution_count": 55,
   "metadata": {},
   "outputs": [
    {
     "name": "stdout",
     "output_type": "stream",
     "text": [
      "88310            4.99\n",
      "88311    Free To Play\n",
      "88312    Free to Play\n",
      "88313            0.99\n",
      "88315            3.99\n",
      "Name: price, dtype: object\n"
     ]
    }
   ],
   "source": [
    "# Imprimir filas de la columna 'price'\n",
    "print(df_sg['price'].head())"
   ]
  },
  {
   "cell_type": "code",
   "execution_count": 56,
   "metadata": {},
   "outputs": [
    {
     "name": "stdout",
     "output_type": "stream",
     "text": [
      "Número de valores nulos en 'price': 1235\n",
      "Número de valores no nulos en 'price': 27635\n"
     ]
    }
   ],
   "source": [
    "# Número de valores nulos en 'price'\n",
    "null_count_price = df_sg['price'].isnull().sum()\n",
    "\n",
    "# Número de valores no nulos en 'price'\n",
    "non_null_count_price = df_sg['price'].notnull().sum()\n",
    "\n",
    "# Imprimir los resultados\n",
    "print(f\"Número de valores nulos en 'price': {null_count_price}\")\n",
    "print(f\"Número de valores no nulos en 'price': {non_null_count_price}\")"
   ]
  },
  {
   "cell_type": "code",
   "execution_count": 57,
   "metadata": {},
   "outputs": [
    {
     "name": "stdout",
     "output_type": "stream",
     "text": [
      "Valores únicos en la columna 'price': [4.99 'Free To Play' 'Free to Play' 0.99 3.99 9.99 18.99 29.99 nan 10.99\n",
      " 2.99 1.59 14.99 1.99 59.99 8.99 6.99 7.99 39.99 'Free' 19.99 7.49 12.99\n",
      " 5.99 2.49 15.99 1.25 24.99 17.99 61.99 3.49 11.99 13.99 'Free Demo'\n",
      " 'Play for Free!' 34.99 74.76 1.49 32.99 99.99 14.95 69.99 16.99 79.99\n",
      " 49.99 5.0 13.98 29.96 119.99 109.99 149.99 771.71 'Install Now' 21.99\n",
      " 89.99 'Play WARMACHINE: Tactics Demo' 0.98 139.92 4.29 'Free Mod' 54.99\n",
      " 64.99 74.99 'Install Theme' 0.89 'Third-party' 0.5 'Play Now' 299.99 1.29\n",
      " 44.99 3.0 15.0 5.49 23.99 49.0 10.93 1.39 'Free HITMAN™ Holiday Pack'\n",
      " 36.99 4.49 2.0 4.0 234.99 1.95 1.5 199.0 189.0 6.66 27.99 129.99 179.0\n",
      " 26.99 399.99 31.99 399.0 20.0 40.0 3.33 22.99 320.0 38.85 71.7 995.0\n",
      " 27.49 3.39 6.0 19.95 20.99 499.99 199.99 16.06 4.68 131.4 44.98 202.76\n",
      " 2.3 0.95 172.24 249.99 2.97 10.96 10.0 30.0 2.66 6.48 1.0 11.15\n",
      " 'Play the Demo' 99.0 87.94 0.49 9.98 9.95 7.0 12.89 6.49 1.87 42.99 41.99\n",
      " 289.99 'Free to Try' 23.96 5.65 12.0 59.95 13.37 189.96 124.99 19.98\n",
      " 160.91 'Free to Use']\n"
     ]
    }
   ],
   "source": [
    "# Valores únicos en la columna 'price'\n",
    "unique_prices = df_sg['price'].unique()\n",
    "\n",
    "# Imprimir los resultados\n",
    "print(\"Valores únicos en la columna 'price':\", unique_prices)"
   ]
  },
  {
   "cell_type": "code",
   "execution_count": 58,
   "metadata": {},
   "outputs": [
    {
     "name": "stdout",
     "output_type": "stream",
     "text": [
      "Valores únicos que no son números con decimales en la columna 'price': ['Free To Play' 'Free to Play' nan 'Free' 'Free Demo' 'Play for Free!'\n",
      " 'Install Now' 'Play WARMACHINE: Tactics Demo' 'Free Mod' 'Install Theme'\n",
      " 'Third-party' 'Play Now' 'Free HITMAN™ Holiday Pack' 'Play the Demo'\n",
      " 'Free to Try' 'Free to Use']\n"
     ]
    }
   ],
   "source": [
    "# Filtrar solo los valores no numéricos o que no son números flotantes\n",
    "non_float_prices = df_sg['price'].loc[~df_sg['price'].astype(str).str.match(r'^\\d+\\.\\d+$')].unique()\n",
    "\n",
    "# Imprimir los resultados\n",
    "print(\"Valores únicos que no son números con decimales en la columna 'price':\", non_float_prices)"
   ]
  },
  {
   "cell_type": "code",
   "execution_count": 59,
   "metadata": {},
   "outputs": [],
   "source": [
    "# Lista de valores que deben convertirse a 0.00\n",
    "non_float_values = ['Free To Play', 'Free to Play', 'Free', 'Free Demo', 'Play for Free!',\n",
    "                    'Install Now', 'Play WARMACHINE: Tactics Demo', 'Free Mod', 'Install Theme',\n",
    "                    'Third-party', 'Play Now', 'Free HITMAN™ Holiday Pack', 'Play the Demo',\n",
    "                    'Starting at $499.00', 'Starting at $449.00', 'Free to Try', 'Free Movie',\n",
    "                    'Free to Use']\n",
    "\n",
    "# Reemplazar los valores específicos con 0.00 y mantener los NaN\n",
    "df_sg['price'] = df_sg['price'].replace(non_float_values, 0.00)"
   ]
  },
  {
   "cell_type": "code",
   "execution_count": 60,
   "metadata": {},
   "outputs": [
    {
     "name": "stdout",
     "output_type": "stream",
     "text": [
      "88310     4.99\n",
      "88311     0.00\n",
      "88312     0.00\n",
      "88313     0.99\n",
      "88315     3.99\n",
      "          ... \n",
      "120439    1.99\n",
      "120440    1.99\n",
      "120441    4.99\n",
      "120442    1.99\n",
      "120443    4.99\n",
      "Name: price, Length: 28870, dtype: float64\n"
     ]
    }
   ],
   "source": [
    "# Convertir la columna 'price' a tipo de dato float\n",
    "df_sg['price'] = pd.to_numeric(df_sg['price'], errors='coerce')\n",
    "\n",
    "# Imprimir la columna 'price'\n",
    "print(df_sg['price'])"
   ]
  },
  {
   "cell_type": "code",
   "execution_count": 61,
   "metadata": {},
   "outputs": [
    {
     "name": "stdout",
     "output_type": "stream",
     "text": [
      "Número de valores nulos en 'price': 1235\n",
      "Número de valores no nulos en 'price': 27635\n"
     ]
    }
   ],
   "source": [
    "# Número de valores nulos en 'price'\n",
    "null_count_price = df_sg['price'].isnull().sum()\n",
    "\n",
    "# Número de valores no nulos en 'price'\n",
    "non_null_count_price = df_sg['price'].notnull().sum()\n",
    "\n",
    "# Imprimir los resultados\n",
    "print(f\"Número de valores nulos en 'price': {null_count_price}\")\n",
    "print(f\"Número de valores no nulos en 'price': {non_null_count_price}\")"
   ]
  },
  {
   "cell_type": "markdown",
   "metadata": {},
   "source": [
    "Revisamos nuevamente los valores nulos"
   ]
  },
  {
   "cell_type": "code",
   "execution_count": 62,
   "metadata": {},
   "outputs": [
    {
     "name": "stdout",
     "output_type": "stream",
     "text": [
      "Número de valores nulos en la columna 'price': 1235\n"
     ]
    }
   ],
   "source": [
    "# Sumar nulos de la columna \"price\"\n",
    "nulos_id = df_sg['price'].isnull().sum()\n",
    "print(f\"Número de valores nulos en la columna 'price': {nulos_id}\")"
   ]
  },
  {
   "cell_type": "code",
   "execution_count": 63,
   "metadata": {},
   "outputs": [
    {
     "name": "stdout",
     "output_type": "stream",
     "text": [
      "Proporción de valores nulos en 'price': 4.28%\n"
     ]
    }
   ],
   "source": [
    "# Calcular la proporción de valores nulos en 'price'\n",
    "proporcion_nulos_price = df_sg['price'].isnull().sum() / len(df_sg)\n",
    "\n",
    "# Imprime la proporción de valores nulos en 'price'\n",
    "print(f\"Proporción de valores nulos en 'price': {proporcion_nulos_price:.2%}\")"
   ]
  },
  {
   "cell_type": "markdown",
   "metadata": {},
   "source": [
    "Dado que la proporción de valores nulos en la columna 'price' es baja (4.28%), eliminar estos registros nulos es razonable."
   ]
  },
  {
   "cell_type": "code",
   "execution_count": 64,
   "metadata": {},
   "outputs": [],
   "source": [
    "# Eliminar filas con valores nulos en la columna 'price'\n",
    "df_sg = df_sg.dropna(subset=['price'])"
   ]
  },
  {
   "cell_type": "markdown",
   "metadata": {},
   "source": [
    "## Columna early_access"
   ]
  },
  {
   "cell_type": "code",
   "execution_count": 65,
   "metadata": {},
   "outputs": [
    {
     "name": "stdout",
     "output_type": "stream",
     "text": [
      "88310    False\n",
      "88311    False\n",
      "88312    False\n",
      "88313    False\n",
      "88315    False\n",
      "Name: early_access, dtype: object\n"
     ]
    }
   ],
   "source": [
    "# Imprimir filas de la columna 'early_access'\n",
    "print(df_sg['early_access'].head())"
   ]
  },
  {
   "cell_type": "code",
   "execution_count": 66,
   "metadata": {},
   "outputs": [
    {
     "name": "stdout",
     "output_type": "stream",
     "text": [
      "Número de valores nulos en 'early_access': 0\n",
      "Número de valores no nulos en 'early_access': 27635\n"
     ]
    }
   ],
   "source": [
    "# Valores nulos y no nulos en la columna 'early_access'\n",
    "print(\"Número de valores nulos en 'early_access':\", df_sg['early_access'].isnull().sum())\n",
    "print(\"Número de valores no nulos en 'early_access':\", df_sg['early_access'].count())"
   ]
  },
  {
   "cell_type": "code",
   "execution_count": 67,
   "metadata": {},
   "outputs": [
    {
     "name": "stdout",
     "output_type": "stream",
     "text": [
      "[False True]\n"
     ]
    }
   ],
   "source": [
    "# Mostrar los valores únicos de la columna early_access\n",
    "unique_values = df_sg['early_access'].unique()\n",
    "\n",
    "# Imprimir los valores únicos\n",
    "print(unique_values)\n"
   ]
  },
  {
   "cell_type": "code",
   "execution_count": 68,
   "metadata": {},
   "outputs": [
    {
     "name": "stdout",
     "output_type": "stream",
     "text": [
      "bool\n"
     ]
    }
   ],
   "source": [
    "# Convertir la columna 'early_access' a booleano\n",
    "df_sg['early_access'] = df_sg['early_access'].astype(bool)\n",
    "\n",
    "# Verificar el cambio\n",
    "print(df_sg['early_access'].dtype)\n"
   ]
  },
  {
   "cell_type": "markdown",
   "metadata": {},
   "source": [
    "## Columna id"
   ]
  },
  {
   "cell_type": "code",
   "execution_count": 69,
   "metadata": {},
   "outputs": [
    {
     "name": "stdout",
     "output_type": "stream",
     "text": [
      "88310    761140\n",
      "88311    643980\n",
      "88312    670290\n",
      "88313    767400\n",
      "88315    772540\n",
      "Name: id, dtype: object\n"
     ]
    }
   ],
   "source": [
    "# Imprimir filas de la columna 'id'\n",
    "print(df_sg['id'].head())"
   ]
  },
  {
   "cell_type": "code",
   "execution_count": 70,
   "metadata": {},
   "outputs": [
    {
     "name": "stdout",
     "output_type": "stream",
     "text": [
      "Nulos en 'id': 0\n",
      "No nulos en 'id': 27635\n"
     ]
    }
   ],
   "source": [
    "# Nulos y no nulos en la columna 'id'\n",
    "print(\"Nulos en 'id':\", df_sg['id'].isnull().sum())\n",
    "print(\"No nulos en 'id':\", df_sg['id'].notnull().sum())"
   ]
  },
  {
   "cell_type": "code",
   "execution_count": 71,
   "metadata": {},
   "outputs": [],
   "source": [
    "# Convertir la columna 'id' a tipo entero\n",
    "df_sg['id'] = pd.to_numeric(df_sg['id'], errors='coerce', downcast='integer')"
   ]
  },
  {
   "cell_type": "markdown",
   "metadata": {},
   "source": [
    "Revisión del resultado de las transformaciones realizadas sobre el DataSet original output_steam_games.json"
   ]
  },
  {
   "cell_type": "code",
   "execution_count": 72,
   "metadata": {},
   "outputs": [
    {
     "data": {
      "text/html": [
       "<div>\n",
       "<style scoped>\n",
       "    .dataframe tbody tr th:only-of-type {\n",
       "        vertical-align: middle;\n",
       "    }\n",
       "\n",
       "    .dataframe tbody tr th {\n",
       "        vertical-align: top;\n",
       "    }\n",
       "\n",
       "    .dataframe thead th {\n",
       "        text-align: right;\n",
       "    }\n",
       "</style>\n",
       "<table border=\"1\" class=\"dataframe\">\n",
       "  <thead>\n",
       "    <tr style=\"text-align: right;\">\n",
       "      <th></th>\n",
       "      <th>title</th>\n",
       "      <th>price</th>\n",
       "      <th>early_access</th>\n",
       "      <th>id</th>\n",
       "      <th>genres</th>\n",
       "      <th>developer</th>\n",
       "      <th>release_year</th>\n",
       "    </tr>\n",
       "  </thead>\n",
       "  <tbody>\n",
       "    <tr>\n",
       "      <th>88310</th>\n",
       "      <td>Lost Summoner Kitty</td>\n",
       "      <td>4.99</td>\n",
       "      <td>False</td>\n",
       "      <td>761140</td>\n",
       "      <td>Action, Casual, Indie, Simulation, Strategy</td>\n",
       "      <td>Kotoshiro</td>\n",
       "      <td>2018.0</td>\n",
       "    </tr>\n",
       "    <tr>\n",
       "      <th>88311</th>\n",
       "      <td>Ironbound</td>\n",
       "      <td>0.00</td>\n",
       "      <td>False</td>\n",
       "      <td>643980</td>\n",
       "      <td>Free to Play, Indie, RPG, Strategy</td>\n",
       "      <td>Secret Level SRL</td>\n",
       "      <td>2018.0</td>\n",
       "    </tr>\n",
       "    <tr>\n",
       "      <th>88312</th>\n",
       "      <td>Real Pool 3D - Poolians</td>\n",
       "      <td>0.00</td>\n",
       "      <td>False</td>\n",
       "      <td>670290</td>\n",
       "      <td>Casual, Free to Play, Indie, Simulation, Sports</td>\n",
       "      <td>Poolians.com</td>\n",
       "      <td>2017.0</td>\n",
       "    </tr>\n",
       "    <tr>\n",
       "      <th>88313</th>\n",
       "      <td>弹炸人2222</td>\n",
       "      <td>0.99</td>\n",
       "      <td>False</td>\n",
       "      <td>767400</td>\n",
       "      <td>Action, Adventure, Casual</td>\n",
       "      <td>彼岸领域</td>\n",
       "      <td>2017.0</td>\n",
       "    </tr>\n",
       "    <tr>\n",
       "      <th>88315</th>\n",
       "      <td>Battle Royale Trainer</td>\n",
       "      <td>3.99</td>\n",
       "      <td>False</td>\n",
       "      <td>772540</td>\n",
       "      <td>Action, Adventure, Simulation</td>\n",
       "      <td>Trickjump Games Ltd</td>\n",
       "      <td>2018.0</td>\n",
       "    </tr>\n",
       "    <tr>\n",
       "      <th>...</th>\n",
       "      <td>...</td>\n",
       "      <td>...</td>\n",
       "      <td>...</td>\n",
       "      <td>...</td>\n",
       "      <td>...</td>\n",
       "      <td>...</td>\n",
       "      <td>...</td>\n",
       "    </tr>\n",
       "    <tr>\n",
       "      <th>120439</th>\n",
       "      <td>Kebab it Up!</td>\n",
       "      <td>1.99</td>\n",
       "      <td>False</td>\n",
       "      <td>745400</td>\n",
       "      <td>Action, Adventure, Casual, Indie</td>\n",
       "      <td>Bidoniera Games</td>\n",
       "      <td>2018.0</td>\n",
       "    </tr>\n",
       "    <tr>\n",
       "      <th>120440</th>\n",
       "      <td>Colony On Mars</td>\n",
       "      <td>1.99</td>\n",
       "      <td>False</td>\n",
       "      <td>773640</td>\n",
       "      <td>Casual, Indie, Simulation, Strategy</td>\n",
       "      <td>Nikita \"Ghost_RUS\"</td>\n",
       "      <td>2018.0</td>\n",
       "    </tr>\n",
       "    <tr>\n",
       "      <th>120441</th>\n",
       "      <td>LOGistICAL: South Africa</td>\n",
       "      <td>4.99</td>\n",
       "      <td>False</td>\n",
       "      <td>733530</td>\n",
       "      <td>Casual, Indie, Strategy</td>\n",
       "      <td>Sacada</td>\n",
       "      <td>2018.0</td>\n",
       "    </tr>\n",
       "    <tr>\n",
       "      <th>120442</th>\n",
       "      <td>Russian Roads</td>\n",
       "      <td>1.99</td>\n",
       "      <td>False</td>\n",
       "      <td>610660</td>\n",
       "      <td>Indie, Racing, Simulation</td>\n",
       "      <td>Laush Dmitriy Sergeevich</td>\n",
       "      <td>2018.0</td>\n",
       "    </tr>\n",
       "    <tr>\n",
       "      <th>120443</th>\n",
       "      <td>EXIT 2 - Directions</td>\n",
       "      <td>4.99</td>\n",
       "      <td>False</td>\n",
       "      <td>658870</td>\n",
       "      <td>Casual, Indie</td>\n",
       "      <td>xropi,stev3ns</td>\n",
       "      <td>2017.0</td>\n",
       "    </tr>\n",
       "  </tbody>\n",
       "</table>\n",
       "<p>27635 rows × 7 columns</p>\n",
       "</div>"
      ],
      "text/plain": [
       "                           title  price  early_access      id  \\\n",
       "88310        Lost Summoner Kitty   4.99         False  761140   \n",
       "88311                  Ironbound   0.00         False  643980   \n",
       "88312    Real Pool 3D - Poolians   0.00         False  670290   \n",
       "88313                    弹炸人2222   0.99         False  767400   \n",
       "88315      Battle Royale Trainer   3.99         False  772540   \n",
       "...                          ...    ...           ...     ...   \n",
       "120439              Kebab it Up!   1.99         False  745400   \n",
       "120440            Colony On Mars   1.99         False  773640   \n",
       "120441  LOGistICAL: South Africa   4.99         False  733530   \n",
       "120442             Russian Roads   1.99         False  610660   \n",
       "120443       EXIT 2 - Directions   4.99         False  658870   \n",
       "\n",
       "                                                 genres  \\\n",
       "88310       Action, Casual, Indie, Simulation, Strategy   \n",
       "88311                Free to Play, Indie, RPG, Strategy   \n",
       "88312   Casual, Free to Play, Indie, Simulation, Sports   \n",
       "88313                         Action, Adventure, Casual   \n",
       "88315                     Action, Adventure, Simulation   \n",
       "...                                                 ...   \n",
       "120439                 Action, Adventure, Casual, Indie   \n",
       "120440              Casual, Indie, Simulation, Strategy   \n",
       "120441                          Casual, Indie, Strategy   \n",
       "120442                        Indie, Racing, Simulation   \n",
       "120443                                    Casual, Indie   \n",
       "\n",
       "                       developer  release_year  \n",
       "88310                  Kotoshiro        2018.0  \n",
       "88311           Secret Level SRL        2018.0  \n",
       "88312               Poolians.com        2017.0  \n",
       "88313                       彼岸领域        2017.0  \n",
       "88315        Trickjump Games Ltd        2018.0  \n",
       "...                          ...           ...  \n",
       "120439           Bidoniera Games        2018.0  \n",
       "120440        Nikita \"Ghost_RUS\"        2018.0  \n",
       "120441                    Sacada        2018.0  \n",
       "120442  Laush Dmitriy Sergeevich        2018.0  \n",
       "120443             xropi,stev3ns        2017.0  \n",
       "\n",
       "[27635 rows x 7 columns]"
      ]
     },
     "execution_count": 72,
     "metadata": {},
     "output_type": "execute_result"
    }
   ],
   "source": [
    "df_sg"
   ]
  },
  {
   "cell_type": "code",
   "execution_count": 73,
   "metadata": {},
   "outputs": [
    {
     "name": "stdout",
     "output_type": "stream",
     "text": [
      "<class 'pandas.core.frame.DataFrame'>\n",
      "Index: 27635 entries, 88310 to 120443\n",
      "Data columns (total 7 columns):\n",
      " #   Column        Non-Null Count  Dtype  \n",
      "---  ------        --------------  -----  \n",
      " 0   title         27635 non-null  object \n",
      " 1   price         27635 non-null  float64\n",
      " 2   early_access  27635 non-null  bool   \n",
      " 3   id            27635 non-null  int32  \n",
      " 4   genres        27635 non-null  object \n",
      " 5   developer     27635 non-null  object \n",
      " 6   release_year  27635 non-null  float64\n",
      "dtypes: bool(1), float64(2), int32(1), object(3)\n",
      "memory usage: 1.4+ MB\n"
     ]
    }
   ],
   "source": [
    "df_sg.info()"
   ]
  },
  {
   "cell_type": "code",
   "execution_count": 74,
   "metadata": {},
   "outputs": [],
   "source": [
    "# Reiniciar el índice\n",
    "df_sg = df_sg.reset_index(drop=True)"
   ]
  },
  {
   "cell_type": "code",
   "execution_count": 75,
   "metadata": {},
   "outputs": [
    {
     "name": "stdout",
     "output_type": "stream",
     "text": [
      "El archivo Parquet DataSet/clean_df_sg.parquet ha sido creado.\n"
     ]
    }
   ],
   "source": [
    "# Rutas de los archivos CSV y Parquet\n",
    "# csv_path = 'DataSet/clean_df_sg.csv'\n",
    "parquet_path = 'DataSet/clean_df_sg.parquet'\n",
    "\n",
    "# Guardar el DataFrame como un archivo CSV\n",
    "# df_sg.to_csv(csv_path, index=False)\n",
    "\n",
    "\n",
    "# Guardar el DataFrame como un archivo Parquet\n",
    "df_sg.to_parquet(parquet_path, index=False)\n",
    "print(f'El archivo Parquet {parquet_path} ha sido creado.')"
   ]
  }
 ],
 "metadata": {
  "kernelspec": {
   "display_name": "mi_entorno_steam",
   "language": "python",
   "name": "python3"
  },
  "language_info": {
   "codemirror_mode": {
    "name": "ipython",
    "version": 3
   },
   "file_extension": ".py",
   "mimetype": "text/x-python",
   "name": "python",
   "nbconvert_exporter": "python",
   "pygments_lexer": "ipython3",
   "version": "3.11.5"
  }
 },
 "nbformat": 4,
 "nbformat_minor": 2
}
